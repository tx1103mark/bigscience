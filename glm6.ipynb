{
  "cells": [
    {
      "cell_type": "markdown",
      "metadata": {
        "id": "view-in-github",
        "colab_type": "text"
      },
      "source": [
        "<a href=\"https://colab.research.google.com/github/tx1103mark/bigscience/blob/master/glm6.ipynb\" target=\"_parent\"><img src=\"https://colab.research.google.com/assets/colab-badge.svg\" alt=\"Open In Colab\"/></a>"
      ]
    },
    {
      "cell_type": "markdown",
      "metadata": {
        "id": "Wf5KrEb6vrkR"
      },
      "source": [
        "<div class=\"markdown-google-sans\">\n",
        "  <h1>Welcome to Colab!</h1>\n",
        "</div>\n",
        "\n",
        "<div class=\"markdown-google-sans\">\n",
        "  <h2>Explore the Gemini API</h2>\n",
        "  <p>The Gemini API gives you access to Gemini models created by Google DeepMind. Gemini models are built from the ground up to be multimodal, so you can reason seamlessly across text, images, code, and audio.\n",
        "  </p>\n",
        "  <strong>How to get started</strong>\n",
        "    <ol>\n",
        "      <li>Go to <a href=\"https://aistudio.google.com/\">Google AI Studio</a> and log in with your Google account.</li>\n",
        "      <li><a href=\"https://aistudio.google.com/app/apikey\">Create an API key</a>.</li>\n",
        "      <li>Use a quickstart for <a href=\"https://colab.research.google.com/github/google-gemini/cookbook/blob/main/quickstarts/Prompting.ipynb\">Python</a>, or call the REST API using <a href=\"https://colab.research.google.com/github/google-gemini/cookbook/blob/main/quickstarts/rest/Prompting_REST.ipynb\">curl</a>.</li>\n",
        "      </ol>\n",
        "  <strong>Explore use cases</strong>\n",
        "    <ul>\n",
        "      <li><a href=\"https://colab.research.google.com/github/google-gemini/cookbook/blob/main/examples/Market_a_Jet_Backpack.ipynb\">Create a marketing campaign</a></li>\n",
        "      <li><a href=\"https://colab.research.google.com/github/google-gemini/cookbook/blob/main/quickstarts/Audio.ipynb\">Analyze audio recordings</a></li>\n",
        "      <li><a href=\"https://colab.research.google.com/github/google-gemini/cookbook/blob/main/quickstarts/System_instructions.ipynb\">Use System instructions in chat</a></li>\n",
        "    </ul>\n",
        "  <p>To learn more, check out the <a href=\"https://github.com/google-gemini/cookbook\">Gemini cookbook</a> or visit the <a href=\"https://ai.google.dev/docs/\">Gemini API documentation</a>.\n",
        "  </p>\n",
        "</div>\n"
      ]
    },
    {
      "cell_type": "code",
      "execution_count": null,
      "metadata": {
        "id": "zwFnJsE6vjf8"
      },
      "outputs": [],
      "source": [
        "{\"ID\": 6500, \"question\": \"在没有结节边界不清晰、有点状强回声或微小钙化、血流丰富、颈部淋巴结肿大、TI-RADS分级4-5级情况下，通过1年内超声检查的甲状腺结节是否可以投保健康福·重疾险?\", \"answer\": \"可以投保健康福·重疾险。只要甲状腺结节通过1年内超声检查，且不存在条款中提到的异常情况，即使有甲状腺结节，也可以按照例外事项投保该产品。\"}\n",
        "{\"ID\": 6501, \"question\": \"如果被保险人无基本医疗保险或公费医疗身份，众安无限爱·癌症特药保险的社保内外药械费用赔付比例是多少？\", \"answer\": \"如果被保险人无基本医疗保险或公费医疗身份参保，众安无限爱·癌症特药保险的社保内外药械费用赔付比例是100%。\"}\n",
        "{\"ID\": 6502, \"question\": \"保险人在投保人提出解除众安无限爱·癌症特药保险合同后会怎么做？\", \"answer\": \"保险人在投保人提出解除众安无限爱·癌症特药保险合同后，会按照以下步骤操作：\\n1. 无息退还投保人所支付的全部保险费。\\n2. 自保险人收到投保人解除合同的书面申请或双方认可的其他形式起，本合同即被解除。\\n3. 合同解除前发生的保险事故，保险人不承担保险责任。\\n4. 如果投保人通过保险人同意或认可的网站等互联网渠道提出解除合同的申请，也视为投保人的书面申请。\"}\n",
        "{\"ID\": 6503, \"question\": \"人保稳稳盈1号保险产品是否认可护理院？\", \"answer\": \"根据人保稳稳盈1号保险条款，该保险产品不认可护理院。条款中明确指出，认可的医院是指国家《医院分级管理标准》中的二级或二级以上的医院，并且排除了康复医院或康复病房、精神病院、疗养院、护理院等特定类型的医疗机构。因此，护理院不属于该保险产品认可的医院范围。\"}\n",
        "{\"ID\": 6504, \"question\": \"如果被保险人的病情严重，救援服务机构将如何协助？\", \"answer\": \"如果被保险人的病情严重，救援服务机构将采取以下措施协助：\\n\\n1. 协助被保险人在当地寻找符合治疗要求的医疗机构，确保得到及时有效的治疗。\\n2. 根据病情需要，协助安排被保险人住院治疗，包括联系医院、安排床位等。\\n3. 提供医疗咨询和指导，帮助被保险人了解病情和治疗方案。\\n4. 在必要时，协助被保险人转院治疗，确保得到更专业的医疗资源。\\n5. 提供心理支持，帮助被保险人及其家属应对病情带来的压力。\\n\\n总之，救援服务机构将尽最大努力协助被保险人在病情严重时得到及时、有效的治疗和护理。\"}\n",
        "{\"ID\": 6505, \"question\": \"在'健康福·终身重疾险(黑卡专享版)'保险产品中，什么情况下'主动脉内手术'的给付标准没有达到？\", \"answer\": \"\\n在'健康福·终身重疾险(黑卡专享版)'保险产品中，'主动脉内手术'的给付标准没有达到的情况是指实际实施的手术仅针对主动脉的分支血管，而不是升主动脉、主动脉弓和降主动脉的主干部分。也就是说，如果手术是在主动脉的分支血管上进行的，而不是在升主动脉、主动脉弓和降主动脉的主干上进行的，那么这种手术就不符合给付标准。\"}\n",
        "{\"ID\": 6506, \"question\": \"如果保险公司未对免责条款作出提示或明确说明，这些条款会产生什么效力？\", \"answer\": \"如果保险公司未对免责条款作出提示或明确说明，这些条款将不会产生效力。这意味着，在发生保险事故时，保险公司不能以这些未提示或未明确说明的免责条款为由拒绝承担保险责任。\"}\n",
        "{\"ID\": 6507, \"question\": \"保险公司在收到保险金给付申请书及证明材料后，如何处理材料不完整的情况？\", \"answer\": \"当保险公司收到申请人提交的保险金给付申请书及证明材料后，如果认为有关的证明材料不完整，将在2个工作日内一次性通知申请人补充提供所需材料。\"}\n",
        "{\"ID\": 6508, \"question\": \"如果被保险人仅有临床不适症状，且入院诊断和出院诊断均不是恶性肿瘤，保险公司是否承担给付保险金的责任？\", \"answer\": \"保险公司不承担给付保险金的责任。\"}\n",
        "{\"ID\": 6509, \"question\": \"哪些检查结果可以证明患者有严重脊髓血管病后遗症？\", \"answer\": \"以下检查结果可以证明患者有严重脊髓血管病后遗症：\\n1. 脑脊液检查（CSF）呈阳性；\\n2. 脊髓MRI、造影等影像检查显示有明确病灶；\\n3. 确诊180天后，患者仍然遗留后遗症，并且无法独立完成以下基本日常生活活动之一：\\n   i. 移动：自己从一个房间到另一个房间；\\n   ii. 进食：自己从已准备好的碗或者碟中取物放入口中。\"}\n",
        "{\"ID\": 6510, \"question\": \"受益人放弃保险金请求权是否影响投保人解除合同的权利？\", \"answer\": \"受益人放弃保险金请求权不影响投保人解除合同的权利。投保人仍然可以根据保险条款中的规定，在满足解除合同的条件和程序后，解除合同。\"}\n",
        "{\"ID\": 6511, \"question\": \"如果被保险人购买了中国人寿防癌医疗险，并且特定药品属于社会基本医疗保险范围内，被保险人也以社会基本医疗保险或公费医疗身份结算，那么恶性肿瘤院外特定药品费用保险金的给付比例是多少？\", \"answer\": \"恶性肿瘤院外特定药品费用保险金的给付比例为100%。\"}\n",
        "{\"ID\": 6512, \"question\": \"在哪些情况下，进行的血管介入治疗才会被健康福·重疾1号（人保长期版）所认可？\", \"answer\": \"根据健康福·重疾1号（人保长期版）的保险条款，以下情况下进行的血管介入治疗会被认可：\\n\\n1. 治疗的动脉类型：必须是整条下肢或上肢供血的动脉，或者是肠系膜动脉。\\n2. 狭窄程度：经血管造影术证实，上述动脉狭窄达到50%或以上。\\n3. 治疗方式：对上述动脉实施了血管介入治疗，包括血管成形术、血管支架植入术或动脉粥样瘤清除术。\\n4. 医疗必需性：此诊断及治疗均须在本公司认可的医院血管专科医生认为是医疗必需的情况下进行。\\n\\n只有同时满足上述所有条件，进行的血管介入治疗才会被健康福·重疾1号（人保长期版）所认可。\"}\n",
        "{\"ID\": 6513, \"question\": \"患者出现哪些症状时可能被诊断为严重结核性脑膜炎？\", \"answer\": \"患者出现以下症状时可能被诊断为严重结核性脑膜炎：\\n1. 颅内压明显增高，表现为头痛、呕吐和视乳头水肿；\\n2. 部分性、全身性癫痫发作或癫痫持续状态；\\n3. 昏睡或意识模糊；\\n4. 视力减退、复视和面神经麻痹。\"}\n",
        "{\"ID\": 6514, \"question\": \"京东安联火灾家财保险是否覆盖违章建筑和危险建筑？\", \"answer\": \"京东安联火灾家财保险不覆盖违章建筑和危险建筑。根据保险条款，违章建筑和危险建筑属于不属于本保险合同保险标的的财产之一。\"}\n",
        "{\"ID\": 6515, \"question\": \"投保人在签订太平洋普惠百万医疗险合同前是否已经阅读并理解了投保须知及保险条款？\", \"answer\": \"是，投保人在签订太平洋普惠百万医疗险合同前已经阅读并理解了投保须知及保险条款。这是根据投保声明中的内容得出的结论。\"}\n",
        "{\"ID\": 6516, \"question\": \"保险合同规定了哪些给付是互斥的，即不能同时给付？\", \"answer\": \"根据人保福寿年年专属商业养老保险的条款，以下给付是互斥的，不能同时给付：\\n1. 养老年金给付：如果被保险人在开始领取养老金或重度失能保险金前身故，则只能获得身故保险金，养老金给付将不会发生。\\n2. 重度失能保险金给付：如果被保险人在开始领取养老金或重度失能保险金前身故，则只能获得身故保险金，重度失能保险金给付将不会发生。\\n3. 身故保险金给付：如果被保险人在开始领取养老金或重度失能保险金前身故，则只能获得身故保险金，养老金和重度失能保险金的给付将不会发生。\\n\\n总结来说，养老金、重度失能保险金和身故保险金是互斥的，同一事件下只能获得其中一种给付。\"}\n",
        "{\"ID\": 6517, \"question\": \"国寿好健康百万医疗险中意外伤害的等待期是多久？\", \"answer\": \"国寿好健康百万医疗险中意外伤害的等待期为30天。\"}\n",
        "{\"ID\": 6518, \"question\": \"如果投保人故意导致被保险人身故或伤残，保险公司会承担给付保险金责任吗？\", \"answer\": \"不会，如果投保人故意导致被保险人身故或伤残，保险公司不会承担给付保险金责任。\"}\n",
        "{\"ID\": 6519, \"question\": \"客户在犹豫期后解除健康福·重疾险(返保费)主合同会遭受什么损失？\", \"answer\": \"客户在犹豫期后解除健康福·重疾险(返保费)主合同会遭受以下损失：\\n1. 保障权益的丧失，包括但不限于重疾保障、身故保障等。\\n2. 现金价值的损失，即保险公司返还的现金价值通常低于客户已缴纳的保费总额。\"}\n",
        "{\"ID\": 6520, \"question\": \"在境内自驾游保险合同未生效的情况下，保险人是否承担保险责任？\", \"answer\": \"在境内自驾游保险合同未生效的情况下，保险人不承担保险责任。因为根据保险条款，保险合同只有在投保人交清保险费后才会生效，保险人才对保险合同生效前发生的事故承担保险责任。如果合同未生效，那么保险人自然不承担相应的保险责任。\"}\n",
        "{\"ID\": 6521, \"question\": \"瑞氏综合征确诊时患者的临床表现应该是什么？\", \"answer\": \"瑞氏综合征确诊时患者的临床表现可能包括急性发热、反复呕吐、惊厥及意识障碍等。这些症状是确诊的重要依据之一。具体来说，患者可能会出现以下几种情况：\\n1. 急性发热：患者可能会出现突然的高热。\\n2. 反复呕吐：患者可能会出现多次的剧烈呕吐。\\n3. 惊厥：患者可能会出现抽搐或惊厥。\\n4. 意识障碍：患者可能会出现意识模糊、昏迷等症状。\\n\\n这些临床表现是确诊瑞氏综合征的关键症状，但需要注意的是，确诊还需结合脑脊液检查、影像学检查以及血氨水平等医学检查结果。\"}\n",
        "{\"ID\": 6522, \"question\": \"如果投保人支付了首期保险费但未按照合同约定的付款期限足额缴付当期保险费，保险合同会如何？\", \"answer\": \"如果投保人支付了首期保险费但未按照合同约定的付款期限足额缴付当期保险费，且超过合同约定的付款宽限期仍未足额补缴，那么保险合同将会自动终止。在这种情况下，保险人不承担保险合同终止前发生的保险事故的保险责任。对于保险合同终止后发生的保险事故，保险人也不承担保险责任。\"}\n",
        "{\"ID\": 6523, \"question\": \"因恶性肿瘤进行的肺切除手术是否在健康福·重疾险的保障范围内？\", \"answer\": \"因恶性肿瘤进行的肺切除手术不在健康福·重疾险的保障范围内。根据保险条款，不在保障范围内的肺切除手术包括因恶性肿瘤进行的肺切除手术。因此，如果被保险人因恶性肿瘤而进行肺切除手术，这种情况下保险公司不承担赔偿责任。\"}\n",
        "{\"ID\": 6524, \"question\": \"哪种疾病导致的'中度肠道并发症'不在同佑e生终身重疾险的保障范围内？\", \"answer\": \"因克罗恩病导致的“中度肠道并发症”不在同佑e生终身重疾险的保障范围内。\"}\n",
        "{\"ID\": 6525, \"question\": \"保险公司保留对特定器械及适用疾病清单进行变更的权利是什么意思？\", \"answer\": \"保险公司保留对特定器械及适用疾病清单进行变更的权利，意味着保险公司有权根据市场情况、医疗技术发展、医疗费用变化等因素，对保险产品中列明的特定器械和适用疾病进行更新或调整。这种变更通常会在保险合同中明确说明，或者通过其他方式通知投保人。如果保险公司对清单进行了变更，投保人需要按照变更后的清单来理解保险产品的保障范围。这既保障了保险公司的灵活性和适应性，也要求投保人关注保险条款的更新，以确保自己的权益不受影响。\"}\n",
        "{\"ID\": 6526, \"question\": \"被保险人在最近2年内是否被保险公司拒保、延期、加费或者附加相关条件承保？\", \"answer\": \"根据保险条款，如果被保险人在最近2年内曾被保险公司拒保、延期、加费或者附加相关条件承保，那么这种情况是被记录在案的。如果用户询问的是具体某位被保险人的情况，那么需要查看该被保险人的个人保险记录以确认。如果用户是在询问一般性条款规定，那么上述条款规定是适用的。\"}\n",
        "{\"ID\": 6527, \"question\": \"急性肾衰竭透析治疗的条件中，少尿或无尿的时间标准是多少？\", \"answer\": \"急性肾衰竭透析治疗的条件中，少尿或无尿的时间标准是2天以上。\"}\n",
        "{\"ID\": 6528, \"question\": \"严重溃疡性结肠炎的病变累及到哪个部位？\", \"answer\": \"严重溃疡性结肠炎的病变已经累及到全结肠。\"}\n",
        "{\"ID\": 6529, \"question\": \"过敏及由过敏引发的变态反应性疾病时，人保浙江驾乘意外险是否承担给付保险金的责任？\", \"answer\": \"根据《交通出行人身意外伤害保险A款（互联网专属）条款》中关于意外伤害保险责任的规定，人保浙江驾乘意外险在过敏及由过敏引发的变态反应性疾病时不承担给付保险金的责任。\"}\n",
        "{\"ID\": 6530, \"question\": \"如果被保险人以参加基本医疗保险或公费医疗身份投保，但未以这种身份就诊并结算，50万运动意外医疗险将如何赔付？\", \"answer\": \"如果被保险人以参加基本医疗保险或公费医疗身份投保，但未以这种身份就诊并结算，50万运动意外医疗险将根据合同约定的给付比例进行赔付。具体赔付金额将基于实际发生的合理医疗费用，扣除被保险人已从其他途径获得的医疗费用补偿后的余额。\"}\n",
        "{\"ID\": 6531, \"question\": \"哪些职业属于保险赔付的限定职业范围？\", \"answer\": \"属于保险赔付的限定职业范围包括医生和牙科医生、护士、医院化验室工作人员、医院护工、医生助理和牙医助理、救护车工作人员、助产士、消防队员、警察、狱警。\"}\n",
        "{\"ID\": 6532, \"question\": \"保险产品'健康福·重疾险（保20-30年）'的赔偿比例在哪里可以找到？\", \"answer\": \"您可以在以下途径找到“健康福·重疾险（保20-30年）”的赔偿比例：\\n1. 保险合同：赔偿比例通常会在保险合同的条款部分详细说明。\\n2. 保险公司官网：许多保险公司会在其官方网站上提供保险产品的详细条款，您可以在官网上搜索相关产品并下载条款。\\n3. 保险代理人或客服：联系您的保险代理人或保险公司客服，他们可以为您提供保险条款的详细内容。\\n4. 保险监管机构：在某些情况下，保险产品的条款可能需要在保险监管机构的网站上公布，您也可以尝试查询。\\n\\n请根据您的具体情况选择合适的方式查阅赔偿比例。\"}\n",
        "{\"ID\": 6533, \"question\": \"被保险人在过去2年内做过手术会导致哪些保险评估上的考虑？\", \"answer\": \"被保险人在过去2年内做过手术可能会导致以下保险评估上的考虑：\\n\\n1. **健康风险评估**：保险公司可能会对被保险人的健康状况进行更详细的评估，包括询问手术的原因、手术类型、恢复情况以及是否有并发症等。\\n\\n2. **保险费率调整**：根据手术对健康的影响，保险公司可能会对保险费率进行调整，可能需要支付更高的保费。\\n\\n3. **保险责任限制**：在某些情况下，保险公司可能会对手术相关的疾病或并发症的保险责任进行限制，或者排除某些特定的手术风险。\\n\\n4. **承保条件**：保险公司可能会要求被保险人提供更多的健康信息，或者对被保险人的保险申请进行延期、拒保或附加特殊条件。\\n\\n5. **后续理赔**：如果手术与未来的理赔有关，保险公司可能会对理赔申请进行更严格的审查，以确保理赔的合理性。\\n\\n总之，被保险人在过去2年内做过手术可能会对保险评估产生一定的影响，具体取决于手术的性质、被保险人的整体健康状况以及保险公司的具体条款和规定。\"}\n",
        "{\"ID\": 6534, \"question\": \"慢性复发性胰腺炎的诊断需要哪些医疗专家的确认？\", \"answer\": \"慢性复发性胰腺炎的诊断需要消化科专科医生的确认，并且必须有内窥镜逆行胰胆管造影所证实。\"}\n",
        "{\"ID\": 6535, \"question\": \"保险期间结束后，保险人是否继续承担意外医疗保险责任？\", \"answer\": \"保险期间结束后，保险人不再承担意外医疗保险责任。根据保险条款，保险期间届满时，如果被保险人住院治疗仍未结束，保险人将继续承担意外住院津贴保险责任至其当次住院出院之时，但以不超出本附加合同约定的最高住院津贴日数为限。对于意外医疗保险责任，保险期间届满时，保险人将不再承担保险责任，除非合同中有特殊约定。因此，在保险期间结束后，保险人不再承担意外医疗保险责任。\"}\n",
        "{\"ID\": 6536, \"question\": \"如果被保险人使用的临床急需进口医药品的用法用量与中国国家药品监督管理机构批准的说明书不符，保险公司会承担赔偿责任吗？\", \"answer\": \"不会，保险公司不会承担赔偿责任。\"}\n",
        "{\"ID\": 6537, \"question\": \"轻度脑中风后遗症与严重脑中风后遗症在给付标准上有什么区别?\", \"answer\": \"轻度脑中风后遗症与严重脑中风后遗症在给付标准上的区别主要表现在以下几个方面：\\n\\n1. 病情严重程度：轻度脑中风后遗症是指因脑血管的突发病变引起脑血管出血、栓塞或梗塞，须由影像学检查证实，并导致神经系统永久性的功能障碍，但未达到严重脑中风后遗症的给付标准。而严重脑中风后遗症则是指达到更严重的程度，具体标准在保险条款中有详细说明。\\n\\n2. 影像学检查：轻度脑中风后遗症需要通过头颅断层扫描（CT）、核磁共振检查（MRI）等影像学检查证实，而严重脑中风后遗症可能需要更高级别的影像学检查。\\n\\n3. 神经系统功能障碍：轻度脑中风后遗症在疾病确诊180天后，仍遗留下列至少一种障碍，而严重脑中风后遗症则可能包括更多或更严重的障碍。\\n\\n4. 日常生活活动能力：轻度脑中风后遗症要求自主生活能力部分丧失，无法独立完成六项基本日常生活活动中的两项，而严重脑中风后遗症可能要求无法独立完成更多日常生活活动。\\n\\n总之，轻度脑中风后遗症与严重脑中风后遗症在给付标准上的主要区别在于病情严重程度、影像学检查、神经系统功能障碍和日常生活活动能力等方面。\"}\n",
        "{\"ID\": 6538, \"question\": \"在什么情况下需要联系众安保险客户服务热线？\", \"answer\": \"在以下情况下需要联系众安保险客户服务热线：\\n1. 需要变更保单信息，如修改受益人、联系方式等。\\n2. 咨询关于佳人无忧·女性重疾险的产品条款、保险责任、理赔流程等相关事宜。\\n3. 提交理赔申请或查询理赔进度。\\n4. 遇到其他与保单相关的疑问或需要帮助的情况。\"}\n",
        "{\"ID\": 6539, \"question\": \"合同生效日对应日是什么？\", \"answer\": \"合同生效日对应日是指保险合同生效的具体日期，通常在保险单上会有明确标注。这个日期是计算保单年度、保险费支付日等的重要依据。\"}\n",
        "{\"ID\": 6540, \"question\": \"保险人以哪些形式向投保人明确说明免除其责任的条款内容？\", \"answer\": \"保险人可以通过以下几种形式向投保人明确说明免除其责任的条款内容：\\n1. 投保单：在投保单上对免除保险人责任的条款进行标注，并附上详细说明。\\n2. 保险单：在保险单上对免除保险人责任的条款进行标注，并附上详细说明。\\n3. 其他保险凭证：如保险条款书、保险说明书等，对免除保险人责任的条款进行标注和说明。\\n4. 书面形式：通过信函、电子邮件等方式，向投保人提供免除保险人责任的条款的书面说明。\\n5. 口头形式：在投保过程中，保险人可以通过口头方式向投保人解释免除保险人责任的条款内容，并要求投保人确认已理解。\"}\n",
        "{\"ID\": 6541, \"question\": \"诊断严重围产期心肌病需要哪些条件？\", \"answer\": \"诊断严重围产期心肌病需要满足以下条件：\\n1. 孕产妇在妊娠满28周后至产后6个月内发生。\\n2. 表现为扩张性心肌病，具有心肌收缩功能障碍和充血性心力衰竭。\\n3. 投保前无心血管系统疾病史。\\n4. 出现心力衰竭的表现，但不能确定心力衰竭的确切原因。\\n5. 已经造成体力活动能力受限，达到美国纽约心脏病学会（NYHA）心功能状态分级III级及以上。\"}\n",
        "{\"ID\": 6542, \"question\": \"大病无忧重疾险的保险期间是多长？\", \"answer\": \"大病无忧重疾险的保险期间为一年，具体起讫时间由投保人与保险人约定，并在本合同中载明。\"}\n",
        "{\"ID\": 6543, \"question\": \"华泰高风险职业意外险是否赔偿在非认可医疗机构治疗发生的医疗费用？\", \"answer\": \"华泰高风险职业意外险不赔偿在非认可医疗机构治疗发生的医疗费用。\"}\n",
        "{\"ID\": 6544, \"question\": \"保险公司在什么情况下会对脊髓灰质炎后遗症予以理赔？\", \"answer\": \"保险公司会在以下情况下对脊髓灰质炎后遗症予以理赔：\\n1. 脊髓灰质炎必须被明确诊断。\\n2. 被保险人因脊髓灰质炎造成的神经系统功能损害导致一肢或一肢以上肢体随意运动功能永久完全丧失。\\n3. 这种永久完全丧失发生在疾病确诊180天后或意外伤害发生180天后。\\n4. 肢体随意运动功能永久完全丧失的判定标准是：每肢三大关节中的两大关节仍然完全僵硬，或肢体肌力在2级（含）以下。\"}\n",
        "{\"ID\": 6545, \"question\": \"健康福·终身重疾(升级版)保险合同的生效日是如何确定的？\", \"answer\": \"\\n健康福·终身重疾(升级版)保险合同的生效日是根据您选择的交费方式来确定的。如果您的交费方式是每月缴纳，那么保险合同将在每月的对应日生效；如果是每年缴纳，则是在每年的对应日生效。如果对应的日期在该月不存在，比如2月29日，那么保险合同的生效日将定为该月的最后一天。这样设计的目的是为了确保保险合同能够及时生效，为被保险人提供保障。\"}\n",
        "{\"ID\": 6546, \"question\": \"如果投保人因重大过失未履行如实告知义务，对保险事故的发生有严重影响，保险人应该怎么做？\", \"answer\": \"如果投保人因重大过失未履行如实告知义务，对保险事故的发生有严重影响，保险人将不承担合同解除前发生的保险事故的赔偿责任，但应当退还投保人保险期间内剩余天数按日计算的保险费。这意味着，虽然保险人不负责赔偿，但投保人支付的保险费用中未使用的部分将会得到退还。\"}\n",
        "{\"ID\": 6547, \"question\": \"保险合同自何时解除？\", \"answer\": \"保险合同自保险人发出解除通知并送达投保人时解除。\"}\n",
        "{\"ID\": 6548, \"question\": \"患有严重川崎病的冠状动脉瘤接受手术治疗是否符合诊断条件？\", \"answer\": \"患有严重川崎病的冠状动脉瘤接受手术治疗符合诊断条件。根据保险条款，只要患者满足“伴有冠状动脉瘤，且实际接受了对冠状动脉瘤进行的手术治疗”这一条件，就可以被诊断为严重川崎病。\"}\n",
        "{\"ID\": 6549, \"question\": \"太保私家车驾乘意外险的意外伤害医疗费用保障有多长的等待期？\", \"answer\": \"太保私家车驾乘意外险的意外伤害医疗费用保障的等待期为7天。\"}\n",
        "{\"ID\": 6550, \"question\": \"卓越馨选医疗险2023版中对于严重心肌炎的定义是什么？\", \"answer\": \"卓越馨选医疗险2023版中对于严重心肌炎的定义是：被保险人因严重心肌炎症性病变导致功能损害造成持续的永久不可逆性的功能衰竭。具体条件包括：（1）功能衰竭程度达到纽约心脏病学会的功能分级标准之功能IV级，或左室射血分数低于30%；（2）持续不间断180天以上；（3）被保险人永久不可逆性地身体活动能力受限，不能从事任何身体活动。\"}\n",
        "{\"ID\": 6551, \"question\": \"如果被保险人服用、吸食、注射毒品或服用影响行为能力的相关药品或受管制的药品导致骨折，保险公司是否承担给付保险金责任？\", \"answer\": \"如果被保险人服用、吸食、注射毒品或服用影响行为能力的相关药品或受管制的药品导致骨折，保险公司不承担给付保险金责任。\"}\n",
        "{\"ID\": 6552, \"question\": \"保险公司是否承担责任，如果它们已经通过其他途径及时知道或应当及时知道保险事故的发生？\", \"answer\": \"是的，如果保险公司已经通过其他途径及时知道或应当及时知道保险事故的发生，那么即使投保人、被保险人或者保险金受益人没有及时通知保险人，保险公司也不承担责任。\"}\n",
        "{\"ID\": 6553, \"question\": \"中度进行性核上性麻痹的确诊条件包括哪些？\", \"answer\": \"中度进行性核上性麻痹的确诊条件包括以下四项：\\n1. 步态共济失调；\\n2. 对称性眼球垂直运动障碍；\\n3. 假性球麻痹，表现为构音障碍和吞咽困难；\\n4. 自主生活能力完全丧失，无法独立完成六项基本日常生活活动中的两项或两项以上。\"}\n",
        "{\"ID\": 6554, \"question\": \"早期原发性心肌病的诊断需要满足哪些条件？\", \"answer\": \"早期原发性心肌病的诊断需要满足以下条件：\\n1. 导致心室功能受损，其受损程度达到美国纽约心脏病学会（NYHA）心功能状态分级Ⅲ级，或同等级别；\\n2. 原发性心肌病的诊断必须由本公司认可的医院心脏专科医生确认；\\n3. 必须提供心脏超声检查报告作为诊断依据；\\n4. 诊断不能是继发于全身性疾病或其他器官系统疾病，以及酒精滥用造成的心肌病变。\"}\n",
        "{\"ID\": 6555, \"question\": \"其他与保险公司共同认可的书面协议在健康福·少儿终身重疾险合同中有什么作用？\", \"answer\": \"\\n在健康福·少儿终身重疾险合同中，其他与保险公司共同认可的书面协议主要起到以下作用：\\n1. 明确双方权利义务，减少纠纷；\\n2. 补充保险责任，覆盖更广泛的保险需求；\\n3. 规范保险操作，提高业务效率；\\n4. 适应特定需求，满足客户个性化需求。\"}\n",
        "{\"ID\": 6556, \"question\": \"继发性骨髓纤维化是否在国寿好健康百万医疗险的保障范围内？\", \"answer\": \"继发性骨髓纤维化不在国寿好健康百万医疗险的保障范围内。该保险仅对符合条款中定义的严重原发性骨髓纤维化提供保障。\"}\n",
        "{\"ID\": 6557, \"question\": \"肝豆状核变性是如何遗传的？\", \"answer\": \"肝豆状核变性是一种常染色体隐性遗传的疾病。这意味着，患者需要从父母双方各继承一个有缺陷的基因才能表现出症状。如果父母双方都是携带者，那么他们的子女有25%的几率会患上这种疾病。\"}\n",
        "{\"ID\": 6558, \"question\": \"保险公司不承担赔偿保险金责任的第十八种情形是什么？\", \"answer\": \"保险公司不承担赔偿保险金责任的第十八种情形是：战争、军事行动、暴乱、武装叛乱、核爆炸、核辐射、核污染。\"}\n",
        "{\"ID\": 6559, \"question\": \"家庭财产盗抢损失每次事故的赔偿限额是总保额的多少百分比？\", \"answer\": \"家庭财产盗抢损失每次事故的赔偿限额是总保额的10%。\"}\n",
        "{\"ID\": 6560, \"question\": \"如果被保险人因职业关系导致的感染艾滋病病毒或患艾滋病，人保·终身护理险会承担保险责任吗？\", \"answer\": \"如果被保险人因职业关系导致的感染艾滋病病毒或患艾滋病，人保·终身护理险会承担保险责任。\"}\n",
        "{\"ID\": 6561, \"question\": \"保费到账后，本公司会进行哪些操作？\", \"answer\": \"保费到账后，本公司会进行以下操作：\\n1. 核保：对客户的投保信息进行审核，确保符合保险条款的要求。\\n2. 承保：核保通过后，保险公司会正式承保，即同意为客户提供保险保障。\\n3. 签发保险单：保险公司会签发保险单作为保险凭证，证明保险合同已经生效。\\n4. 明确合同生效日期：在保险单上载明保险合同的生效日期，以便客户了解保险保障的开始时间。\"}\n",
        "{\"ID\": 6562, \"question\": \"多发性硬化症对被保险人的自主生活能力有什么影响？\", \"answer\": \"多发性硬化症对被保险人的自主生活能力的影响主要体现在以下几个方面：\\n1. 无法独立完成六项基本日常生活活动中的三项或三项以上，如穿衣、进食、洗澡、如厕、移动和行动。\\n2. 这些日常生活活动能力的丧失通常是由于神经系统受损，导致肌肉无力、协调性差、感觉异常等症状。\\n3. 由于这些能力的丧失，被保险人可能需要依赖他人进行日常照护，从而影响其生活质量和社会参与。\"}\n",
        "{\"ID\": 6563, \"question\": \"如果被保险人故意自伤或在合同成立或效力恢复后2年内自杀导致身故或全残，保险合同会如何处理？\", \"answer\": \"如果被保险人故意自伤或在合同成立或效力恢复后2年内自杀导致身故或全残，保险公司将不承担给付保险金的责任。具体处理方式如下：\\n1. 如果是故意自伤导致身故或全残，合同终止，保险公司将退还本合同的现金价值。\\n2. 如果是自杀导致身故或全残，合同终止，保险公司将退还本合同的现金价值。但需要注意的是，如果被保险人自杀时为无民事行为能力人，则不在此责任免除范围内。\"}\n",
        "{\"ID\": 6564, \"question\": \"电子保单与纸质保单在法律上有何区别？\", \"answer\": \"根据《中华人民共和国民法典》第四百六十九条的相关规定，数据电文是合法的合同表现形式，电子保单与纸质保单具有同等法律效力。这意味着，电子保单在法律上与纸质保单没有区别，两者均可以作为有效的合同凭证。用户在处理与保单相关的法律事务时，可以同样对待电子保单和纸质保单。\"}\n",
        "{\"ID\": 6565, \"question\": \"申请华泰1000万航空意外险的医疗费用保险金时，需要提供哪些与航空旅行相关的证明？\", \"answer\": \"申请华泰1000万航空意外险的医疗费用保险金时，需要提供的与航空旅行相关的证明包括：\\n\\n1. 出险当次客票：证明被保险人在保险期间内乘坐了航空器。\\n2. 公安、交通等法律法规授权的有关部门出具的意外伤害事故证明：证明事故发生时，被保险人确实在航空旅行过程中遭受了意外伤害。\"}\n",
        "{\"ID\": 6566, \"question\": \"保险公司为了提供哪些业务功能需要收集特定的个人信息？\", \"answer\": \"保险公司为了提供以下业务功能需要收集特定的个人信息：\\n1. 基本服务功能：这些功能是保险公司提供服务的基础，如承保、理赔等。\\n2. 优化产品和服务功能：为了提升客户体验，保险公司可能会收集信息以优化产品和服务。\\n3. 增值服务功能：这些服务可能涉及扩展功能，需要收集特定信息才能使用。\\n4. 处理敏感个人信息：在某些情况下，可能需要取得客户的单独同意，以处理敏感个人信息。\\n5. 收集未成年人个人信息：对于涉及未成年人的个人信息，保险公司会按照相关政策进行保护。\"}\n",
        "{\"ID\": 6567, \"question\": \"如果投保人未履行如实告知义务，保险公司将依据哪条法律规定处理？\", \"answer\": \"保险公司将依据《中华人民共和国保险法》第十六条的规定处理投保人未履行如实告知义务的情况。该条款规定，投保人故意或者因重大过失未履行如实告知义务，足以影响保险公司决定是否同意承保或者提高保险费率的，保险公司有权解除合同。投保人故意不履行如实告知义务的，保险公司对于合同解除前发生的保险事故，不承担赔偿责任，并不退还保险费。投保人因重大过失未履行如实告知义务，对保险事故的发生有严重影响的，保险公司对于合同解除前发生的保险事故，不承担赔偿责任，但退还保险费。\"}\n",
        "{\"ID\": 6568, \"question\": \"太平洋产险的最近季度偿付能力是否符合监管要求？\", \"answer\": \"是的，太平洋产险的最近季度偿付能力符合监管要求。具体详情可以参考太平洋产险官网（http://property.cpic.com.cn/）公开的信息披露。\"}\n",
        "{\"ID\": 6569, \"question\": \"一年期未成年人综合意外险中，哪些家庭成员的行为导致的损失、费用和责任不被保险公司赔偿？\", \"answer\": \"一年期未成年人综合意外险中，以下家庭成员的行为导致的损失、费用和责任不被保险公司赔偿：\\n1. 被保险人的父母或与被保险人长期共同居住的其他成年家庭成员；\\n2. 如果这些家庭成员教唆或帮助被保险人实施侵权行为，导致被保险人自身或他人遭受损失、费用和责任。\"}\n",
        "{\"ID\": 6570, \"question\": \"如果华泰少儿门急诊住院医疗险的保险单未载明仲裁机构，或者争议发生后未达成仲裁协议，那么应该如何解决争议？\", \"answer\": \"如果华泰少儿门急诊住院医疗险的保险单未载明仲裁机构，或者争议发生后未达成仲裁协议，解决争议的方式是依法向中华人民共和国（不包括港澳台地区）人民法院起诉。\"}\n",
        "{\"ID\": 6571, \"question\": \"保险公司是否承担因怀孕、分娩、流产等原因造成的损失或费用的赔偿责任？\", \"answer\": \"\\n根据《中国太平洋财产保险股份有限公司附加紧急医疗救援保险（C 款）条款》中的责任免除部分，保险公司不承担因怀孕、分娩、流产等原因造成的损失或费用的赔偿责任。具体来说，条款中明确指出：“3、怀孕、分娩、流产、不孕症、避孕及绝育手术”，这些情况均在保险责任免除之列。\\n\\n因此，针对用户的问题，保险公司不承担因怀孕、分娩、流产等原因造成的损失或费用的赔偿责任。\"}\n",
        "{\"ID\": 6572, \"question\": \"保险人按照什么比例给付质子重离子医疗费用保险金？\", \"answer\": \"保险人按照约定的给付比例给付质子重离子医疗费用保险金。具体的给付比例需要参考国寿好健康百万医疗险的保险条款或相关合同约定，通常该比例会在合同中明确规定，如80%、100%等。请您查阅您的保险合同或咨询保险公司以获取准确的给付比例信息。\"}\n",
        "{\"ID\": 6573, \"question\": \"类风湿性关节炎达到哪个功能分级以上时，可以符合轻度类风湿性关节炎的理赔条件？\", \"answer\": \"类风湿性关节炎需要达到功能分级III级以上时，可以符合轻度类风湿性关节炎的理赔条件。这意味着关节活动受到严重限制，不能完成大部分的日常工作和活动。\"}\n",
        "{\"ID\": 6574, \"question\": \"保险人在给付急性疾病救护车费用保险金时需要扣除哪些费用？\", \"answer\": \"保险人在给付急性疾病救护车费用保险金时需要扣除以下费用：\\n1. 社会基本医疗保险已经补偿或给付的部分；\\n2. 公费医疗已经补偿或给付的部分；\\n3. 任何第三方（包括商业医疗保险）已经补偿或给付的部分；\\n4. 保险合同中约定的每次事故免赔额。\"}\n",
        "{\"ID\": 6575, \"question\": \"健康福·重疾险是否涵盖急性重症肝炎?\", \"answer\": \"是的，健康福·重疾险（保1年）的D组中包含了急性重症肝炎或亚急性重症肝炎，因此该保险产品涵盖急性重症肝炎。\"}\n",
        "{\"ID\": 6576, \"question\": \"诊断戊二酸血症需要哪些条件？\", \"answer\": \"诊断戊二酸血症需要以下条件：\\n1. 由保险人指定或认可的医疗机构进行诊断。\\n2. 由该医疗机构的专科医生进行明确诊断。\\n3. 诊断过程中需要考虑的症状，包括大头畸形、进行性肌张力异常和运动障碍等。\\n4. 需要排除其他可能的疾病，确保诊断的准确性。\\n5. 可能需要进行一系列的医学检查，如血液检查、尿液检查、基因检测等，以确定体内戊二酰辅酶A脱氢酶缺陷的存在，以及赖氨酸、羟赖氨酸及色氨酸代谢紊乱的情况。\"}\n",
        "{\"ID\": 6577, \"question\": \"人保I无忧终身重疾险尊享款中的重大疾病定义在哪里可以找到？\", \"answer\": \"人保I无忧终身重疾险尊享款中的重大疾病定义可以在以下途径找到：\\n1. 保险合同：保险合同中会详细列出保障的重大疾病及其定义。\\n2. 保险公司的官方网站：通常保险公司会在其官方网站上提供保险产品的详细条款，包括重大疾病的定义。\\n3. 保险公司的客服中心：通过拨打保险公司的客服电话，向客服人员咨询，可以获得重大疾病的定义。\\n4. 保险代理人或经纪人：如果通过代理人或经纪人购买保险，可以直接向他们咨询重大疾病的定义。\"}\n",
        "{\"ID\": 6578, \"question\": \"谁有资格确定嗜铬细胞瘤的诊断？\", \"answer\": \"只有内分泌专科医生有资格确定嗜铬细胞瘤的诊断。\"}\n",
        "{\"ID\": 6579, \"question\": \"在分期交纳保险费的情况下，m和n分别代表什么？\", \"answer\": \"在分期交纳保险费的情况下，m代表的是“当期已生效天数”，即保险合同生效后至计算现金价值当天的实际天数。n代表的是“当期天数”，即保险合同中规定的当期保险费对应的保险期间天数。这两个参数用于计算现金价值，反映了保险合同在特定时间点上的实际价值。\"}\n",
        "{\"ID\": 6580, \"question\": \"如果被保险人知晓自己不适合旅行还是进行了旅行，保险人是否承担给付保险金的责任？\", \"answer\": \"如果被保险人知晓自己不适合旅行还是进行了旅行，根据保险条款，保险人不承担给付保险金的责任。\"}\n",
        "{\"ID\": 6581, \"question\": \"在交通出行全能保保险合同中，默认的伤残保险金受益人是谁？\", \"answer\": \"在交通出行全能保保险合同中，默认的伤残保险金受益人是被保险人本人。\"}\n",
        "{\"ID\": 6582, \"question\": \"如果被保险人隐瞒或告知不实，国寿好健康百万医疗险的保单是否有效?\", \"answer\": \"如果被保险人隐瞒或告知不实，国寿好健康百万医疗险的保单视为无效。保险公司有权解除合同，并对合同解除前发生的任何保险事故不承担任何责任。\"}\n",
        "{\"ID\": 6583, \"question\": \"投保人在何时应当交清保险费？\", \"answer\": \"投保人在保险合同成立时应当交清保险费。如果投保人未按约定交纳全部保险费，保险合同将不生效，保险人对保险合同生效前发生的事故不承担保险责任。\"}\n",
        "{\"ID\": 6584, \"question\": \"如果被保险人宣告死亡，申请太平洋大学生意外险的身故保险金需要提供哪些额外的文件？\", \"answer\": \"如果被保险人宣告死亡，申请太平洋大学生意外险的身故保险金需要提供的额外文件包括：\\n1. 中华人民共和国法院出具的宣告死亡证明文件。\\n\\n这些文件将帮助保险公司确认被保险人的死亡状态，并据此进行保险金的支付。\"}\n",
        "{\"ID\": 6585, \"question\": \"太平洋大学生意外险的默认残疾保险金受益人是谁？\", \"answer\": \"太平洋大学生意外险的默认残疾保险金受益人是被保险人本人。\"}\n",
        "{\"ID\": 6586, \"question\": \"如果被保险人因妊娠、流产、分娩导致身故或伤残，保险公司是否承担给付保险金的责任？\", \"answer\": \"\\n根据众安健康宝贝少儿综合保障的保险条款，原因除外中第4条明确指出，被保险人因妊娠（含宫外孕）、流产（含人工流产）、分娩（含剖宫产）导致的身故或伤残，保险公司不承担给付保险金的责任。\\n\\n因此，如果被保险人因妊娠、流产、分娩导致身故或伤残，保险公司不承担给付保险金的责任。这是基于保险条款中关于原因除外的规定。\"}\n",
        "{\"ID\": 6587, \"question\": \"如何诊断一个人患有严重类风湿性关节炎？\", \"answer\": \"诊断一个人患有严重类风湿性关节炎，需要满足以下条件：\\n\\n1. 明确的诊断：必须通过医学检查和医生的专业判断，确诊为类风湿性关节炎。\\n\\n2. 功能分类IV级的永久不可逆性关节功能障碍：患者必须达到类风湿性关节炎功能分类的IV级，这意味着关节功能严重受损，且这种损伤是不可逆的。\\n\\n3. 晨僵：患者早晨起床后关节僵硬，持续时间至少为1小时。\\n\\n4. 对称性关节炎：至少有两个对称关节受累。\\n\\n5. 类风湿性皮下结节：患者身体上出现类风湿性皮下结节。\\n\\n6. 类风湿因子滴度升高：血液检查显示类风湿因子滴度升高。\\n\\n7. X线检查显示严重的关节破坏和关节畸形：通过X光检查，显示关节有严重的软组织和骨破坏，以及关节畸形。\\n\\n只有当一个人同时满足上述所有条件时，才能被诊断为患有严重类风湿性关节炎。\"}\n",
        "{\"ID\": 6588, \"question\": \"什么是华泰1000万航空意外险中的住院定义？\", \"answer\": \"在华泰1000万航空意外险中，“住院”是指被保险人因意外伤害或疾病而入住医疗机构之正式病房接受全日24小时监护治疗的过程，并正式办理入出院手续。但不包括以下情况：（1）被保险人在医疗机构的（门）急诊观察室、家庭病床（房）入住；（2）被保险人在特需病房、外宾病房或其它不属于社会医疗保险范畴的高等级病房入住；（3）被保险人入住康复科、康复病床或接受康复治疗；（4）被保险人住院期间一天内未接受与入院诊断相关的检查和治疗，或一天内住院不满二十四小时；但遵医嘱到外院接受临时治疗的除外；（5）被保险人住院体检；（6）挂床住院及其他不合理的住院。挂床住院指办理正式住院手续的被保险人，在住院期间每日非24小时在床、在院。具体表现包括在住院期间连续若干日无任何治疗，只发生护理费、诊疗费、床位费等情况。\"}\n",
        "{\"ID\": 6589, \"question\": \"如何定义单次门诊医疗？\", \"answer\": \"单次门诊医疗是指在保险期间内，被保险人因疾病或意外伤害，在医疗机构进行的一次门诊治疗。这次治疗包括但不限于诊断、检查、治疗、药品费用等，且仅限于一次完整的治疗过程。单次门诊医疗不包括多次治疗过程中的重复治疗或连续治疗。\"}\n",
        "{\"ID\": 6590, \"question\": \"谁有权变更全民保·婚嫁金保险合同的内容？\", \"answer\": \"全民保·婚嫁金保险合同的内容，由保险公司和投保人双方协商一致后有权进行变更。保险公司会在保险单或保险凭证上批注，或签订合同变更的书面协议。\"}\n",
        "{\"ID\": 6591, \"question\": \"太保易生福专属商业养老保险公司承担哪些保密义务？\", \"answer\": \"太保易生福专属商业养老保险公司承担以下保密义务：\\n1. 严格遵守现行的关于个人信息、数据及隐私保护的法律法规。\\n2. 采取充分的技术手段和制度管理，对客户的信息、投保交易信息和交易安全采取保障措施。\\n3. 承担保密义务，未经客户的同意，不会将其信息用于其它人身保险公司和第三方机构的销售活动。\\n4. 保护客户提供给我们的个人信息、数据和隐私不受到非法的泄露或披露给未获授权的第三方。\"}\n",
        "{\"ID\": 6592, \"question\": \"出生时的周岁是多少?\", \"answer\": \"出生时的周岁是零岁。\"}\n",
        "{\"ID\": 6593, \"question\": \"什么情况下机动车被认为是没有合法有效行驶证的第三种情形？\", \"answer\": \"机动车被认为是没有合法有效行驶证的第三种情形是指，机动车未按照法律规定的时间进行安全技术检验，或者虽然进行了检验但没有通过。也就是说，如果一辆机动车在规定的时间内没有完成安全技术检验，或者安全技术检验不合格，那么它就属于没有合法有效行驶证的情况。\"}\n",
        "{\"ID\": 6594, \"question\": \"用户取消保稳盈 | 人保福寿年年(进取)的授权后，对此前基于用户授权而开展的个人信息处理有何影响？\", \"answer\": \"用户取消保稳盈 | 人保福寿年年(进取)的授权后，对之前基于用户授权而开展的个人信息处理有以下影响：\\n\\n1. 保险公司将停止对用户个人信息的查询、收集、共享或公开披露。这意味着，在取消授权之后，保险公司不会继续使用用户的个人信息进行新的数据处理活动。\\n\\n2. 用户取消授权的决定不会影响之前基于授权而进行的个人信息处理。也就是说，之前已经收集和处理的个人信息将不会受到影响，保险公司不会对这些信息进行删除或修改。\\n\\n3. 用户将无法使用需要授权的业务功能接受服务。由于取消了授权，用户可能无法继续享受某些需要授权才能使用的保险服务。\\n\\n综上所述，取消授权主要影响的是未来保险公司对用户个人信息的处理，而不会对之前已经进行的个人信息处理产生影响。\"}\n",
        "{\"ID\": 6595, \"question\": \"什么是'严重脊髓内肿瘤'？\", \"answer\": \"严重脊髓内肿瘤是指脊髓内部发生的肿瘤，这种肿瘤对脊髓造成了损害，导致患者出现瘫痪的症状。根据保险条款，这种瘫痪是由于脊髓内肿瘤造成的，并且需要满足以下条件才能被认定为严重脊髓内肿瘤：1）患者必须接受了肿瘤切除的手术治疗；2）在手术180天后，患者仍然存在后遗症，并且无法独立完成基本日常生活活动之一，如移动（自己从一个房间到另一个房间）或进食（自己从已准备好的碗或碟中取食物放入口中）。这意味着严重脊髓内肿瘤不仅是一种疾病，还涉及到疾病导致的严重后果，即瘫痪。\"}\n",
        "{\"ID\": 6596, \"question\": \"因轻度面部烧伤或意外导致的重度面部烧伤进行的面部重建手术是否在保障范围内？\", \"answer\": \"因轻度面部烧伤或意外导致的重度面部烧伤进行的面部重建手术不在健康福·重疾1号（人保长期版）的保障范围内。\"}\n",
        "{\"ID\": 6597, \"question\": \"如果保险人在合同订立时已经知道投保人未如实告知的情况，保险人有哪些义务？\", \"answer\": \"\\n根据保险条款中的相关内容，如果保险人在合同订立时已经知道投保人未如实告知的情况，保险人有以下义务：\\n\\n1. **不得解除合同**：保险人不得解除合同，即使投保人未如实告知的情况足以影响保险人决定是否同意承保或者提高保险费率。\\n\\n2. **承担赔偿责任**：在发生保险事故的情况下，保险人应当承担赔偿保险金的责任。这意味着保险人不能以投保人未如实告知为由拒绝赔偿。\\n\\n3. **不得提高保险费率**：保险人不得因为投保人未如实告知而提高保险费率。\\n\\n4. **保密义务**：保险人应当对投保人未如实告知的情况保密，不得泄露给他人。\\n\\n综上所述，保险人在合同订立时已知投保人未如实告知的情况，其义务主要是不得解除合同，并承担相应的赔偿责任，同时保持信息的保密性。\"}\n",
        "{\"ID\": 6598, \"question\": \"受益人的有效身份证件是申请全残保险金的哪一项证明和资料？\", \"answer\": \"受益人的有效身份证件是申请全残保险金时需要提供的第(3)项证明和资料。\"}\n",
        "{\"ID\": 6599, \"question\": \"如果被保险人因同一疾病原因确诊多种轻度疾病，保险公司会如何给付保险金？\", \"answer\": \"如果被保险人因同一疾病原因确诊多种轻度疾病，保险公司将仅按照其中一种轻度疾病给付保险金，不会对每种轻度疾病都进行给付。这意味着，即使被保险人同时符合多种轻度疾病的条件，保险金的给付次数和金额也将按照条款中的规定进行限制。\"}\n"
      ]
    },
    {
      "cell_type": "markdown",
      "metadata": {
        "id": "5fCEDCU_qrC0"
      },
      "source": [
        "<div class=\"markdown-google-sans\">\n",
        "  <h2>What is Colab?</h2>\n",
        "</div>\n",
        "\n",
        "Colab, or \"Colaboratory\", allows you to write and execute Python in your browser, with\n",
        "- Zero configuration required\n",
        "- Access to GPUs free of charge\n",
        "- Easy sharing\n",
        "\n",
        "Whether you're a **student**, a **data scientist** or an **AI researcher**, Colab can make your work easier. Watch [Introduction to Colab](https://www.youtube.com/watch?v=inN8seMm7UI) or [Colab Features You May Have Missed](https://www.youtube.com/watch?v=rNgswRZ2C1Y) to learn more, or just get started below!"
      ]
    },
    {
      "cell_type": "markdown",
      "metadata": {
        "id": "GJBs_flRovLc"
      },
      "source": [
        "<div class=\"markdown-google-sans\">\n",
        "\n",
        "## **Getting started**\n",
        "</div>\n",
        "\n",
        "The document you are reading is not a static web page, but an interactive environment called a **Colab notebook** that lets you write and execute code.\n",
        "\n",
        "For example, here is a **code cell** with a short Python script that computes a value, stores it in a variable, and prints the result:"
      ]
    },
    {
      "cell_type": "code",
      "execution_count": null,
      "metadata": {
        "id": "gJr_9dXGpJ05",
        "outputId": "beb4aaca-6eac-4b30-f2ff-ea4308968122"
      },
      "outputs": [
        {
          "data": {
            "text/plain": [
              "86400"
            ]
          },
          "execution_count": 0,
          "metadata": {},
          "output_type": "execute_result"
        }
      ],
      "source": [
        "seconds_in_a_day = 24 * 60 * 60\n",
        "seconds_in_a_day"
      ]
    },
    {
      "cell_type": "markdown",
      "metadata": {
        "id": "2fhs6GZ4qFMx"
      },
      "source": [
        "To execute the code in the above cell, select it with a click and then either press the play button to the left of the code, or use the keyboard shortcut \"Command/Ctrl+Enter\". To edit the code, just click the cell and start editing.\n",
        "\n",
        "Variables that you define in one cell can later be used in other cells:"
      ]
    },
    {
      "cell_type": "code",
      "execution_count": null,
      "metadata": {
        "id": "-gE-Ez1qtyIA",
        "outputId": "e8f0c2b1-3c1e-4476-f8c2-d8f31cdb5e75"
      },
      "outputs": [
        {
          "data": {
            "text/plain": [
              "604800"
            ]
          },
          "execution_count": 0,
          "metadata": {},
          "output_type": "execute_result"
        }
      ],
      "source": [
        "seconds_in_a_week = 7 * seconds_in_a_day\n",
        "seconds_in_a_week"
      ]
    },
    {
      "cell_type": "markdown",
      "metadata": {
        "id": "lSrWNr3MuFUS"
      },
      "source": [
        "Colab notebooks allow you to combine **executable code** and **rich text** in a single document, along with **images**, **HTML**, **LaTeX** and more. When you create your own Colab notebooks, they are stored in your Google Drive account. You can easily share your Colab notebooks with co-workers or friends, allowing them to comment on your notebooks or even edit them. To learn more, see [Overview of Colab](/notebooks/basic_features_overview.ipynb). To create a new Colab notebook you can use the File menu above, or use the following link: [create a new Colab notebook](http://colab.research.google.com#create=true).\n",
        "\n",
        "Colab notebooks are Jupyter notebooks that are hosted by Colab. To learn more about the Jupyter project, see [jupyter.org](https://www.jupyter.org)."
      ]
    },
    {
      "cell_type": "markdown",
      "metadata": {
        "id": "UdRyKR44dcNI"
      },
      "source": [
        "<div class=\"markdown-google-sans\">\n",
        "\n",
        "## Data science\n",
        "</div>\n",
        "\n",
        "With Colab you can harness the full power of popular Python libraries to analyze and visualize data. The code cell below uses **numpy** to generate some random data, and uses **matplotlib** to visualize it. To edit the code, just click the cell and start editing."
      ]
    },
    {
      "cell_type": "markdown",
      "metadata": {
        "id": "4_kCnsPUqS6o"
      },
      "source": [
        "You can import your own data into Colab notebooks from your Google Drive account, including from spreadsheets, as well as from Github and many other sources. To learn more about importing data, and how Colab can be used for data science, see the links below under [Working with Data](#working-with-data)."
      ]
    },
    {
      "cell_type": "code",
      "execution_count": null,
      "metadata": {
        "colab": {
          "height": 249
        },
        "id": "C4HZx7Gndbrh",
        "outputId": "65838ba2-0ea9-41b7-e3f9-a725be449d3b"
      },
      "outputs": [
        {
          "data": {
            "text/markdown": [
              "![Sample Visualization](data:image/png;base64,iVBORw0KGgoAAAANSUhEUgAAASAAAADYCAYAAABLNT5AAAAAOXRFWHRTb2Z0d2FyZQBNYXRwbG90bGliIHZlcnNpb24zLjYuMSwgaHR0cHM6Ly9tYXRwbG90bGliLm9yZy/av/WaAAAACXBIWXMAAAsTAAALEwEAmpwYAABA6UlEQVR4nO29eZQUVZ73/Y2MyKX2AqoKWUUFpChAVpXRplUG9YyKLbjxSg+uHNt2jtO+zul+n/bpZdpRWkdb7WYe27d1pO1umFHHdm1EwQVBxGKHgqIQCmqj1twzI2N9/oi4kRGZkVWZtUVVcT/ncKiKzIq8ERnxvb/t/oJRVVUFhUKhOIDL6QFQKJRzFypAFArFMagAUSgUx6ACRKFQHIMKEIVCcQwqQBQKxTGoAFEoFMegAkShUByDChCFQnEMKkAUCsUxqABRKBTHoAI0BPi3f/s3VFVVYc6cOZg7dy6+/vrrAf28q666CtXV1Vm997XXXsOqVass2zo6OlBeXo5EIoG/+7u/69exvfbaa3j44YcBAC+99BL++Mc/5ryPzz77DDt37jR+7+1+KAMP5/QAznW++uorvP/++9i7dy+8Xi86OjogCILTwzJYsWIFHnvsMcRiMeTn5wMA3nzzTSxfvhxer9dyo/c3Dz74YK/+7rPPPkNhYaEhjr3dD2XgoRaQw7S0tKCsrAxerxcAUFZWhvHjxwMA/vVf/xWLFi3CrFmzsHbtWpDGBVdddRV+9KMfYcmSJaisrMQ333yDFStWYNq0aXj88ccBAPX19ZgxYwbWrFmDOXPm4NZbb0UsFkv7/C1btmDx4sWYP38+brvtNkQiEcvrxcXFWLJkCd577z1j26ZNmwyrqLCw0DiOJUuWYO7cuZg1axa2b99ueR3QhOvuu+8GALz33nu47LLLMG/ePPz93/89Wltb08b2i1/8Av/+7/+O5uZmzJ071/jHsixOnz5tu4/6+nq89NJL+M1vfoO5c+di+/btxn4AYP/+/bj88ssxZ84c3HLLLfD7/cY5/fGPf4xLL70U06dPN8ZPGVioADnMtddei4aGBkyfPh0PPfQQPv/8c+O1hx9+GN988w0OHz6MeDyO999/33jN4/Hgiy++wIMPPoibb74Z69evx+HDh/Haa6+hs7MTAFBbW4u1a9fi4MGDKC4uxn/8x39YPrujowNPPPEEPvnkE+zduxcLFy7Ec889lzbGVatWYdOmTQCA5uZmHD9+HFdffbXlPX/5y19w3XXXYf/+/Thw4ADmzp3b7XFfeeWV2LVrF/bt24c777wTTz/9dMb3jh8/Hvv378f+/fvxwAMPYOXKlTj//PNt9zFlyhQ8+OCD+NGPfoT9+/fjO9/5jmVf//iP/4hf//rXOHjwIGbPno1f/vKXxmuSJGH37t14/vnnLdspAwd1wRymsLAQe/bswfbt2/Hpp5/ijjvuwLp163D33Xfj008/xdNPP41YLIauri5UVVXhpptuAgAsX74cADB79mxUVVVh3LhxAIALL7wQDQ0NKC0txaRJk3DFFVcAAFavXo0XX3wRjz32mPHZu3btQk1NjfEeQRCwePHitDHeeOONeOihhxAKhfDf//3fuPXWW8GyrOU9ixYtwr333gtRFPG9732vRwFqbGzEHXfcgZaWFgiCgAsuuKDHc7Vjxw784Q9/MKyTXPcRDAYRCATw3e9+FwCwZs0a3HbbbcbrK1asAAAsWLAA9fX1PY6H0neoBTQEYFkWV111FX75y1/id7/7Hd566y3wPI+HHnoIb775Jg4dOoQHHngAPM8bf0NcNpfLZfxMfpckCQDAMIzlc1J/V1UVy5YtM6yLmpoavPLKK2njy8vLw/XXX4+3337b4n6ZWbJkCb744gtMmDAB3//+942gr/kzzeP/p3/6Jzz88MM4dOgQfv/731tes6OlpQX33Xcf/uu//stw63LdR0+Q88iyrHEOKQMLFSCHqa2tRV1dnfH7/v37cf755xs3U1lZGSKRCN58882c933mzBl89dVXAICNGzfiyiuvtLx++eWXY8eOHThx4gQAIBaL4fjx47b7WrVqFZ577jm0trbi8ssvT3v99OnTqKiowAMPPID77rsPe/fuBQCMHTsWR48ehaIoePvtt433B4NBTJgwAQCwYcOGbo9DFEXcfvvt+PWvf43p06f3uI+ioiKEw+G0/ZSUlGDUqFGGBfX6668b1hDFGagAOUwkEsGaNWswc+ZMzJkzBzU1NfjFL36B0tJSPPDAA5g9eza+973vYdGiRTnvu7KyEhs2bMCcOXPQ1dWFH/zgB5bXy8vLjTT7nDlzcPnll+PYsWO2+7r22mvR3NyMO+64I82SArTM09y5czFv3jy89dZbeOSRRwAA69atw4033ohrrrnGcBMBLcB822234Tvf+Q7Kysq6PY6dO3fim2++wc9//nMjEN3c3JxxHzfddBPefvttIwhtZsOGDfiXf/kXzJkzB/v378fPfvaz7k8iZUBhaE/okUl9fT1uvPFGHD582OmhUCgZoRYQhUJxDGoBUSgUx6AWEIVCcQwqQBQKxTGoAFEoFMcYcpXQZWVlmDJlitPDoFDOOerr69HR0TGonznkBGjKlClZt4qgUCj9x8KFCwf9M6kLRqFQHIMKEIVCcQwqQBQKxTGoAFEoFMegAkTpNaqqYtuxVigKLaan9A4qQJRec7AxiHtfq8auU51OD4UyTKECROk1IV7U/o/T5l2U3kEFiNJr4oIMAOBF2eGRUIYrVIAovSauCw/5PyZIuPl3X+JQY9DJYVGGEVSAKL2GWD7EEmoO8DjQGMT+xoCDo6IMJ6gAUXoNEZ54ihBFEzQmRMkOKkCUXsNLivZ/iitGBYiSLTkJUENDA66++mpUVlaiqqoKL7zwAgCgq6sLy5Ytw7Rp07Bs2TLjaZMff/wxFixYgNmzZ2PBggXYtm1b/x8BxTEMC0hIxoAAIEIFiJIlOQkQx3F49tlncfToUezatQvr169HTU0N1q1bh6VLl6Kurg5Lly7FunXrAGitNd577z0cOnQIGzZswPe///0BOQiKMxDLh5es2TBqAVGyJScBGjduHObPnw9Ae/ZSZWUlmpqa8M4772DNmjUAtKdN/vWvfwUAzJs3z3jOeVVVFXieRyKR6MfhU5wkGfvRXLGYEQOiaXlKdvQ6BlRfX499+/bhsssuQ2trq/HMp3HjxqGtrS3t/W+99RbmzZtneYonZXiTWgdEBIm6YJRs6VVDskgkgpUrV+L5559HcXFxj+8/cuQIfvzjH2PLli22r7/88st4+eWXAQDt7e29GRLFAUgQOi0LJlABomRHzhaQKIpYuXIl7rrrLqxYsQKA9vjdlpYWANozvCsqKoz3NzY24pZbbsEf//hHXHTRRbb7XLt2Laqrq1FdXY3y8vLeHIeFRn8Mz318HJKs9HlflMykBqHJ/2F9iQaF0hM5CZCqqrjvvvtQWVmJRx991Ni+fPly49ncGzZswM033wwACAQCuOGGG/DUU0/hiiuu6Mdhd89HR1rx4tY6fHK0ddA+81yEuF4xUdL/JzEgKkCU7MhJgHbs2IHXX38d27ZtM57R/eGHH+InP/kJPv74Y0ybNg0ff/wxfvKTnwAAfve73+HEiRP41a9+ZbzfLj7U3/ijAgDgtZ31A/5Z5zIk7R43/qdBaEpu5BQDuvLKK5HpQapbt25N2/b444/j8ccf793I+kBXTBOgXSe7UNcaxrSxRYM+hnOBuG75pMeAqABRsmNEVkIHYgJ8ngRYl4I/fnXa6eGMWGIZsmCCpNL4GyUrRqQAdUUF5PkiGDumCW/ubaBp4QEiKTzWOiAg3Q274cXteKO6YfAGRxkWjEgB6owk4OYETBh7BnFBwfbjvU/tX/ebz/H6LmpF2UEEKCFa14QBQMSUiudFGUeaQzjSHBrcAVKGPMNWgLprguWPCXC7BZQWd8HDSdh6rHeBb0lWUNsawcn2SG+HOaLhdeERZc3lMtf/mJdjBONi2jYKBRimAvTTtw/h+ue/sH1NVVUEYiI8nAAXo2J06VlsO3a2V43TieuWkGg8IxVFUZGQVLAu7RzxkoJYQgTDpK8HMwTIgQLFk+0RVP7vzTjeGh7wz/JHBXxLJ6ucGJYCNK7Eh/rOmG3BWyQhQVIAt1vLhJWPakNXVMKhpty79IV5XYBEKkCpEFEm5zkuyIiJMrxuba2fOQZEBCjiQHq++rQfcVHGsbMDL0C/3XYC/8/Lu9K2t4Z4bNx9JmMGOReCMRHiCArwD0sBmjleW/5hd1EFYtrF7uG0G6NsVBsAFdt64YaRpusJiaaVUyEuMDnPvCgjLsjweDQBMgf+g/p3EnGgQvrbNs0i6YwM/CLojkgCreFEWnjgzT2N+P/+5xBOd8b6tH9VVXHNs5/hzyMoJjksBahqfAkA4IiNVdOlFyGSmdnjFlBaFMAnR8/m/DmGBTTCXLDNh1vwx6/q+7QPknIn55kXZfAWCyjdBXNiiUad7np1DIIAkWM+G+Qt28nvB/rYqpYXFXRGBZwNJY9l1cu78H8++7ZP+3WSYSlAFUVe5Hlk1LSkZ1X8ehEimZkBoGzUWRxpDqMtzKe9vztGqgD95456/P6Lvl208RQLKC7KiIsKPESAhHQBijiwRON4my5AYaGHd/YdYvW1pAgQ+f1gH5v1k3MqmK7HY2dDhsgOR4alADEMg9KiMA7bWEBEgMjMDAClRVqHxhNtuQUIyYwtjDAXrL4zgkCsbzckqXom5znMS5AVwGvnghlB6ME9j7woo8mv3fyd0YG3gMK6wJ4NxS3bzwY11+tAg79P+yfn3BwDEiRlWE+Qw1KAAGB0UQx1bRHLbAAAXVHtInCbLCCfV7sgUk3jniAWUH8+92rntx245z93Q3bocca8KKM1JCCaUNLOXa77AZLnuZO4vpwABqqtCxYb5CD0t+0RaGdZzdn67Q0kxpVmAYW03w83B/tUIU4sILMAibIyrGOUw1aARhVFIcpqmlUTiGk3gJtLmvtej3YBnA3lKkB6ELofBWj3qS58Wts+KDOyHQ1dyUBoIN57K8hwwXQLiCwAZlkZbk62zYJJyuAG9Mm1UVQQGpwYkG6hmCc6UVbQFRGR54uCF1Wc6EOanpxTMnGoqgpBVo16rOHIsBWg0cVRAMCRZqsb1hUV4HFLYJjkNo6V4XFLvbeA+vGmIWY0CZYPNvWmTAzJGPYGctETC4gcD+uSwbGyrQsGDO5K+RNtETCMilHFneiMCP2SBu8OcmxmC6g9nIAKoGK0lgQ52ND7OBC5dgQ5WQAK9O/1OdgMWwEqyufBsemBaH9MMGZlMz5PPM007onQAAShieXQFXFGgE53Ro2f/X0QwTQLKEYsIAksK1lcMHO8KVM19P6GQNpk0ldOtEVQkBeHz8MjIakDGoNSlKQl0hxIijyxukeXdMDNyX3KhKUGoYkrFh/GHSiHrQC5GKAwP5SWivdHRbBcurntcccsF0Y2GC5YPwoQWbDZ6ZAFZK5F8ffFAhLsY0CsSwbLipabPRAXwEA7h8SqTOXn7x7Gkx8e7fV47KhtDSHfFzRqk/qrFmjPaT92n+qybDNn/VqCySB0qz7p+TxxFBV09UmAUoPQRIhoDMghigu7UH3aj//1PwcN96ozysNjI0BeL2+5MLKB3Cx9CdamQi6ivtwMvCj32p2o74waqfK+ZMJS64DMMSCXS7QUHQbjIrxe7fvJtBwjGBfQ0Y+BYlFWcLozhoL8sHG8/RUHeuajY/h/39hn2UZcTq8njq6oZFwzxALyeXmUFAZwrCXUa8EwLCDZagEN50r9YS1AUycfx4Sxp7DpmzO44cUvkJBkbSEqZ++CmS+MbAgZafjs/+YvX5/pdiY3XLBeWkBtYR4Ln/gE7x1s6dXf13dEUFKopYP7YgEZAsSJANSUGJBkqfkJxSXk6ZnITK1RYgnJaCTXH5zujEJWgMK8iFEc2dFPbm8wJqChyzqhEdeyME8LMreGkokPl0uBmxNQWBCCpFgTAbkQSwlCE8ucxoAcws2JmHnRIcy5+Bt0RkV8c8qPQEyy1AARfPoMnEs6Nsxr+xEkNWuL49PaNrx7oCnj66SNaW9dsLf2NCGSkHKuaQK0GbMpwKOoIATWpfTJAiJpeE1wFJMASboAJUsYRFk1SiEyxYBigoxATOq3QPHRFq04r3AALCBS7/P1yaQbRta5FeRrn0ssn9YgjzyPAIaBIcJNgd5ZesR9JxaUYQHROiBnGVPaDtal4INDLRBl1VIFTfB5cq8FIkFoFcmMQ0/EBdlY+2QHuQF7YwGpqor/+ua0/ve530zNgTgUFcj3ReFxixnHcLQlhKf+drTbmpW4KIN1KWAYgGMVIwjtYmVLEJpkwPK82qxvJ0CqqiImKBBl1dLUzI73DzZjzau7ezzWPaf94FgZhfmhpAD1UzU0EZtdJzuNbeS4CnQLiCQ8zoZ4eDzasfv0c9Ac6D4UIEgK/vW9GsOKIpDJS9QFR6Au2NCAY2WUFnfig4PNAGCfBdMtoFwyYRFeAvRStmz99pggIS5mLg5LWkC5C8g39X7Ud2oXb28EjKTg831RuDkhowv25p5G/P7zk/jtthMZ98ULMlhWu/BZl2wINHHBYvrTUokA+QwXLP28JCQFpC6zp+P66ttOfH683ZLat+Ob+k4UF/rhcqlwuVR43FK/1V6RdPvOb5ON7iKGAOkWkO6eNQdi8Lq1n72eBBioPQrQwcYAXt1xCluPWhdQkxhQIiUInYuFPtQYEQIEAGWlrYbFYhcD8uZoAcmKNisTMcvWzCUCk+kGIbGT3rgDm3afgZuVUVwQQGcv4hln9BR8ni8KjuMNqyUVsrbot9vqsOd0l+174qIMzqUdi8uVFBVWt4BEWYUgKUkB0s9/xCYLZraKMo0p9fVGf+Y4SkyQcLQljNKi5Ni97kS/uGAJSRNbjzuBM6Y4EDkGn5eHm5XREuShqirawgkjAO9iVOT5BDT1IEC1+vlPtXKJdSimpOFzsdCHGiNHgEYlZwu7GBDHSuD0CyMbyIxGzPdsBYg8KSKTG9bbLFg0IeGDQ80YW9YAnzeOjkjucYT6zhhYlwKvJwE3J6Irar+P2tYQyke3wOeN45FN+2xdsbioGMLj0puSMVDhYhRwrGSMmZwHj1sA61Jss2Dm4sSeAuNEeBv9mW/iAw1BKCosAsRxfL8IEBHQ8lFaYSGJAxEB4lgJPi+Ps0EeIV4CL6rweZLn2euJoqUHATqut5lJjROSIHTCJvaTKRD91p5GbBjCj6caMQJUkBdBvk/7ou1iQFoQkE9bKJgJUgNEBCjbTBgRmEAPFlAoLue0HqwlGEdCUjGqpBMed6JXGaPTnTEU5MXAMJqVaFcJHeZFtIYElBb5MWXCcTT6edslLLwopwkQx2kxIVYXoEhCMiwgjhPh5mTbLJhZlHoqjuzURbM7ASJWW2lxcvGnx833y3owIpaj9Ha/JA5EXEuWlbSas2DciOEQ61v7Odat9QYk+1yluqPkwY9iSiU0kDkO9M6BZvzP3sbsDs4BRowAMQwwplSblewsIG17LGsLiNQAeQ0LyDrDvLO/CZ/aNDkjT4iwu7lVVQUvquA4ASp6djfMJN1LER63gGBMyrnNbHuEh9utXfwet4BgPD3rRLJrhXlheN3aubKLy2gCpI2JCBGr/08soJggGwLk5gRwKRXSBPO2nmJAxCroLpW957QfRfkRy3pAj1volzQ8yYBxnIjiok7sO5O0gBioYF0yvN44GrtixhjNFlCeN46zoUTG705VVRw7qxXXprrZ5DwZQWjTpJgp5uiPJlCcl9Pj/waVESNAADBlwglcPOUIPG5768PnjWeshm4L85abkQgQqaJNnWGe+7gWP3/3UNoNzBsCZHfTaq+RjFAugeQQuZFZER53AoqaOc6Uia5owoiPuTkBipoUNkKdLkAF+REj/mVXMhATJEOAiPCwbNIKAKwWkJsTtQppWwvI7IJlPieKoiIY0/4+kwWkKCqqT3ehuKjTst3rSSDCy1lZsntOd6Etw8Jl4oJxrASfJ462cLL9CLEAR5d0ojMq4pFNWrEiiQEB2jUoyio6MgTE2yMJBOPETbeOgTzymlg+5lXxmRakBmICSqgADQ75vhimTMjcaMvn4dEeFtJcH39UwJW//hR/O5zsmpjqgqXGgDojWhCy1tQMSlZU4+KwEwcSoCb1ILkEkolQcJxoWHi51hL5Y6IhKmQfqUJZ1xoG61K0TJn+Hrt1a3FBTgpPmgWUbEwfjIvwcNriYJdLtHXBYlkGoUO8aGTLGrqsdVBNgTj+/y9O4vlPjiPMyxhVZA2ek+8xm0zYva99g998ctz2tYgR6xHh9SQQiEnaE0ESEty68E6oaMC8GbshKloRotdjFSAAaM5QC3T8rHZced5omkgl23FoJyEbCygQF1GS7+7+gB1k6ErjAOD18FBULQM1tthnbD8b4iFICupaI8BsbVt3LhgvyogktC//b4fOYsZ5Wo/quKlth50LRl7P8/XeAuJY0Yhx5fL3kqwgwssYy1k7RnZFBZw/psB4X11rBAX5ETBM8qa1E4WYKBmC42JJLIiMMRmEDsVFuDndUmIlo7rcDLmpXS4Z/mhmq85ot8sJaAy4oKoqZEXFqztO4bmPa8GL2o3pYhSMLumw/K0hQBEB40ryMn6GJCsIxiUczLBmyxAgToLXzUPVxxUVJMPyA4CKMWdRWrwVfMIH1pUUijxDgOKYO6k0bf9kQhtd0onWjgKoqgpGb+1AsmCKqk12ZgGys4BkRUWEl1GSN3QFaERZQD3hM335ZohYmIOtaRaQ6Qs23/h/O9xs/BxPWYCZCnmduGB2s7G2himatj1sxIAkY0y5CBAJirsNC0j7PVUoa1tDKPBpHQY4VoKLUQxLK5KQ8MqXpyArKuKCbAgPmxKMTnXBOF3sOFaybUwfM85LvNtjIq8VFwYQTSgIxSX8+eszePLDYygqasF35n+Cay77EFdf9jfk+azfMZlI2nvIhJHzfLw1Yvv0ibDJBSPueVs4gTAvgWWtx+ZxCygutHZr6KkY8fjZMHweEYX5YUgKEDZZh+YiTUFSjEJEwN4CCvMiVACl1AUbGuTrlseZlAAmcUPMfj9xeexcMOI6jS5px/HWKE51aIJh7pwYjNu4GvoF5LNxwUK8iP/918NY9G8f47vPfJbWmiLEi3AxWuqbuFE5CVBKr2wSC/KntMpoCSaM5QQMA3g9kuGCbTlyFr96vwa7TnYiISkZXTBt3ypqz4YRiAtgWe0ccimr5I3PFUgNTSxjaYD5eEsKAwCABn8MnxxtRWF+FPNm7EZ+XgxuTjJcQDMkDtNTHRgRGFFWcbI9fSIgFhDLShZRiyQkwwLsDo6V4ObkjLVAx1pDyM8Lwk0mGf3cq6oKXlCM57AJspLigmk/P/72ITy7pRZAcnKhFtAQIc8XBZB+YRHroMWUog/z2uzPceQLT17UxDefdJ62LGKzHjuyumA2FpCYzBJ53ZJFQD6pacXru06D4bR91XdYRVJzZWTdNSIClH1di9Gq1p2sywGsdTdGBiw/GddycwnDAmoxPd2BF2WT5ZMqQBLGlTfh9V31ONMVM7JRLCvbtmWNJiQwjKotGO4mBkTEslgXoG/bI/j6VCdGl5y1NKCzw+vhs6pCNruINS3aJPDbbXV494Bm6Ub4ZLaLWEAd4QQivGi4nt3BMHpvKpsYkKKoON4atiwfIeeeFxWoSFqwgqRYLDTStfOrkx348oTmfpLreijHgM4pAWJdCgp8vGGxEAwXLGgWIO2GJzeV2QXr0DMfxYUBFBeEsEP/wpMmsmobNyEumFYrkrAIUH1nDAxUzJm+BwDS1gGFeMm4kbXV1XJaEDqSkDL2r04+LSRpjTBQLUJZZyNAHMcbriKxHvadCYAX1aTwsNb/AeCiSbUQZAXtYQEcl4wNxUUlLQUdTchwszLcbqHbBamdKRbQ2/uaIEgqykrbbd9vJtsq5JApeVDTHEIgJuD5T47jf/ZotTSRhGRMBFYLKDsBArRixEabbGxTII64oOgCpCcadJeRJDDINSBmsIAiCQlt+kRKvtsRYwE1NDTg6quvRmVlJaqqqvDCCy8AALq6urBs2TJMmzYNy5Ytg9+fLAB76qmnMHXqVFx88cX46KOP+nf0vcDnC+PbdutjTEi8xh+VjFklzEtwcxJcrvSqU3IjeNwJeDxx4++JwHg9PAKxdOuECBTrki03NqC1j8j3JeD1JOBiFCO9SwjzIlg2KRYeTkhzwW588QvM+9UWPLJpX9qjiEmBH7GANEtKsgjlqY6IfqMmbw6PO2Gkg0mMbPcpLcXNpsWAkgJUkBfF+PIz2mdyKcHplGromKC5TR5O6HZBqj8qgGNleD083JyMz4+3w8VoxZnZ4PVEs7CAkgHxI80hfFzTClkB2vRzEOYlwyom/a/bwwlEBdkShO4OnzeOJhsBIuc3zxtPc7NjKQ3gUmNAZOKJCsmJiWRiR0wanuM4PPvsszh69Ch27dqF9evXo6amBuvWrcPSpUtRV1eHpUuXYt26dQCAmpoabNq0CUeOHMHmzZvx0EMPQZbtL67BoiAvgpMdUcssG9DdExVaD18gecOTm8oc5OuMJMC6FH3hpWgErMlF4PPEEbCJAREXjGVluN0Jy3KK+s4ofN6wZqJ7xbSq3WBcBGcKcrpTLChZUXGmKw4XG8T7Bxux/lPrQlJ/yhNjAc0NM7tgnREBXo8IF6Na3tOlv4fUUJH4VloMKOUGvGjScbAu2Qi6s0Z2TL9pE8nfNauw+9hWZ1SAxy3qVe0xqPpyC7uYjx1aFXJ6XMcMccFKi7pwpDlglGaQZmmplo62xkxALCFnbQH5vHH4o+nWKrHE3W7BsFSJmEQNC0j7XZRTg9AKVFVLDvCi9lQSMumUjhQXbNy4cZg/fz4AoKioCJWVlWhqasI777yDNWvWAADWrFmDv/71rwCAd955B3feeSe8Xi8uuOACTJ06Fbt399xKYSApyIsgLiiG0ADWjBVxfUK8pAtQesuDzogAn97jxdz7hgiMz8sjwqcvtSC9e1mXNtubg9D1HRE9RqW1j20LWS2gYDzpygCAm+Mt68lCca1GZtJ59SgqCBhuIsEf09Zimd0klk1Ylj50RgW4U7pJujkBEV6GKCtoCcZRmJ/M6mSKARHyfHF8Z8EnmKjHyoiARhIivrf+Szy9+RgA7eZysaJtYNxyDKbxeb2auzimNL0aPRN53jjOBtOrkA83BQ3rlbhgo0s6EIzL+Ky2DQwUdEVFqKqqB5uT43O742jyxyAp6QLc3TiA9EyY8Uw7TgTLKuBY2cYCSrYJFiQFDOnWIGrPByOa1B5OGDGgYt8IsYDM1NfXY9++fbjsssvQ2tqKcePGAdBEqq1NuyiampowadIk428mTpyIpqbMzboGg/w87Sb/1hSIDsSS1oUhQHFBT0OrYBjV4oK1RxJw68sUzMsLYoYLFtf3Yc2KxFJiQMG4pFf3igjGZWNsHjeP1pQ1a2E+1QISLC5cl3HxCvCkWFeAdvN6UyrE3ZxgCWR3RRPgOOvfEaukLZyAPyqhfFQrXIx2LrqLARE0l1I1zhWgLRZtCvBGe5BIQgLrShZYZrSAIglwugCRmzgXAfJ545AUayeCP2w/iRt/+yX+pD9vPay3YBlVrLl1iqrV9EiKZoWmfg8edwL1etlEthYQmWhSnxUfTLFSvaaeTSR4T86RKGtBaDenbedF2VJl3hFJIBDTikA5duiGens1skgkgpUrV+L5559HcXFxxvfZBRMZm3TFyy+/jIULF2LhwoVob+85oNgXCnzazGkORPtjCSPw2qpbHiFeNCwO1mXt79MR4eHWb1SO01Y8S7JisYCA9AWpcVMXQY9HW07RHkngdJc2lnz9wvR60hdOhk1BaEB3jfRZGUjGeDxuAW63gI6Um9gfE4yb17qP5LaOSCJtIS/JxhxtDkHVx1ik17akxoBSLaBUiIXwcU0rAKBdP8YoL1pcsEyPC+qMJoz3VIxuwXljmlBcmP2TNIgrSALR6z89gSc+0NrnkgxfiBfh5hQUF2jH6PMkjEfqdEQEXYBMLpiHNzKM2QpQgT7RpCVD4gJcjGqcJ7ebzxiEFnQLiGVlMNAmSHPsrCOSQDAuGjG/oUrOAiSKIlauXIm77roLK1asAACMHTsWLS1aj+KWlhZUVFQA0CyehoYG428bGxsxfvz4tH2uXbsW1dXVqK6uRnl5ea8OJFt83jhYl4KTpgfEBWICCvK0ACwJBEYSknFBsS5rxqEjkjBuTDIbRhOy8aQI0vsmNRWvLV/Q1guV6DfOntN+S6MwQLMagnHZ1HBK0RexmgRID9iSupoukwB53NrsZ54AuqI2AqTfPMQl8ceEtIW85IYnjz/yeuMoLvDr5yU1BtS9AJHz+UVdu34e9XMtSOBcctozxlLxx0QjNjKmtBOXzNjTY/rdjM9oiRpHQ1cMz3xUi/PKGpHvSyYEQnFN6DlOwuiSDoyvqDeWUnTo9T4slxQach1ox5+dALk5AR5OMiwny/GZnmnnNrUQSQ1Ci7K27MflUsCyil6dn/z89oiAQEwAx9qfy6FCTgKkqiruu+8+VFZW4tFHHzW2L1++HBs2bAAAbNiwATfffLOxfdOmTUgkEjh16hTq6upw6aWX9uPwc4dhtBnopGn2CcS1PtI+r4DWEA9RVhBLKIa4aBZQ8mmUXdHkmipy0YUToqnQ0N4CigmyETAtLgiAY2V8fbITpzuIBaQJEVmFTqp2SZDbPMMayySi1riJ2609F01WtJuJ0BlNt2687oThWkiygnA8WeSY+jk1zcQi4FFSZBUgIozuHi52IlAxQzQ1kYwmtGUMbk4rDbCLASUkGTFBydjpIBvMlfDf1GtrxS6YeAIed9yIx4VMLtaiWTsx7fxaS0/pSEqw2WsSoGwtIIYB8nyRNAsoGEvGwQCrmx1NtYBkbYJyMYpxfZpdsPZwwtbqHWrkFJ3asWMHXn/9dcyePRtz584FADz55JP4yU9+gttvvx2vvPIKJk+ejDfeeAMAUFVVhdtvvx0zZ84Ex3FYv349WJbt94PIlTxTKp4XZQiSqsdOYmgN8th3JgAVMMroGZMABeMiZCW5Sp5cdJGEhLgow+VSjAs2tSlZTJCNm9DlUlFS1Imd3xbjkkmjkOdNGK+RGbc1xGNCaZ5pGYY1BgRogeNJo/MNN8DDJTMoHdGEUYQWiAkoLkkRINNSAllVocI6o2ufqf3NEb0oz+flkeeLISHUGEJUmB/BgplfYXSpdf1VKubYSVFBEOFoCYJxEXFBQTEr2ZYGEMgaMbt2u9ni5rQanmY9/uTmZBTlh+DmkjGz1HIH7TP18xRKIC4o1onAk7sFBGgCdDKlHMQfS1aNa58roKlTNLJb2jGQNLzmdjGMds0lJNlSZd4RSehPiBnaLlhOAnTllVdmLBLbunWr7faf/vSn+OlPf5r7yAaQgrwITjfHIcpKMvXJifB64mgJxfFlXTsYqBhdorkKLkY2YkCkp0zSBdMFiNfSqpxLMb70VBfMXD0MAKOLO1F3pgKKCvi8SZeQCFCbKR4FwOqCGevBkgtGSZbLnM6+qFxL0YfiMsaMSb2xdEsrnIDLMPvtXDAVDV1xcKxWdsAwwIUTrWn+slE9x+7MN+55ZU0IR0vQHk4gLiazcx63YLsglVgCfREgQAteNwXiqO+IoLiw01h0S/YfjAsWoSSfyUA11uiZXyfWaurx9URBXhSnGhMQJAUeTnNE/KZ2KYBWNErcbNIILWkBaUFol0uzgHgxaQExUNAR1mJARcUjyAUbKeTnac+MauiKGSl4Nydowd8Qjy/q2lFSFDBWcbtcspGGJ0FBYnqTorRwQkJcd7HIRZTugiV76ADAKH3F9rftUeT7zAKkV9iGSUZOt4As2RdSKZsUG6/HuoDWcCviom7d2FtA7RHeVFxpfY9W8auv1fIkcoq5pOJyKWAYFQV5Mct6LiBpPbBcwnbBqGEB9dGl8HiiONoSxIm2qNGy1RzQD8bFNKtBWxMnGrG6TBZQLgKU74tCUa3rEv1xawzO49G/24iAmCAZtWeA1pRMMCwgbYIkApTni6E1zBvxrKHMOSlAJBN2sj1qXNhEgCIJBQcbgxhdkkzvMoxsuGCpN2oyCC0hprcpZRjAw0lp2ZyYIFsWLJYUBoxWDSQFr+1be3oCqYZOWkCmCz8lYGuukUk2EtOtJFOK3ozXZAH5MwiQeZvH030RX09oNzKP0SWthkiSNW/k5i0u8GPfGX9aPyVyLH2JAQFaJqzRr7XRGFVMBChhxMy0Suf0m9aSbufMMaDkeHJxwfL1x/fUm+JAwVhKptPkSpP4IalLE2QFgiyDYRQwLskSA8rzxVDfoQmc3QMahhLnpgDpKfcT7REEiQXkFo3WmYqqPWuM4HLJRtNvkpWwc8HiQrJNqdstpt1EMUGyZIpcLhWler0JyYABSFZDh1KC0KaLk2UluFnZKGbrNNXwGC5YhKS17cWFZbWLuj2cMIlUuoVB9mtuLdpbLp31JaZPqTHOH7EAyCrv8eVNEGUVmw9bn/zanUDmAglEM4xqxLDIPtsjCUQTcpoLBmgFh6QLo7nthsulGBZirhYQkEzFJyQZcVGxumCm7zGqL1dhmOQTMRKS5oK5GFmrA9JjQPm+qFGtTi2gIYibk+DzCPi2LWKKAQlG7IVjZZQWJdezuVyKsdpYiwGpxkxsDkKb+yRzrJAWA9LMaGuqelSx5obl+6xFaR533KgFsnPBtExKsu9wpyl+4HIp8HCSYa11maw8M5pFImgCFMl8g5O/8/aDAOX5tFhSelxFzw4WBlCYF01rpK5ZemqfZ3QiQMUFIeMziRg2+GO61ZAuJFpm0VpQmXwtoQmBK/se3R63CK9bwin9+IOmWKR5v4A26cX1tWaGBSQpECTZaNFCChFdjGIUaWr7oxbQkCQ/L4S6tnCyURcnGjfYqOJ2y8VEfGxAiwF53ZJR3Wuk4XlJj/GQ1HQiLZtjJ0ATx57B1MnHUFRgLajzuOOmZSFaejrVxPd5I0YRo7ndqvb3giFA/gwWkHbcccMCcnOy7U1EbgSft/uFnLlAeg2d7rLGgBgGGFvWgK9P+S1LFVpDCfg8Up9iUECygrrE1DM66Q4SF8veBSOkCpDbHYM7y/VolrH4woYFlLwOk9+RzxuHxy1h35kAorp1TarQBX0tmCZ8SQHiOMUSlxpxhYgjhYK8ME60hZPZI5eMPG8cHCdi7Bir+e9iFGPhYGdEsFyM2iNutCKwmKktZ+oyB0Dr6ZIqIl5PAhdNOp52Y3k9PFoNC0iE2y2nvSfPF0NTQMvmRXjZcvFyHI+uiLVWyG429Hh4tIa1ToSZ3BuyvT9cMOt+eTR2EbcmeV7Gl2vWD+nBAwCHmwMoyAv0+TML8rRnxZPqZm0c2vERMbBzwSz1PikWUp43ZizNyQVzKp5Y4ubvgGGA0qJ2bD/Rplk3LjHFAtLrgBgFvCQbNUrmzBy1gIYoBXkRRBJaH2hSfcqyMq5a9BHGVzRY3msuRNTWgVktATcrIaJbQMTC8Xl4nA0lLA/1i6ek4bvD60mgK6IXCPLJhudm8rwx8KJqNBKzWkDJ2hZ/TNQrZm3WarkTmgUUFYzlJakQwTU/36o/4DjeWNFttiry82IoLfLj3f3aukFBUnC8NYKiHJZdZMLjFnH1pR9hjKlmiRwfESC7uIk122V9ffqUo5hX+XXOY8n3RdEaEsCLsmUhqpnRpe1oDiRwoi0MVq+VYhjVWAvGuBQjRKC1NZEsEySNAQ1RyNqvPaf9llmCLJUw43Ill0W0h+NpFcWsviLeXOdTWBCGIKlG6lZRtGeC9bRcgUAanndGBX1dWvpMRvr2kAbqZgEyrwfTFqLauy9k2cfZYNw2AA0ApcVdKCn0oyA/Yvt6bzFbFamW4ZjSVhxtCSMYE1HXFoYoqyguCPTr5xNcLtWyNMLOAvJ0U+/jcQtpMbxsIGvCTnfGTDEg6/c8Ri/VCMYl09IXxWIBaUkSxWgL6/VQARryFOhp0GBctFSf2uEyWUAdEcEyGwIAywpaHZCpoK4oX5uta/WnXJK/z8UCArRixGBctLSAIJCL/kCj9lnWDEpyPZhWEWt/jOTGOtURy5jiLikM4vJLtmfddydbrFaFdd+jSzqhAthd34XDTdrx5bLwNOexuAU06VmuVBcLSKbbtUxU/3wmycYebw2bLCDrd1CQF0Gex5rwcDGqZS0YmSCjCQmsS9K/R9WSth+qnLMC5PXwRuCwJz+ZfMExQUJMUNKyQaxLQpgXtRiPLjDao21UHDurLecgq5mz7pqni8uxsyEE4/Yl9eQJC3YWkHk9WGuYT2uzQSBCJymq7SOtBxLLQk6X9byUFPnBuhR8fbITh5tCcLOypVShv3G7eeOZY7YumD7W3gSbM1GYp10jWvN+UV8Jb90/wwClek1asv+SNiGKsppcCyYqiCS0rgIuRoXPI8Hjzr4swCnOWQFimOQM1JOZ6mIUSEpyaYTZdQAAlhMRiAn6jJQ0kwvzYsZzvs3tWLOhKD+EfF8c7x1otrQGMcOxMnweEcdayHGY1hHpP9d3RnG4KWhUHqdiPpa+FvnlCvls1iaFzboUlBT68dXJDhxqCqCwINBvlocd5nNn74LpY7WxjnqLy6WgMC+K2taw1rtH7/aYClkSRCYvl0vVm9InLSBJIQtpk09z4Xqw7IcC56wAAVoqHujZAiLVyqSPjCfFAuJYyViiYZ7BCvIDqGkOAEi2a802BsQwwHllDfjyRAc6I6LtTQFoqXhJn7rNj6Qm1tC7B5ohK0DZqFbbvzcfS+pC1IEmWcxpf05GlXTgaEsYR5pDxpMwBnosdmIIaDe91601TutPCvKCONoSRKCbhaMkDmQsDWIUw6LWYkDkceDJLGxJUQeKC7ts9ja0OKcFiMSBepr5iVXT6CftMqw3KsdKCPHpFk5hfghNgYSeoievZz+DjitvgqJqvV/siuMAwOfVMzcp/j65od7Z3wQ3J1kKK82Yj2XQXTBPDwJU3Gkcf3HBwMV/ANNyk27cFrc7kbZSvq8UFoTQ6OfRFIiDzRCny/PFsWDmVxhfoTX5Z5hk7x/GtD7MXOYx86KDqJp6sF/HOhCc0wJUmJelC6bf2A16zYrXkypApiUSJgEq0rvq1Z4NGwLkytIFA7RMXXGBNkY7FwxIZsLS+/hov3dEBIwuactYpavN7H1vddEbDKsjQ1ystMhvFN4NlgWUydIEgMnj6jBx7Ol+/VySjT3SHMqYKAC0bgPEwnW5kuu+zBYQkNtykKHAOS1AxYVBsC7J8hwsO8gX3OjXnt2V6qqYv3TzzVSUnxSgXF0wwtgyrSbJneHGIG1G3SljMotJ2ag2dAcR1MGPAZGlI/bHxrIySoq0xm3EWh0okmKY+RxMOu8MxpU3Z3y9N5BrRFbUrFPmDJNsz+EyWUBA7teX0wzddvmDgM/LY+nlH/YY3HQxxAWLw+tJDxSa07bmi8HnjcPNyjh2NmQ8HC7XVPb48kY0t01OW6pBIKn41M53ZD2YIHEo66FxO8fFARQOugVExpj6THUzF06sRYwvGNAANGDubjC45yDPFwPHypBkNicBilgsoOQ1NdwsoHNagABkdWGzhgUUt12Qaf7SzRcDwwCFBUEcbQlh9oSStNezweflceX8bRlfJxaQXfzG4xbg88aMFrGZ8HoSYBi1W/djoPB6Yt0mAbRGZwP7oALA5IINcuEew2huWCBcmnUMzsWoSRfMNbxdsHNegLKBiEZrmMeYkvTlCJYYUIqFU1QQwIHGAKZWFGmv5xCEzgafNw6GUWwzWFPPP5LVjD6mpB2yzA64lWHHnIurc+qjM1AkLaDBH0tBXhCBcGnW67ZcLhkhgSzeTXHB+vn6GmioAGUBmWFUFWlV0EBKDCjFwrlgwgm0d03Axt1aBqO/fXSXS8X8yq9t41ipi2ozMWFsAyaMbej5jQNAYT8v7+gtbregC/ngL94s1BMN2a5cZ/RKaGD4W0DndBA6W8xfcGoKHrAWp6UKjM/LY17lV0YaPdtCxFwoG9Xeo5tF6R4Xown55HGnBv2zSwq1Eols252Y3XjSkIwwFKzJXKAWUBaYv+CeYkB2AlNUEMK8yl3wh0Y74uZQsiObxvoDwahiP66Y92mP2VgC6UWl/aw9F4xAs2AjELsCPzOZ6oDMjCruMnoQUyipZCs+QPcWEHXBRiBmUekxCzbMZiDK8INJsYBcLuqCjWgsMSCbILTLpYJ1KVBhNY8plIHAfD2ag9AM1AGJMQ4kVICywDzD2AWhAa0tq6LQAA9l4CHLUwCShte7SnLpzfSGOlSAsoB84dqTR+1NXI6VIDPOP3aaMvJJt4D0ByEMQ/efClAWkC/c5838ZFBtOQF1vygDj9kCcjGa1eNyKY5UsvcVKkBZQL7gTE3bAcDlEqBS/aEMAqkWEABwLsXy2O/hAhWgLGEZxdKYPJWK0WchSu5BHBHlXIVJsYAA4opRC2jE4vXGUKi3TrBjyoSTgzgayrmM2QJiSAaMkYddDRCQYx3Qvffei4qKCsyaNcvYduDAASxevBizZ8/GTTfdhFBIu0lFUcSaNWswe/ZsVFZW4qmnnurfkQ8yl83ZjosmHXd6GBSKYfUwUI2yj8L8oNEAbziRkwDdfffd2Lx5s2Xb/fffj3Xr1uHQoUO45ZZb8MwzzwAA3njjDSQSCRw6dAh79uzB73//e9TX1/fbwAcb7REnNMhDcR5iAbGm63H+zN2Ydv4xp4bUa3ISoCVLlmD06NGWbbW1tViyZAkAYNmyZXjrrbcAAAzDIBqNQpIkxONxeDweFBcX99OwKZRzF8YU9xnu9HkpxqxZs/Duu+8C0KyehgatrcOtt96KgoICjBs3DpMnT8Zjjz2WJl4UCiV3iPCMBIu8zwL06quvYv369ViwYAHC4TA8Hg8AYPfu3WBZFs3NzTh16hSeffZZnDxpH6h9+eWXsXDhQixcuBDt7c6sSKZQhgtG5ouhFhBmzJiBLVu2YM+ePVi1ahUuuugiAMBf/vIXXH/99XC73aioqMAVV1yB6upq232sXbsW1dXVqK6uRnl5eV+HRKGMaJIWEBUgtLVpDc8VRcETTzyBBx98EAAwefJkbNu2DaqqIhqNYteuXZgxY0ZfP45COedxmVLvw52cBGjVqlVYvHgxamtrMXHiRLzyyivYuHEjpk+fjhkzZmD8+PG45557AAA//OEPEYlEMGvWLCxatAj33HMP5syZMyAHQaGcS7hGUBA6p0LEjRs32m5/5JFH0rYVFhbijTfe6N2oKBRKRs5ZC4hCoTgPScMzNAhNoVAGGyMITQWIQqEMNskYEHXBKBTKIJOMAdFCRAqFMsgw1AKiUChOkYwBUQuIQqEMMgxUACq1gCgUyuBDWgTTGBCFQnGEfF8U+XlRp4fRZ2hLVgplGHLFvM+cHkK/QC0gCoXiGFSAKBSKY1ABolAojkEFiEKhOAYVIAqF4hhUgCgUimNQAaJQKI5BBYhCoTgGFSAKheIYVIAoFIpjUAGiUCiOQQWIQqE4BhUgCoXiGFSAKBSKY1ABolAojkEFiEKhOAYVIAqF4hhUgCgUimNQAaJQKI5BBYhCoThGTgJ07733oqKiArNmzTK2HThwAIsXL8bs2bNx0003IRQKGa8dPHgQixcvRlVVFWbPng2e5/tv5BQKZdiTkwDdfffd2Lx5s2Xb/fffj3Xr1uHQoUO45ZZb8MwzzwAAJEnC6tWr8dJLL+HIkSP47LPP4Ha7+2/kFApl2JOTAC1ZsgSjR4+2bKutrcWSJUsAAMuWLcNbb70FANiyZQvmzJmDSy65BAAwZswYsCzbH2OmUCgjhD7HgGbNmoV3330XAPDGG2+goaEBAHD8+HEwDIPrrrsO8+fPx9NPP93Xj6JQKCOMPgvQq6++ivXr12PBggUIh8PweDwANBfsyy+/xJ///Gd8+eWXePvtt7F161bbfbz88stYuHAhFi5ciPb29r4OiUKhDBP6LEAzZszAli1bsGfPHqxatQoXXXQRAGDixIn47ne/i7KyMuTn5+Mf/uEfsHfvXtt9rF27FtXV1aiurkZ5eXlfh0ShUIYJfRagtrY2AICiKHjiiSfw4IMPAgCuu+46HDx4ELFYDJIk4fPPP8fMmTP7+nEUCmUEkZMArVq1CosXL0ZtbS0mTpyIV155BRs3bsT06dMxY8YMjB8/Hvfccw8AYNSoUXj00UexaNEizJ07F/Pnz8cNN9wwIAdBoVCGJ1wub964caPt9kceecR2++rVq7F69ercR0WhUM4JaCU0hUJxDCpAFArFMagAUSgUx6ACRKFQHIMKEIVCcQwqQBQKxTGoAFEoFMegAkShUByDChCFQnEMKkAUCsUxqABRKBTHoAJEoVAcgwoQhUJxDCpAFArFMXJqxzGUuHTCpQgLYaeHQaEMeVhm6D4MYtgK0E0X3+T0ECgUSh+hLhiFQnEMKkAUCsUxqABRKBTHoAJEoVAcgwoQhUJxDCpAFArFMRhVVVWnB2GmrKwMU6ZM6fF97e3tQ/4pqnSM/QMdY//Q0xjr6+vR0dExiCMaggKULQsXLkR1dbXTw+gWOsb+gY6xfxiKY6QuGIVCcQwqQBQKxTGGrQCtXbvW6SH0CB1j/0DH2D8MxTEO2xgQhUIZ/gxbC4hCoQx/hqUAbd68GRdffDGmTp2KdevWOT0cAEBDQwOuvvpqVFZWoqqqCi+88AIAoKurC8uWLcO0adOwbNky+P1+R8cpyzLmzZuHG2+8cUiOLxAI4NZbb8WMGTNQWVmJr776asiN8Te/+Q2qqqowa9YsrFq1CjzPD4kx3nvvvaioqMCsWbOMbd2N66mnnsLUqVNx8cUX46OPPhr08QLDUIBkWcYPf/hD/O1vf0NNTQ02btyImpoap4cFjuPw7LPP4ujRo9i1axfWr1+PmpoarFu3DkuXLkVdXR2WLl3quGC+8MILqKysNH4fauN75JFHcP311+PYsWM4cOAAKisrh9QYm5qa8OKLL6K6uhqHDx+GLMvYtGnTkBjj3Xffjc2bN1u2ZRpXTU0NNm3ahCNHjmDz5s146KGHIMvyoI8Z6jBj586d6rXXXmv8/uSTT6pPPvmkgyOyZ/ny5eqWLVvU6dOnq83Nzaqqqmpzc7M6ffp0x8bU0NCgXnPNNerWrVvVG264QVVVdUiNLxgMqlOmTFEVRbFsH0pjbGxsVCdOnKh2dnaqoiiqN9xwg/rRRx8NmTGeOnVKraqqMn7PNK7U++baa69Vd+7cObiDVVV12FlATU1NmDRpkvH7xIkT0dTU5OCI0qmvr8e+fftw2WWXobW1FePGjQMAjBs3Dm1tbY6N65//+Z/x9NNPw+VKfu1DaXwnT55EeXk57rnnHsybNw/3338/otHokBrjhAkT8Nhjj2Hy5MkYN24cSkpKcO211w6pMZrJNK6hch8NOwFSbZJ2DMM4MBJ7IpEIVq5cieeffx7FxcVOD8fg/fffR0VFBRYsWOD0UDIiSRL27t2LH/zgB9i3bx8KCgocdwlT8fv9eOedd3Dq1Ck0NzcjGo3iT3/6k9PDypmhch8NOwGaOHEiGhoajN8bGxsxfvx4B0eURBRFrFy5EnfddRdWrFgBABg7dixaWloAAC0tLaioqHBkbDt27MC7776LKVOm4M4778S2bduwevXqITM+QPtuJ06ciMsuuwwAcOutt2Lv3r1DaoyffPIJLrjgApSXl8PtdmPFihXYuXPnkBqjmUzjGir30bAToEWLFqGurg6nTp2CIAjYtGkTli9f7vSwoKoq7rvvPlRWVuLRRx81ti9fvhwbNmwAAGzYsAE333yzI+N76qmn0NjYiPr6emzatAnXXHMN/vSnPw2Z8QHAeeedh0mTJqG2thYAsHXrVsycOXNIjXHy5MnYtWsXYrEYVFXF1q1bUVlZOaTGaCbTuJYvX45NmzYhkUjg1KlTqKurw6WXXjr4Axz0qFM/8MEHH6jTpk1TL7zwQvWJJ55wejiqqqrq9u3bVQDq7Nmz1UsuuUS95JJL1A8++EDt6OhQr7nmGnXq1KnqNddco3Z2djo9VPXTTz81gtBDbXz79u1TFyxYoM6ePVu9+eab1a6uriE3xp/97GfqxRdfrFZVVamrV69WeZ4fEmO888471fPOO0/lOE6dMGGC+oc//KHbcT3xxBPqhRdeqE6fPl398MMPB328qqqqtBKaQqE4xrBzwSgUysiBChCFQnEMKkAUCsUxqABRKBTHoAJEoVAcgwoQhUJxDCpAFArFMagAUSgUx6ACRKFQHIMKEIVCcQwqQBQKxTH+L3gJ+WGYe+nRAAAAAElFTkSuQmCC)"
            ],
            "text/plain": [
              "<IPython.core.display.Markdown object>"
            ]
          },
          "metadata": {},
          "output_type": "display_data"
        }
      ],
      "source": [
        "import numpy as np\n",
        "import IPython.display as display\n",
        "from matplotlib import pyplot as plt\n",
        "import io\n",
        "import base64\n",
        "\n",
        "ys = 200 + np.random.randn(100)\n",
        "x = [x for x in range(len(ys))]\n",
        "\n",
        "fig = plt.figure(figsize=(4, 3), facecolor='w')\n",
        "plt.plot(x, ys, '-')\n",
        "plt.fill_between(x, ys, 195, where=(ys > 195), facecolor='g', alpha=0.6)\n",
        "plt.title(\"Sample Visualization\", fontsize=10)\n",
        "\n",
        "data = io.BytesIO()\n",
        "plt.savefig(data)\n",
        "image = F\"data:image/png;base64,{base64.b64encode(data.getvalue()).decode()}\"\n",
        "alt = \"Sample Visualization\"\n",
        "display.display(display.Markdown(F\"\"\"![{alt}]({image})\"\"\"))\n",
        "plt.close(fig)"
      ]
    },
    {
      "cell_type": "markdown",
      "metadata": {
        "id": "VYV91hbKwP2J"
      },
      "source": [
        "Colab notebooks execute code on Google's cloud servers, meaning you can leverage the power of Google hardware, including [GPUs and TPUs](#using-accelerated-hardware), regardless of the power of your machine. All you need is a browser.\n",
        "\n",
        "For example, if you find yourself waiting for **pandas** code to finish running and want to go faster, you can switch to a GPU Runtime and use libraries like [RAPIDS cuDF](https://rapids.ai/cudf-pandas) that provide zero-code-change acceleration."
      ]
    },
    {
      "cell_type": "markdown",
      "metadata": {
        "id": "vwnNlNIEwoZ8"
      },
      "source": [
        "To learn more about accelerating pandas on Colab, see the [10 minute guide](https://colab.research.google.com/github/rapidsai-community/showcase/blob/main/getting_started_tutorials/cudf_pandas_colab_demo.ipynb) or\n",
        " [US stock market data analysis demo](https://colab.research.google.com/github/rapidsai-community/showcase/blob/main/getting_started_tutorials/cudf_pandas_stocks_demo.ipynb)."
      ]
    },
    {
      "cell_type": "markdown",
      "metadata": {
        "id": "OwuxHmxllTwN"
      },
      "source": [
        "<div class=\"markdown-google-sans\">\n",
        "\n",
        "## Machine learning\n",
        "</div>\n",
        "\n",
        "With Colab you can import an image dataset, train an image classifier on it, and evaluate the model, all in just [a few lines of code](https://colab.research.google.com/github/tensorflow/docs/blob/master/site/en/tutorials/quickstart/beginner.ipynb)."
      ]
    },
    {
      "cell_type": "markdown",
      "metadata": {
        "id": "ufxBm1yRnruN"
      },
      "source": [
        "Colab is used extensively in the machine learning community with applications including:\n",
        "- Getting started with TensorFlow\n",
        "- Developing and training neural networks\n",
        "- Experimenting with TPUs\n",
        "- Disseminating AI research\n",
        "- Creating tutorials\n",
        "\n",
        "To see sample Colab notebooks that demonstrate machine learning applications, see the [machine learning examples](#machine-learning-examples) below."
      ]
    },
    {
      "cell_type": "markdown",
      "metadata": {
        "id": "-Rh3-Vt9Nev9"
      },
      "source": [
        "<div class=\"markdown-google-sans\">\n",
        "\n",
        "## More Resources\n",
        "\n",
        "### Working with Notebooks in Colab\n",
        "\n",
        "</div>\n",
        "\n",
        "- [Overview of Colab](/notebooks/basic_features_overview.ipynb)\n",
        "- [Guide to Markdown](/notebooks/markdown_guide.ipynb)\n",
        "- [Importing libraries and installing dependencies](/notebooks/snippets/importing_libraries.ipynb)\n",
        "- [Saving and loading notebooks in GitHub](https://colab.research.google.com/github/googlecolab/colabtools/blob/main/notebooks/colab-github-demo.ipynb)\n",
        "- [Interactive forms](/notebooks/forms.ipynb)\n",
        "- [Interactive widgets](/notebooks/widgets.ipynb)\n",
        "\n",
        "<div class=\"markdown-google-sans\">\n",
        "\n",
        "<a name=\"working-with-data\"></a>\n",
        "### Working with Data\n",
        "</div>\n",
        "\n",
        "- [Loading data: Drive, Sheets, and Google Cloud Storage](/notebooks/io.ipynb)\n",
        "- [Charts: visualizing data](/notebooks/charts.ipynb)\n",
        "- [Getting started with BigQuery](/notebooks/bigquery.ipynb)\n",
        "\n",
        "<div class=\"markdown-google-sans\">\n",
        "\n",
        "### Machine Learning Crash Course\n",
        "\n",
        "<div>\n",
        "\n",
        "These are a few of the notebooks from Google's online Machine Learning course. See the [full course website](https://developers.google.com/machine-learning/crash-course/) for more.\n",
        "- [Intro to Pandas DataFrame](https://colab.research.google.com/github/google/eng-edu/blob/main/ml/cc/exercises/pandas_dataframe_ultraquick_tutorial.ipynb)\n",
        "- [Intro to RAPIDS cuDF to accelerate pandas](https://nvda.ws/rapids-cudf)\n",
        "- [Linear regression with tf.keras using synthetic data](https://colab.research.google.com/github/google/eng-edu/blob/main/ml/cc/exercises/linear_regression_with_synthetic_data.ipynb)\n",
        "\n",
        "<div class=\"markdown-google-sans\">\n",
        "\n",
        "<a name=\"using-accelerated-hardware\"></a>\n",
        "### Using Accelerated Hardware\n",
        "</div>\n",
        "\n",
        "- [TensorFlow with GPUs](/notebooks/gpu.ipynb)\n",
        "- [TensorFlow with TPUs](/notebooks/tpu.ipynb)"
      ]
    },
    {
      "cell_type": "markdown",
      "metadata": {
        "id": "P-H6Lw1vyNNd"
      },
      "source": [
        "<div class=\"markdown-google-sans\">\n",
        "\n",
        "<a name=\"machine-learning-examples\"></a>\n",
        "\n",
        "### Featured examples\n",
        "\n",
        "</div>\n",
        "\n",
        "- [Retraining an Image Classifier](https://tensorflow.org/hub/tutorials/tf2_image_retraining): Build a Keras model on top of a pre-trained image classifier to distinguish flowers.\n",
        "- [Text Classification](https://tensorflow.org/hub/tutorials/tf2_text_classification): Classify IMDB movie reviews as either *positive* or *negative*.\n",
        "- [Style Transfer](https://tensorflow.org/hub/tutorials/tf2_arbitrary_image_stylization): Use deep learning to transfer style between images.\n",
        "- [Multilingual Universal Sentence Encoder Q&A](https://tensorflow.org/hub/tutorials/retrieval_with_tf_hub_universal_encoder_qa): Use a machine learning model to answer questions from the SQuAD dataset.\n",
        "- [Video Interpolation](https://tensorflow.org/hub/tutorials/tweening_conv3d): Predict what happened in a video between the first and the last frame.\n"
      ]
    }
  ],
  "metadata": {
    "colab": {
      "name": "Welcome To Colab",
      "toc_visible": true,
      "provenance": [],
      "include_colab_link": true
    },
    "kernelspec": {
      "display_name": "Python 3",
      "name": "python3"
    }
  },
  "nbformat": 4,
  "nbformat_minor": 0
}