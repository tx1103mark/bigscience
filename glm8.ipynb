{
  "cells": [
    {
      "cell_type": "markdown",
      "metadata": {
        "id": "view-in-github",
        "colab_type": "text"
      },
      "source": [
        "<a href=\"https://colab.research.google.com/github/tx1103mark/bigscience/blob/master/glm8.ipynb\" target=\"_parent\"><img src=\"https://colab.research.google.com/assets/colab-badge.svg\" alt=\"Open In Colab\"/></a>"
      ]
    },
    {
      "cell_type": "markdown",
      "metadata": {
        "id": "Wf5KrEb6vrkR"
      },
      "source": [
        "<div class=\"markdown-google-sans\">\n",
        "  <h1>Welcome to Colab!</h1>\n",
        "</div>\n",
        "\n",
        "<div class=\"markdown-google-sans\">\n",
        "  <h2>Explore the Gemini API</h2>\n",
        "  <p>The Gemini API gives you access to Gemini models created by Google DeepMind. Gemini models are built from the ground up to be multimodal, so you can reason seamlessly across text, images, code, and audio.\n",
        "  </p>\n",
        "  <strong>How to get started</strong>\n",
        "    <ol>\n",
        "      <li>Go to <a href=\"https://aistudio.google.com/\">Google AI Studio</a> and log in with your Google account.</li>\n",
        "      <li><a href=\"https://aistudio.google.com/app/apikey\">Create an API key</a>.</li>\n",
        "      <li>Use a quickstart for <a href=\"https://colab.research.google.com/github/google-gemini/cookbook/blob/main/quickstarts/Prompting.ipynb\">Python</a>, or call the REST API using <a href=\"https://colab.research.google.com/github/google-gemini/cookbook/blob/main/quickstarts/rest/Prompting_REST.ipynb\">curl</a>.</li>\n",
        "      </ol>\n",
        "  <strong>Explore use cases</strong>\n",
        "    <ul>\n",
        "      <li><a href=\"https://colab.research.google.com/github/google-gemini/cookbook/blob/main/examples/Market_a_Jet_Backpack.ipynb\">Create a marketing campaign</a></li>\n",
        "      <li><a href=\"https://colab.research.google.com/github/google-gemini/cookbook/blob/main/quickstarts/Audio.ipynb\">Analyze audio recordings</a></li>\n",
        "      <li><a href=\"https://colab.research.google.com/github/google-gemini/cookbook/blob/main/quickstarts/System_instructions.ipynb\">Use System instructions in chat</a></li>\n",
        "    </ul>\n",
        "  <p>To learn more, check out the <a href=\"https://github.com/google-gemini/cookbook\">Gemini cookbook</a> or visit the <a href=\"https://ai.google.dev/docs/\">Gemini API documentation</a>.\n",
        "  </p>\n",
        "</div>\n"
      ]
    },
    {
      "cell_type": "code",
      "execution_count": null,
      "metadata": {
        "id": "zwFnJsE6vjf8"
      },
      "outputs": [],
      "source": [
        "{\"ID\": 6700, \"question\": \"如果被保险人精神错乱期间发生身故或残疾，保险公司是否负责给付保险金？\", \"answer\": \"如果被保险人精神错乱期间发生身故或残疾，保险公司不负责给付保险金。\"}\n",
        "{\"ID\": 6701, \"question\": \"人保稳稳盈1号保险产品中，重度失能保险金分期领取类型有哪些？\", \"answer\": \"人保稳稳盈1号保险产品中，重度失能保险金分期领取类型有两种：\\n1. 保证返还账户价值终身领取：在被保险人达到重度失能状态之日及其后每年（或每月）的对应日，如被保险人生存，保险公司按确定的领取金额给付重度失能保险金，直至被保险人身故，合同终止。\\n2. 固定期限 10（或 15、20、25）年领取：在被保险人达到重度失能状态之日及其后每年（或每月）的对应日，如被保险人生存，保险公司按确定的领取金额给付重度失能保险金，直至固定领取期限届满，合同终止。如果被保险人在固定领取期限届满前身故，保险公司将按以下两者中的较大者一次性给付：①固定领取期内尚未给付的重度失能保险金之和（不计利息）；②按被保险人达到重度失能状态之日零时的个人账户价值与已给付的重度失能保险金总和（不计利息）的差额。\"}\n",
        "{\"ID\": 6702, \"question\": \"哪些情况下的子宫恶性肿瘤不在健康福·重疾险(保终身)的保障范围内？\", \"answer\": \"根据健康福·重疾险(保终身)的保险条款，以下情况下的子宫恶性肿瘤不在保障范围内：\\n1. 原位癌；\\n2. 转移至子宫的恶性肿瘤；\\n3. 感染艾滋病病毒或患艾滋病期间所患恶性肿瘤。\"}\n",
        "{\"ID\": 6703, \"question\": \"中国人寿防癌医疗险中境内上市特种药品的第二个条件是什么？\", \"answer\": \"中国人寿防癌医疗险中境内上市特种药品的第二个条件是：药品的使用符合国家药品监督管理局批准的药品说明书中所列明的适应症和用法用量。\"}\n",
        "{\"ID\": 6704, \"question\": \"保险费约定支付日是什么时候？\", \"answer\": \"保险费约定支付日是保险合同中规定的，用于支付保险费的日期。具体日期需要查阅您的保险合同，因为每个保险合同可能根据投保人的选择和保险公司的规定有所不同。通常，这个日期可能是每月的某一天，也可能是每年的特定日期。请您查阅您的保险合同或联系保险公司客服获取准确的支付日期信息。\"}\n",
        "{\"ID\": 6705, \"question\": \"投保人应该如何联系客服以申请太保航空意外险的保单信息变更？\", \"answer\": \"投保人可以通过以下两种方式联系客服以申请太保航空意外险的保单信息变更：\\n\\n1. 拨打全国统一客服热线：95500，直接与客服人员沟通，说明需要变更保单信息，并按照客服人员的指引进行操作。\\n\\n2. 通过在线客服进行联系。具体操作如下：\\n   - 访问太保航空意外险的产品页面。\\n   - 点击页面左下角的“客服”图标，进入在线客服界面。\\n   - 在在线客服界面，选择相关服务，如保单信息变更。\\n   - 按照客服人员的提示，填写所需信息，并提交申请。\\n\\n无论选择哪种方式，投保人需要按照客服的要求提供相关材料，包括填写信息、签字确认后发送扫描/拍照件。太保保险会在3个工作日内为您办理批改申请。\"}\n",
        "{\"ID\": 6706, \"question\": \"少儿高发恶性肿瘤的诊断是否需要专科医生明确诊断？\", \"answer\": \"是的，少儿高发恶性肿瘤的诊断需要由专科医生明确诊断。\"}\n",
        "{\"ID\": 6707, \"question\": \"如果用户不同意开启相册或摄像头权限，他们如何使用违章查询功能？\", \"answer\": \"如果用户不同意开启相册或摄像头权限，他们可以通过手动录入信息的方式来使用违章查询功能。具体操作可能包括输入车牌号、车架号、发动机号、注册日期、车辆型号等信息，以供系统查询违章记录。\"}\n",
        "{\"ID\": 6708, \"question\": \"健康福·重疾险是否涵盖严重范可尼综合征?\", \"answer\": \"是的，健康福·重疾险（保1年）的D组疾病列表中包含了严重范可尼综合征，因此该保险产品涵盖严重范可尼综合征。\"}\n",
        "{\"ID\": 6709, \"question\": \"变更太平洋大学生意外险的保险合同内容时，保险人需要在哪些文件上进行批注或附贴批单？\", \"answer\": \"变更太平洋大学生意外险的保险合同内容时，保险人需要在保险单或其他保险凭证上予以批注或附贴批单。这些文件可以是保险单、保险凭证或者保险人提供的其他相关文件。\"}\n",
        "{\"ID\": 6710, \"question\": \"同住人员必须与被保险人居住在同一房屋内吗？\", \"answer\": \"是的，根据“全家保·家庭综合保障”的保险条款，同住人员是指与被保险人在房屋内一同居住的人。这意味着同住人员必须与被保险人居住在同一房屋内。如果同住人员与被保险人不在同一房屋居住，则不符合该条款中同住人员的定义。\"}\n",
        "{\"ID\": 6711, \"question\": \"暂居人员在被保险人的房屋内居住的最少天数是多少？\", \"answer\": \"暂居人员在被保险人的房屋内居住的最少天数是5天。\"}\n",
        "{\"ID\": 6712, \"question\": \"当保险公司最终确定了给付保险金的数额后，会如何处理？\", \"answer\": \"当保险公司最终确定了给付保险金的数额后，将会按照以下步骤处理：\\n1. 保险公司会根据最终确定的保险金数额，与受益人达成给付保险金的协议。\\n2. 在与受益人达成协议后10日内，保险公司将履行给付保险金义务，将保险金支付给受益人。\\n3. 如果在协议达成前，保险公司已经支付了部分保险金，那么在最终确定数额后，保险公司会支付相应的差额，确保受益人获得完整的保险金给付。\"}\n",
        "{\"ID\": 6713, \"question\": \"哪些类型的手术不在'佳人无忧·女性重疾险'的保障范围内？\", \"answer\": \"在“佳人无忧·女性重疾险”的保障范围内，不包括以下类型的手术：\\n1. 腹腔镜手术治疗重症急性出血坏死性胰腺炎。\\n2. 因酗酒或饮酒过量所致的急性坏死性胰腺炎的开腹手术治疗。\\n3. 任何其他类型的手术，除非它们与重症急性出血坏死性胰腺炎的开腹手术治疗直接相关，并且符合保险条款中规定的条件。\"}\n",
        "{\"ID\": 6714, \"question\": \"如果被保险人选择的保险期间为终身且附加了指定附加两全型保险合同，在指定附加两全型保险合同保险期间届满后被保险人身故，保险公司如何计算身故保险金的金额？\", \"answer\": \"如果被保险人选择的保险期间为终身且附加了指定附加两全型保险合同，在指定附加两全型保险合同保险期间届满后被保险人身故，保险公司将按照以下公式计算身故保险金的金额：\\n\\n身故保险金 = （本合同及指定附加两全型保险合同的每期保险费之和）×（每年交费次数）×（交费期间）× 120\\n\\n以交费期间为10年交、交费方式为月交（每年交费次数为12次）为例，身故保险金为本合同及指定附加两全型保险合同的月交保险费之和的120倍。需要注意的是，重度疾病保险金和身故保险金保险责任，保险公司仅按其中一项承担保险责任。\"}\n",
        "{\"ID\": 6715, \"question\": \"保险产品健康福·少儿终身重疾险中提到的失去一肢及一眼视力是否必须是不可复原的？\", \"answer\": \"是的，保险产品健康福·少儿终身重疾险中提到的失去一肢及一眼视力必须是不可复原的。根据保险条款，这种丧失需满足以下条件：同时不可复原及永久性完全丧失。这意味着，如果一肢或一眼视力在疾病或受伤后能够恢复，则不符合该重疾险的赔付条件。\"}\n",
        "{\"ID\": 6716, \"question\": \"保险产品信美万能1号在犹豫期后退保会有什么损失？\", \"answer\": \"在犹豫期后退保，信美万能1号保险产品会有以下损失：\\n1. **已交保费扣除：** 保险公司会从客户已缴纳的保费中扣除一定比例，以弥补其因退保而未能继续获得保险保障的成本。\\n2. **现金价值损失：** 如果保险产品在犹豫期内已经产生了一定的现金价值，退保时客户将无法获得全部现金价值，而是按照合同约定的比例扣除损失后获得剩余的现金价值。\\n3. **其他费用：** 可能会涉及一些手续费或管理费等，具体费用根据保险合同条款而定。\\n\\n请注意，具体的损失计算方式以保险合同中的规定为准。\"}\n",
        "{\"ID\": 6717, \"question\": \"哪些情况下的溃疡性结肠炎不在健康福·重疾1号（人保长期版）保险产品的保障范围内？\", \"answer\": \"以下情况下的溃疡性结肠炎不在“健康福·重疾1号（人保长期版）”保险产品的保障范围内：\\n1. 未经过内窥镜检查证实该疾病侵犯全部结肠，或未经过病理学组织切片检查证实为溃疡性结肠炎。\\n2. 未经过专科医生以类固醇或免疫抑制剂连续治疗180天（含）以上。\\n3. 其他种类的炎性结肠炎，如非溃疡性结肠炎。\\n4. 只发生在直肠的溃疡性结肠炎。\"}\n",
        "{\"ID\": 6718, \"question\": \"在第6个保单年度至第10个保单年度，现金价值是如何计算的？\", \"answer\": \"在第6个保单年度至第10个保单年度，保单的现金价值计算方式如下：现金价值等于您已交的保险费（不计利息）加上账户累计收益的75%。这意味着，除了您已交的保险费之外，账户中累计的收益也会按照一定比例计入现金价值中，从而增加现金价值。\"}\n",
        "{\"ID\": 6719, \"question\": \"如果伤残发生后第180日治疗仍未结束，如何进行伤残鉴定？\", \"answer\": \"如果伤残发生后第180日治疗仍未结束，应按照以下流程进行伤残鉴定：\\n\\n1. 被保险人或其法定代理人向保险公司提出伤残鉴定申请。\\n2. 保险公司认可并指定具有资质的鉴定机构进行伤残鉴定。\\n3. 被保险人或其法定代理人配合鉴定机构进行必要的检查和评估。\\n4. 鉴定机构根据《人身保险伤残评定标准及代码》（JR/T0083－2013）对被保险人的伤残情况进行评定。\\n5. 鉴定机构将评定结果提交给保险公司。\\n6. 保险公司根据鉴定结果，按照《伤残评定标准》给付相应的伤残保险金。\\n\\n在整个鉴定过程中，被保险人或其法定代理人应积极配合，确保鉴定结果的准确性和公正性。\"}\n",
        "{\"ID\": 6720, \"question\": \"卓越馨选医疗险2023版在什么情况下会对脊髓灰质炎后遗症进行理赔？\", \"answer\": \"卓越馨选医疗险2023版在以下情况下会对脊髓灰质炎后遗症进行理赔：\\n1. 被保险人必须被明确诊断为脊髓灰质炎。\\n2. 脊髓灰质炎后遗症导致被保险人至少一个肢体或以上肢体机能永久完全丧失。\\n\\n这意味着，如果被保险人因脊髓灰质炎后遗症而永久丧失至少一个肢体或以上肢体的机能，并且这一情况符合保险条款中关于脊髓灰质炎后遗症的定义，保险公司将按照保险合同约定进行理赔。\"}\n",
        "{\"ID\": 6721, \"question\": \"在哪些情况下，即使投保人或被保险人未及时通知保险事故，保险人仍然承担给付保险金责任？\", \"answer\": \"以下情况下，即使投保人或被保险人未及时通知保险事故，保险人仍然可能承担给付保险金责任：\\n\\n1. 保险人通过其他途径已经及时知道或应当及时知道保险事故发生的：如果保险人通过其他途径，如媒体报道、第三方机构报告等，已经得知保险事故的发生，那么即使投保人或被保险人未及时通知，保险人仍需承担相应的责任。\\n\\n2. 因不可抗力导致迟延的：如果由于自然灾害、战争等不可抗力因素导致投保人或被保险人无法及时通知保险事故，保险人可以免除其及时通知的责任。\\n\\n3. 投保人或被保险人不知道保险事故发生的：如果投保人或被保险人由于客观原因不知道保险事故的发生，如保险事故发生在投保人或被保险人不知情的地方，那么保险人仍需承担给付保险金责任。\\n\\n需要注意的是，以上情况仅供参考，具体是否承担给付保险金责任，还需根据实际情况和保险条款的具体规定进行判断。\"}\n",
        "{\"ID\": 6722, \"question\": \"在健康福·重疾险中，'特定的系统性红斑狼疮'的给付条件是什么？\", \"answer\": \"在健康福·重疾险中，'特定的系统性红斑狼疮'的给付条件如下：\\n1. 诊断必须由医院的风湿科或免疫系统专科医生确定。\\n2. 必须满足以下全部条件：\\n   a. 在关节炎、浆膜炎、肾病、血液学异常、抗核抗体阳性、抗dsDNA阳性、或抗Smith抗体阳性这五项情况中出现最少两项；\\n   b. 24小时尿蛋白定量达到0.5克，或尿液检查出现细胞管型；\\n   c. 抗核抗体阳性，抗dsDNA阳性，或抗Smith抗体阳性。\\n3. 未达到“系统性红斑狼疮——（并发）III型或以上狼疮性肾炎”或“严重慢性肾衰竭”的给付标准。\\n4. 本公司仅对“特定的系统性红斑狼疮”和“慢性肾功能衰竭”两项中的其中一项承担保险责任，给付其中一项保险金后，对另一项轻度疾病保险责任同时终止。\"}\n",
        "{\"ID\": 6723, \"question\": \"众安病无忧防癌医疗险是否排除从事品红制造或接触异丙醇等有毒物质职业的被保险人？\", \"answer\": \"是的，众安病无忧防癌医疗险排除从事品红制造或接触异丙醇等有毒物质职业的被保险人。\"}\n",
        "{\"ID\": 6724, \"question\": \"什么情况下被认为是无合法有效的机动车行驶证？\", \"answer\": \"被认为是无合法有效机动车行驶证的情况包括以下三种：\\n1. 无机动车行驶证：即车辆未取得任何形式的行驶证，可能是新车尚未注册或者车辆已经报废但未办理注销手续。\\n2. 机动车被依法注销登记：指车辆因各种原因（如报废、丢失、被盗等）被相关部门依法注销了登记，导致无法获得行驶证。\\n3. 未依法按时进行或通过机动车安全技术检验：即车辆未按照规定时间进行安全技术检验，或者检验未通过，导致无法获得或更新行驶证。\"}\n",
        "{\"ID\": 6725, \"question\": \"健康福·重疾险保险合同中包含多少种特定疾病的保险责任？\", \"answer\": \"健康福·重疾险保险合同中包含30种特定疾病的保险责任。\"}\n",
        "{\"ID\": 6726, \"question\": \"太平洋普惠百万医疗险是否覆盖因被保险人主动吸食毒品导致的医疗费用？\", \"answer\": \"太平洋普惠百万医疗险不覆盖因被保险人主动吸食毒品导致的医疗费用。\"}\n",
        "{\"ID\": 6727, \"question\": \"投保太保国民综合意外险时，投保人需要授权哪些信息给保险公司及其合作机构？\", \"answer\": \"投保太保国民综合意外险时，投保人需要授权以下信息给保险公司及其合作机构：\\n1. 投保人（被保险人或者受益人）的个人信息，如姓名、身份证号码等。\\n2. 投保交易信息，包括但不限于投保金额、保险期限、缴费方式等。\\n3. 交易安全的保障措施，如支付信息、交易记录等。\\n4. 被保险人与保险有关的相关信息，包括但不限于健康情况、诊疗情况、既往病史等。\\n5. 保险公司及合作机构在承保前后核实投保信息的真实性时所需的信息。\\n6. 保险公司向与具有必要合作关系的机构提供的信息，包括但不限于投保、承保、理赔、医疗等。\\n7. 保险公司及合作机构对投保人信息进行合理使用时所需的信息。\\n\\n需要注意的是，保险公司及其合作机构在获取和使用这些信息时，应采取有效措施确保信息安全，并承担保密义务。同时，所有相关人员及公司均需遵守相关保密协议和国家关于个人信息保护有关法律法规。\"}\n",
        "{\"ID\": 6728, \"question\": \"被保险人遭受意外伤害后多久内造成的伤残才能申请意外伤残保险金？\", \"answer\": \"被保险人遭受意外伤害后，需要在自该意外伤害发生之日起180日内因该意外伤害造成伤残，并在治疗结束后进行残疾鉴定达到《人身保险伤残评定标准及代码》所列伤残程度之一，才能申请意外伤残保险金。如果被保险人自意外伤害发生之日起180日后治疗仍未结束，则保险人将按该意外伤害发生之日起第180日的身体情况进行伤残评定，并据此承担给付意外伤残保险金的责任。\"}\n",
        "{\"ID\": 6729, \"question\": \"在'大病无忧重疾险'中，哪些肾脏疾病不属于'肾髓质囊性病'的保障范围？\", \"answer\": \"在'大病无忧重疾险'中，以下肾脏疾病不属于'肾髓质囊性病'的保障范围：\\n1. 多囊肾：这是一种常见的遗传性疾病，其特征是肾脏内有许多囊肿。\\n2. 多囊性肾发育不良：这是一种肾脏发育异常的情况，通常在出生时或婴儿期被发现。\\n3. 髓质海绵肾：这是一种肾脏疾病，其特征是肾脏内有许多小囊，这些囊内充满了液体。\"}\n",
        "{\"ID\": 6730, \"question\": \"退还身故保险金后，合同的效力将如何处理？\", \"answer\": \"退还身故保险金后，合同的效力将由保险公司与投保人协商处理。具体处理方式可能包括但不限于合同终止、合同效力恢复或合同内容变更等，具体取决于双方协商的结果。\"}\n",
        "{\"ID\": 6731, \"question\": \"在健康福·少儿重疾险中，被保险人需要满足什么健康条件？\", \"answer\": \"在健康福·少儿重疾险中，被保险人需要满足以下健康条件：投保时出生满28天至17周岁（或7.1岁），且身体健康的个人均可作为被保险人参加本保险。如果被豁免合同的投保人与被保险人不为同一人时，18周岁至60周岁且身体健康的被豁免合同的投保人，也可作为本合同的被保险人。\"}\n",
        "{\"ID\": 6732, \"question\": \"多处臂丛神经根性撕脱需要多少根臂丛神经根被撕脱才能被诊断？\", \"answer\": \"多处臂丛神经根性撕脱需要至少两根臂丛神经根被撕脱才能被诊断。\"}\n",
        "{\"ID\": 6733, \"question\": \"如果被保险人因先天性疾病、遗传性疾病、先天性畸形或缺陷接受治疗和康复，保险公司是否支付住院津贴或陪护津贴？\", \"answer\": \"保险公司不支付因先天性疾病、遗传性疾病、先天性畸形或缺陷接受治疗和康复所产生的住院津贴或陪护津贴。\"}\n",
        "{\"ID\": 6734, \"question\": \"如果在犹豫期内要求解除合同，需要提供哪些东西？\", \"answer\": \"如果在犹豫期内要求解除合同，通常需要提供以下材料：\\n1. 解除合同申请书：写明解除合同的原因和请求。\\n2. 合同原件：即保险合同书。\\n3. 身份证明：如身份证、户口本等，以证明合同持有人的身份。\\n4. 签收证明：证明合同已签收的文件，如快递签收单等。\\n5. 银行账户信息：用于退还已交保险费的银行账户信息。\\n\\n请注意，具体所需材料可能因保险公司和地区而异，建议在提交解除合同申请前，先咨询保险公司或查阅相关资料，以确保提供正确的材料。\"}\n",
        "{\"ID\": 6735, \"question\": \"在申请投保中老年人防癌医疗险时，投保人应如何填写被保险人的出生日期？\", \"answer\": \"在申请投保中老年人防癌医疗险时，投保人应按照被保险人的有效身份证件（如身份证、户口簿等）上所记载的出生日期填写在投保单上。确保所填写的出生日期与被保险人的实际年龄相符，以符合保险合同的约定和保障被保险人的合法权益。\"}\n",
        "{\"ID\": 6736, \"question\": \"严重非恶性颅内肿瘤的ICD-O-3肿瘤形态学编码属于哪些范畴？\", \"answer\": \"严重非恶性颅内肿瘤的ICD-O-3肿瘤形态学编码属于0（良性肿瘤）和1（动态未定性肿瘤）范畴。\"}\n",
        "{\"ID\": 6737, \"question\": \"保险费的支付频率是如何确定的？\", \"answer\": \"保险费的支付频率是根据保险单或批注上列明的交费方式确定的，可以是每月、每季、每半年或每年。\"}\n",
        "{\"ID\": 6738, \"question\": \"所选择的保险责任内容如何确认？\", \"answer\": \"所选择的保险责任内容通过以下方式确认：\\n1. 在投保时，您与保险公司协商确定所需的保险责任。\\n2. 确定后的保险责任将在保险单中明确列出。\\n3. 保险单是确认保险责任内容的正式文件，您应当仔细阅读并保留好保险单，以备日后查询和核对。一旦保险单上载明了所选的保险责任，这些责任将在整个保险期间内保持不变。\"}\n",
        "{\"ID\": 6739, \"question\": \"华泰高风险职业意外险是否赔偿残疾用具的购买和安装费用？\", \"answer\": \"华泰高风险职业意外险不赔偿残疾用具的购买和安装费用。\"}\n",
        "{\"ID\": 6740, \"question\": \"谁可能是医疗事故的责任主体？\", \"answer\": \"医疗事故的责任主体可能是医疗机构或医务人员。具体来说，这包括但不限于医院、诊所、卫生院等医疗机构，以及在这些机构中从事医疗活动的医生、护士、药剂师等医务人员。如果他们在医疗活动中违反了相关法律法规和诊疗护理规范，导致患者人身损害，就可能成为医疗事故的责任主体。\"}\n",
        "{\"ID\": 6741, \"question\": \"投保人应何时支付保险费？\", \"answer\": \"投保人应在保险合同成立时支付保险费。如果投保人未按期足额交付保险费，保险人有权解除合同并追收已承担保险责任期间的保险费。\"}\n",
        "{\"ID\": 6742, \"question\": \"什么情况下会因为严重哮喘导致胸廓畸形？\", \"answer\": \"严重哮喘导致胸廓畸形的情况通常是由于哮喘引起的慢性过度换气。哮喘发作时，患者会频繁地深呼吸，导致体内二氧化碳排出过多，引起呼吸性碱中毒。长期慢性过度换气会导致肺部过度膨胀，进而影响胸廓的正常发育和形态，造成胸廓畸形。这种情况在哮喘患者中并不常见，但确实可能发生，尤其是在哮喘控制不佳、反复发作的情况下。\"}\n",
        "{\"ID\": 6743, \"question\": \"保单生效前，持有人是否可以退保全球旅行险（含申根）？\", \"answer\": \"是的，保单生效前，持有人可以全额退保全球旅行险（含申根）。\"}\n",
        "{\"ID\": 6744, \"question\": \"如果被保险人连续领取重大疾病关爱金不满6个月就身故，保险公司会如何处理？\", \"answer\": \"如果被保险人连续领取重大疾病关爱金不满6个月就身故，保险公司会一次性给付受益人剩余未给付的重大疾病关爱金。根据条款规定，保险人累计给付重大疾病关爱金的月数以6个月为限，因此，如果被保险人在不满6个月的情况下身故，保险公司将按照剩余未给付的月数进行一次性给付。\"}\n",
        "{\"ID\": 6745, \"question\": \"在甲状腺癌TNM分期中，年龄大于等于55岁的乳头状或滤泡状癌（分化型）的I期和II期的TNM分期是什么？\", \"answer\": \"年龄大于等于55岁的乳头状或滤泡状癌（分化型）的I期和II期的TNM分期如下：\\n\\n- I期：TNM分期为0I期。\\n- II期：TNM分期为0II期。\\n\\n这里的“0”表示年龄大于等于55岁的患者在这一分期中的TNM分期数值。\"}\n",
        "{\"ID\": 6746, \"question\": \"在'健康福终身重疾险'中，单个肢体缺失的给付标准是什么？\", \"answer\": \"在“健康福终身重疾险”中，单个肢体缺失的给付标准是指一个肢体自腕关节或踝关节近端（靠近躯干端）以上完全性断离，但未达到“多个肢体缺失”的给付标准。需要注意的是，因恶性肿瘤导致的单个肢体缺失不在该保险产品的保障范围内。\"}\n",
        "{\"ID\": 6747, \"question\": \"京东安联成长优享医疗险的手术费包括哪些具体项目？\", \"answer\": \"京东安联成长优享医疗险的手术费包括以下具体项目：\\n1. 外科医生费\\n2. 手术室费\\n3. 麻醉费\\n4. 手术监测费\\n5. 手术材料费\\n6. 术中用药费\\n7. 手术设备费\\n\\n这些费用都是指必需且合理的手术医疗费用。\"}\n",
        "{\"ID\": 6748, \"question\": \"申请1000万航空意外险的意外身故保险金需要提交哪些文件和证明？\", \"answer\": \"申请1000万航空意外险的意外身故保险金需要提交以下文件和证明：\\n1. 保险金给付申请书；\\n2. 保险合同原件或其他保险凭据；\\n3. 保险金申请人的身份证明；\\n4. 公安部门、司法部门或二级及二级以上医院或保险人认可的医疗机构出具的被保险人死亡证明或验尸报告；\\n5. 若被保险人为宣告死亡，保险金申请人应提供法院出具的宣告死亡证明文件；\\n6. 被保险人的户籍注销证明；\\n7. 保险金申请人所能提供的与确认保险事故的性质、原因、损失程度等有关的其他证明和资料。\"}\n",
        "{\"ID\": 6749, \"question\": \"众安中高端医疗险（含门诊）中的门诊恶性肿瘤重度治疗费包括哪些具体的治疗费用？\", \"answer\": \"众安中高端医疗险（含门诊）中的门诊恶性肿瘤重度治疗费包括以下具体的治疗费用：\\n1. 化学疗法；\\n2. 放射疗法；\\n3. 肿瘤免疫疗法；\\n4. 肿瘤内分泌疗法；\\n5. 肿瘤靶向疗法。\"}\n",
        "{\"ID\": 6750, \"question\": \"如何开始太平洋个人综合意外险的投保流程？\", \"answer\": \"要开始太平洋个人综合意外险的投保流程，您可以按照以下步骤操作：\\n\\n1. **访问官方网站或使用官方APP**：首先，您需要访问太平洋保险的官方网站或者下载并使用其官方APP。\\n\\n2. **填写投保信息**：在网站或APP上找到“个人综合意外险”的投保页面，按照提示填写您的个人信息，包括姓名、身份证号码、联系方式等。\\n\\n3. **选择保险计划**：根据您的需求，选择合适的保险计划。太平洋个人综合意外险通常提供多种计划，您可以根据保障范围、保额、保费等因素进行选择。\\n\\n4. **阅读保险条款**：在提交投保信息之前，仔细阅读保险条款，了解保险责任、责任免除、保险期间、赔偿限额等重要内容。\\n\\n5. **核保**：提交投保信息后，系统会进行核保。核保通过后，您需要按照提示完成支付。\\n\\n6. **支付保费**：核保通过后，您需要按照系统提示完成保费支付。支付方式通常包括在线支付、银行转账等。\\n\\n7. **查收保单**：支付成功后，您可以在官网或APP中查收电子保单，或者选择邮寄纸质保单。\\n\\n通过以上步骤，您就可以顺利完成太平洋个人综合意外险的投保流程。\"}\n",
        "{\"ID\": 6751, \"question\": \"哪些情况下的心肌病不在同佑e生终身重疾险的保障范围内？\", \"answer\": \"在同佑e生终身重疾险的保障范围内，以下情况的心肌病不在保障范围内：\\n1. 继发于全身性疾病或其他器官系统疾病的心肌病变；\\n2. 酒精滥用造成的心肌病变；\\n3. 诊断不符合条款中规定的原发性心肌病定义的情况，例如未达到NYHA心功能状态分级III级或其同等级别，或左室射血分数LVEF≥35%；\\n4. 诊断并非由保险公司认可医院的心脏专科医生确认，或未提供心脏超声检查结果报告的情况。\"}\n",
        "{\"ID\": 6752, \"question\": \"如果被保险人服用、吸食或注射毒品导致身故，国寿定期盈年金保险公司是否承担给付身故保险金的责任？\", \"answer\": \"如果被保险人因服用、吸食或注射毒品导致身故，国寿定期盈年金保险公司不承担给付身故保险金的责任。\"}\n",
        "{\"ID\": 6753, \"question\": \"如果被保险人变更后的职业或工种经保险人审核不可继续承保且未通知保险人，发生保险事故时保险人会承担给付保险金的责任吗？\", \"answer\": \"不会，如果被保险人变更后的职业或工种经保险人审核不可继续承保且未通知保险人，发生保险事故时，保险人不会承担给付保险金的责任。\"}\n",
        "{\"ID\": 6754, \"question\": \"脊髓内肿瘤会造成什么样的损害？\", \"answer\": \"脊髓内肿瘤造成的损害主要表现为肿瘤造成脊髓损害，导致瘫痪。具体来说，这种损害会导致被保险人无法独立完成基本日常生活活动之一，如移动（自己从一个房间到另一个房间）或进食（自己从已准备好的碗或碟中取食物放入口中）。这些损害通常是由于脊髓内良性或恶性肿瘤引起的，且需要满足条款中关于手术治疗和术后神经系统损害的具体条件。\"}\n",
        "{\"ID\": 6755, \"question\": \"哪些原因导致的慢性复发性胰腺炎不在保障范围内？\", \"answer\": \"根据人保I无忧终身重疾险尊享款的保险条款，酒精导致的慢性复发性胰腺炎不在保障范围内。\"}\n",
        "{\"ID\": 6756, \"question\": \"保险公司如何保护投保人的个人信息和隐私?\", \"answer\": \"保险公司通过以下方式保护投保人的个人信息和隐私：\\n\\n1. **收集、整理、保存、加工、提供、使用和分享信息**：保险公司会根据服务需要收集投保人提供的信息，但仅限于提供服务及推荐产品等用途。\\n\\n2. **遵守法律法规**：保险公司严格遵守现行的关于个人信息、投保交易和交易安全的法律法规。\\n\\n3. **技术和管理措施**：保险公司采取充分的技术手段和管理措施，确保投保人提供给公司的个人信息、数据和隐私不被非法泄露或披露给未经许可的第三方。\\n\\n4. **隐私政策**：具体保障措施详见公司的隐私政策，用户可以通过公司官网查询相关内容。\\n\\n5. **信息查询**：投保人可以通过公司官网的公开信息披露专栏查询更多关于个人信息保护的相关信息。\\n\\n通过这些措施，保险公司致力于确保投保人的个人信息和隐私得到有效保护。\"}\n",
        "{\"ID\": 6757, \"question\": \"如果保险人审核同意治疗属于紧急情况，被保险人将获得多少比例的预授权赔偿？\", \"answer\": \"如果保险人审核同意治疗属于紧急情况，被保险人将获得100%的预授权赔偿。\"}\n",
        "{\"ID\": 6758, \"question\": \"如果被保险人达到了重度疾病“严重运动神经元病”的标准，保险公司将如何处理？\", \"answer\": \"如果被保险人达到了重度疾病“严重运动神经元病”的标准，保险公司将不承担早期运动神经元病这一轻度疾病的保险责任。这意味着，保险公司不会按照保险合同中关于早期运动神经元病的条款进行赔付。\"}\n",
        "{\"ID\": 6759, \"question\": \"在计算健康福·少儿重疾1年期(体验版)保险产品中被保险人的周岁时，应该依据哪些法定身份证明文件？\", \"answer\": \"\\n在计算健康福·少儿重疾1年期(体验版)保险产品中被保险人的周岁时，应该依据以下法定身份证明文件：\\n1. 出生证明：通常由医院在婴儿出生后出具，记录了婴儿的出生日期。\\n2. 身份证：在中国，身份证是证明个人身份和年龄的法定证件。\\n3. 护照：对于外籍儿童，护照是证明其出生日期和身份的官方文件。\\n4. 居民户口簿：在中国，户口簿是记录家庭成员出生日期和身份的官方文件。\\n\\n这些文件中的出生日期将被用来确定被保险人的周岁，从而决定保险合同中适用的保险责任和保险金额。\"}\n",
        "{\"ID\": 6760, \"question\": \"如果被保险人违反交通管理部门规定的行为而伤残或身故，保险公司是否承担水陆交通意外伤残或身故特别保险金和航空意外伤残或身故特别保险金的责任？\", \"answer\": \"如果被保险人违反交通管理部门规定的行为而伤残或身故，保险公司不承担给付水陆交通意外伤残或身故特别保险金和航空意外伤残或身故特别保险金的责任。\"}\n",
        "{\"ID\": 6761, \"question\": \"众安保险在获取客户同意共享个人信息时，会共享哪些类型的信息？\", \"answer\": \"众安保险在获取客户同意共享个人信息时，会共享的信息类型包括姓名、设备信息、手机号码等。\"}\n",
        "{\"ID\": 6762, \"question\": \"选择固定期限领取时，如果被保险人在固定领取期限届满前身故，保险公司如何给付？\", \"answer\": \"如果被保险人在固定领取期限届满前身故，保险公司将按照以下两者中的较大者一次性给付，本合同终止：\\n（1）固定领取期内尚未给付的养老年金之和（不计利息）；\\n（2）养老年金领取起始日零时的个人账户价值与已给付的养老年金总和（不计利息）的差额。\"}\n",
        "{\"ID\": 6763, \"question\": \"哪些类型的溶血性贫血不在众安重疾险的保障范围内？\", \"answer\": \"不在众安重疾险保障范围内的溶血性贫血类型包括但不限于以下几种：\\n1. 自身免疫性溶血性贫血\\n2. 与红细胞末缺陷有关的溶血性贫血\\n3. 红细胞酶病\\n4. 血红蛋白病\\n\\n这些类型的溶血性贫血并非由感染引起，因此不符合众安重疾险关于溶血性尿毒综合征的保障条件。\"}\n",
        "{\"ID\": 6764, \"question\": \"如果被保险人因扁桃腺、腺样体、疝气、女性生殖器官疾病的治疗或手术接受治疗，保险公司是否支付住院津贴或陪护津贴？\", \"answer\": \"保险公司不会支付因扁桃腺、腺样体、疝气、女性生殖器官疾病的治疗或手术产生的住院津贴或陪护津贴。\"}\n",
        "{\"ID\": 6765, \"question\": \"投保人需要将保费支付到哪里？\", \"answer\": \"投保人需要将保费支付至众安保险指定的账户。具体的支付方式可以是支付宝、银行卡等，具体操作可以参考众安保险提供的支付指南。\"}\n",
        "{\"ID\": 6766, \"question\": \"哪些原因引起的肝硬化不在健康福·重疾险的保障范围内？\", \"answer\": \"健康福·重疾险（保1年）的保障范围内不包括因酒精或药物滥用引起的肝硬化。也就是说，如果肝硬化是由于酒精或药物滥用导致的，那么这种情况下保险公司将不会进行理赔。\"}\n",
        "{\"ID\": 6767, \"question\": \"在中华联合住院无忧（基础版）保险中，投保人、被保险人或保险金受益人应当在何时通知保险公司保险事故的发生？\", \"answer\": \"在中华联合住院无忧（基础版）保险中，投保人、被保险人或保险金受益人应当在知道保险事故发生后立即通知保险公司。具体来说，一旦发生保险合同约定的保险事故，相关方应在不迟于事故发生后的第一时间内通知保险公司。这样可以确保保险公司能够及时介入，对事故进行核实和处理。\"}\n",
        "{\"ID\": 6768, \"question\": \"众安病无忧防癌医疗险是否排除从事接触焦炉逸散物或六价铬化合物等有毒物质职业的被保险人？\", \"answer\": \"是的，众安病无忧防癌医疗险排除从事接触焦炉逸散物或六价铬化合物等有毒物质职业的被保险人。根据保险条款，被保险人如果从事的职业需要接触或应用上述提到的有毒物质，则不符合该保险产品的承保条件。\"}\n",
        "{\"ID\": 6769, \"question\": \"天天保百万医疗意外险的合同是否适用于台湾地区？\", \"answer\": \"天天保百万医疗意外险的合同不适用于台湾地区。\"}\n",
        "{\"ID\": 6770, \"question\": \"如果被保险人因同一疾病原因同时符合轻度、中度和重度疾病保险金的责任，保险公司会如何给付保险金？\", \"answer\": \"根据《健康福·终身重疾(升级版)》的保险条款，若被保险人因同一疾病原因同时符合轻度疾病保险金责任、中度疾病保险金责任和重度疾病保险金责任中的任意两项或两项以上，保险公司仅按照其中保险金金额较高的一项责任承担一次给付保险金的责任。因此，在这种情况下，保险公司会按照保险金金额最高的那项责任进行给付。\"}\n",
        "{\"ID\": 6771, \"question\": \"根据国寿好健康百万医疗险文档，潜水活动可以在哪些水域进行？\", \"answer\": \"根据国寿好健康百万医疗险的保险条款，潜水活动可以在以下水域进行：江、河、湖、海、水库、运河等。这意味着只要是在这些水域内使用辅助呼吸器材进行的水下运动，都可以被视为潜水活动。\"}\n",
        "{\"ID\": 6772, \"question\": \"在等待期内确诊的疾病，保险公司是否承担给付保险金的责任？\", \"answer\": \"在等待期内确诊的疾病，保险公司不承担给付保险金的责任。\"}\n",
        "{\"ID\": 6773, \"question\": \"被保险人获得保险资格后，哪些情况会触发重大疾病保险责任？\", \"answer\": \"被保险人获得保险资格后，以下情况会触发重大疾病保险责任：\\n1. 被保险人遭受意外伤害，并在保险期间内因该意外伤害造成本保险合同约定的一种或多种重大疾病首次发病。\\n2. 被保险人经过本保险合同约定的等待期后，在保险期间内首次发病。\"}\n",
        "{\"ID\": 6774, \"question\": \"新华养老保险如何保护客户的个人信息和隐私安全？\", \"answer\": \"新华养老保险通过以下方式保护客户的个人信息和隐私安全：\\n\\n1. **法律法规遵守**：新华养老保险将按照相关法律法规的规定，保护客户的个人信息及隐私安全。\\n\\n2. **个人信息处理规则**：公司制定了详细的个人信息处理规则，确保在收集、使用、存储、传输和删除个人信息时，遵循合法、正当、必要的原则。\\n\\n3. **个人信息保护措施**：新华养老保险采取了多种技术和管理措施，以防止个人信息泄露、损毁、篡改和非法使用。\\n\\n4. **客户权利行使**：客户有权了解其个人信息的使用情况，并可以要求公司停止使用其个人信息，或者删除其个人信息。\\n\\n5. **未成年人个人信息保护**：对于未成年人的个人信息，新华养老保险将采取额外的保护措施，确保其个人信息的安全。\\n\\n6. **政策更新与联系**：新华养老保险会定期更新个人信息保护政策，并提供了服务热线（电话：4008155599）供客户咨询。\\n\\n7. **第三方服务**：在提供产品和服务时，新华养老保险会提示客户谨慎选择是否访问第三方提供的链接、内容、产品和服务，并建议客户在向第三方提交个人信息前，认真阅读第三方的个人信息保护政策。\\n\\n通过上述措施，新华养老保险致力于为客户提供安全、可靠的个人信息保护环境。\"}\n",
        "{\"ID\": 6775, \"question\": \"华泰少儿门急诊住院医疗险的指定医疗机构是什么意思？\", \"answer\": \"\\n华泰少儿门急诊住院医疗险中的“指定医疗机构”指的是中华人民共和国境内（不含港、澳、台地区）卫生部门审核认定的二级或以上的公立医院，以及保险人认可的医疗机构。这些医疗机构必须具备以下条件：仅限于上述医疗机构的普通部，不包括特需医疗、外宾医疗、干部病房、联合病房、国际医疗中心、VIP部、联合医院等特殊医疗服务；不包含诊所、康复中心、家庭病床、护理机构等非公立医院性质的医疗机构；同时，这些医疗机构必须拥有系统的、充分的诊断设备，全套外科手术设备，并能提供二十四小时的医疗与护理服务。简而言之，指定医疗机构是指符合上述条件的公立医院或保险人认可的医疗机构。\"}\n",
        "{\"ID\": 6776, \"question\": \"哪些医疗机构有资格进行全残的鉴定？\", \"answer\": \"根据保险条款，全残的鉴定应由二级以上（含二级）医院或者由双方认可的其他医疗机构（或鉴定机构）进行。这意味着，任何具有二级或以上资质的医院，以及被保险人与保险公司双方认可的医疗机构或鉴定机构，都有资格进行全残鉴定。\"}\n",
        "{\"ID\": 6777, \"question\": \"保险公司会在多长时间内退还人保I无忧终身重疾险尊享款合同的现金价值？\", \"answer\": \"保险公司会在收到解除合同申请书之日起30日内向您退还人保I无忧终身重疾险尊享款合同的现金价值。\"}\n",
        "{\"ID\": 6778, \"question\": \"融云PushSDK在人保福寿年年专属商业养老保险中的作用是什么？\", \"answer\": \"融云PushSDK在人保福寿年年专属商业养老保险中的作用主要是用于推送通知和消息。这包括但不限于以下功能：\\n1. 向用户推送保险相关的通知，如保单到期提醒、保费缴纳提醒等。\\n2. 在用户进行在线购买或保单变更时，推送确认信息或操作结果。\\n3. 在用户遇到问题时，推送客服支持或帮助信息。\\n4. 通过推送功能，增强用户与保险产品的互动性和粘性。\\n\\n总之，融云PushSDK在提升用户体验、提高保险业务效率和客户服务方面发挥着重要作用。\"}\n",
        "{\"ID\": 6779, \"question\": \"被保险人发生医疗事故或接受整容手术及其他内、外科手术时发生意外时，保险人是否承担疾病身故或疾病全残保险金给付责任？\", \"answer\": \"根据众安重疾险的保险条款，被保险人发生医疗事故或接受整容手术及其他内、外科手术时发生意外，保险人仍需承担疾病身故或疾病全残保险金给付责任。因为这种情况并未被列入保险人不承担责任的情形之中。\"}\n",
        "{\"ID\": 6780, \"question\": \"隐私政策将在什么情况下更新？\", \"answer\": \"隐私政策将在以下情况下更新：\\n1. 保险公司的服务模式发生重大变化，如处理个人信息的范围、处理的个人信息类型、个人信息的用途方式等；\\n2. 保险公司在所有权结构、组织架构等方面发生重大变化，如业务调整、破产并购等引起的所有者变更等；\\n3. 个人信息、转让或公开披露的主要对象发生变化；\\n4. 您参与个人信息处理活动的权利及其行使方式发生变化；\\n5. 保险公司负责处理个人信息保护的责任部门、联系方式及投诉渠道发生变化；\\n6. 个人信息安全影响评估报告表明存在风险时。\"}\n",
        "{\"ID\": 6781, \"question\": \"如果被保险人醉酒期间发生身故、残疾或骨折关节脱位，保险公司是否负责支付保险金？\", \"answer\": \"保险公司不负责支付保险金。\"}\n",
        "{\"ID\": 6782, \"question\": \"同佑e生终身重疾险中的'一肢缺失'是否等同于合同中指定的重大疾病'多个肢体缺失'？\", \"answer\": \"同佑e生终身重疾险中的“一肢缺失”并不等同于合同中指定的重大疾病“多个肢体缺失”。虽然两者都与肢体缺失有关，但“一肢缺失”是指单个肢体缺失的情况，而“多个肢体缺失”则是指两个或两个以上肢体缺失的情况。因此，这两个概念在保险条款中是有所区别的。\"}\n",
        "{\"ID\": 6783, \"question\": \"如果保险公司拒绝了客户的请求，会如何通知客户？\", \"answer\": \"如果保险公司拒绝了客户的请求，将会通过以下方式通知客户：\\n1. 书面通知：保险公司会通过邮寄、电子邮件或其他书面形式向客户发送拒绝通知。\\n2. 语音或短信通知：在某些情况下，保险公司可能会通过电话或短信通知客户请求被拒绝的情况。\\n3. 网上平台通知：如果客户通过保险公司官方网站或移动应用程序提交请求，保险公司可能会在相应平台上发布拒绝通知。\\n无论采用哪种方式，保险公司都会在收到客户请求后的15个工作日内尽快作出答复，并告知客户拒绝的原因。\"}\n",
        "{\"ID\": 6784, \"question\": \"个人行李的正常磨损、折旧或自然损耗是否由众安在线财产保险股份有限公司赔偿？\", \"answer\": \"个人行李的正常磨损、折旧或自然损耗不在众安在线财产保险股份有限公司的赔偿范围内。\"}\n",
        "{\"ID\": 6785, \"question\": \"当保险合同有其他约定时，保险人应该遵循哪些核定期限？\", \"answer\": \"当保险合同有其他约定时，保险人应该遵循合同中约定的核定期限。如果合同中未明确约定核定期限，则保险人应按照《佛山门诊保》保险条款中的一般规定执行，即情形复杂的，保险人应当在三十日内作出核定。如果合同中有更具体的约定，则保险人应按照合同约定的时间进行核定。\"}\n",
        "{\"ID\": 6786, \"question\": \"如果因投保人故意杀害或故意伤害被保险人导致被保险人全残，保险合同会如何处理？\", \"answer\": \"如果因投保人故意杀害或故意伤害被保险人导致被保险人全残，根据保险条款，保险公司不承担给付保险金的责任。同时，合同将终止，保险公司会向被保险人退还本合同保险单的现金价值。\"}\n",
        "{\"ID\": 6787, \"question\": \"保险人在订立健康福·少儿重疾(1年期)保险合同时需要向投保人说明哪些内容？\", \"answer\": \"在订立健康福·少儿重疾(1年期)保险合同时，保险人需要向投保人说明以下内容：\\n\\n1. 保险合同的基本内容，包括保险责任、保险期间、保险金额、保险费等。\\n2. 保险合同中免除保险人责任的条款，如保险事故的认定标准、保险责任的限制条件等。\\n3. 保险合同中的保险期间、保险金额、保险费等关键信息。\\n4. 保险合同中的保险金给付条件、流程和限制。\\n5. 保险合同中的保险人权利和义务，以及投保人权利和义务。\\n6. 保险合同中的争议解决方式，如仲裁、诉讼等。\\n7. 保险合同中的其他重要条款，如保险合同的变更、解除、终止等。\\n\\n保险人在说明上述内容时，应确保投保人能够充分理解，并在必要时提供书面或口头形式的明确说明。\"}\n",
        "{\"ID\": 6788, \"question\": \"早期原发性心肌病包括哪些类型的心肌病？\", \"answer\": \"早期原发性心肌病包括扩张型心肌病、肥厚型心肌病和限制型心肌病三种类型。\"}\n",
        "{\"ID\": 6789, \"question\": \"实施移植医院需要提供什么样的证明，卓越馨选医疗险2023版才会提供赔付？\", \"answer\": \"实施移植的医院需要提供以下证明，卓越馨选医疗险2023版才会提供赔付：\\n1. 证明移植器官来源于非HIV感染者：医院需出具证明文件，明确指出移植的器官并非来自HIV感染者。\\n2. 证明实施器官移植的医院为三级医院：医院需提供相关资质证明，证明其具备三级医院的等级。\\n3. 证明文件具有法律效力：证明文件需经过法律程序认证，确保其真实性和有效性。\"}\n",
        "{\"ID\": 6790, \"question\": \"流产（除葡萄胎以外）是否属于可以投保健康福·重疾险(返保费)的例外情况？\", \"answer\": \"是的，流产（除葡萄胎以外）属于可以投保健康福·重疾险(返保费)的例外情况。根据保险条款，流产（除葡萄胎以外）已治愈的情况，投保人仍然可以投保该产品。\"}\n",
        "{\"ID\": 6791, \"question\": \"在健康福·重疾险(返保费)合同中，当事人应如何进行争议的协商解决？\", \"answer\": \"\\n在健康福·重疾险(返保费)合同中，当事人进行争议协商的步骤如下：\\n\\n1. **沟通准备**：首先，双方应充分了解合同条款，明确争议的具体内容和涉及的利益。\\n\\n2. **选择合适的时间和地点**：选择一个双方都方便的时间和地点进行沟通，以便双方都能集中精力解决问题。\\n\\n3. **保持冷静和尊重**：在协商过程中，双方应保持冷静，尊重对方的意见和感受，避免情绪化。\\n\\n4. **明确沟通目标**：在协商前，明确自己的目标和期望，同时也要了解对方的立场和需求。\\n\\n5. **积极沟通**：双方应积极表达自己的观点，同时认真倾听对方的意见，寻找共同点和可能的解决方案。\\n\\n6. **记录协商内容**：在协商过程中，可以记录下双方讨论的关键点和达成的一致意见，以便后续跟进。\\n\\n7. **寻求第三方协助**：如果双方协商困难，可以寻求专业的调解人或律师等第三方协助，以促进争议的解决。\\n\\n8. **达成协议**：在充分沟通和协商后，如果双方能够达成一致意见，应形成书面协议，并由双方签字确认。\\n\\n通过上述步骤，当事人可以在健康福·重疾险(返保费)合同中有效地进行争议协商。如果协商不成，根据条款，当事人可以选择提交仲裁委员会仲裁或依法向人民法院起诉。\"}\n",
        "{\"ID\": 6792, \"question\": \"如果可选保险责任未在保险单中列明，保险公司会承担责任吗？\", \"answer\": \"如果可选保险责任未在保险单中列明，保险公司不会承担责任。\"}\n",
        "{\"ID\": 6793, \"question\": \"诊断严重脊髓灰质炎需要哪些医学证明？\", \"answer\": \"诊断严重脊髓灰质炎需要以下医学证明：\\n1. 我们认可的医院专科医生出具的医学诊断证明，证明被保险人患有脊髓灰质炎。\\n2. 相关的脊髓灰质炎病毒感染的证据，如脑脊液检查或血清学抗体检查报告，以证明病毒感染的存在。\\n3. 脊髓灰质炎造成的神经系统功能损害导致被保险人一肢（含）以上肢体肌力2级（含）以下，这通常需要通过肌力测试等医学检查来证明。\"}\n",
        "{\"ID\": 6794, \"question\": \"在'健康福·重疾险(保1年)'保险产品中，哪些情况下的肝硬化不在保障范围内？\", \"answer\": \"在“健康福·重疾险(保1年)”保险产品中，以下情况下的肝硬化不在保障范围内：\\n1. 由酒精引起的肝硬化。\\n2. 由药物滥用引起的肝硬化。\"}\n",
        "{\"ID\": 6795, \"question\": \"在华贵大麦青春保·定期寿险中，投保人或被保险人可以指定多少人为身故保险金的受益人？\", \"answer\": \"在华贵大麦青春保·定期寿险中，投保人或被保险人可以指定一人或数人为身故保险金的受益人。\"}\n",
        "{\"ID\": 6796, \"question\": \"哪些类型的脊柱裂不在《健康福·少儿重疾(1年期)》的保险责任范围内？\", \"answer\": \"《健康福·少儿重疾(1年期)》的保险责任范围内不包括以下类型的脊柱裂：\\n1. 由X线摄片发现的没有合并脊椎脊膜突出或脑（脊）膜突出的隐形脊椎裂。\\n2. 不符合条款中关于脊柱裂的定义，即没有导致脊髓脊膜突出、脑（脊）膜突出或脑膨出，没有合并大小便失禁，没有部分或完全性下肢瘫痪或畸形等神经学上的异常的脊柱裂。\\n3. 虽然有脊髓脊膜突出、脑（脊）膜突出或脑膨出，但没有合并大小便失禁，没有部分或完全性下肢瘫痪或畸形等神经学上的异常的脊柱裂。\\n4. 任何由遗传性疾病、先天性畸形、变形或染色体异常引起的脊柱裂，尽管这些情况不受“遗传性疾病，先天性畸形、变形或染色体异常”的责任免除限制，但如果脊柱裂的症状和后果不符合条款中规定的疾病责任范围，则也不在保险责任范围内。\"}\n",
        "{\"ID\": 6797, \"question\": \"保险金申请人请求给付保险金时需要提交哪些证明和资料？\", \"answer\": \"保险金申请人请求给付保险金时，需要提交以下证明和资料：\\n1. 保险金给付申请书；\\n2. 保险单或者其他保险凭证、批单；\\n3. 保险金申请人的身份证明，若保险金申请人系受托申请，还应当提供授权委托书和授权委托人的身份证明；\\n4. 公安机关或者其他行政主管部门、适格机构出具的被保险人意外事故证明；\\n5. 申请意外身故保险金的，除上述证明和资料外，还应当提供公安机关出具的户籍注销证明和公安机关或卫生行政部门批准的医疗机构出具的被保险人身故证明，若被保险人为宣告死亡，则提供宣告死亡判决书；\\n6. 申请意外伤残保险金的，除上述证明和资料外，还应当提供卫生行政部门批准的二级以上（含）医疗机构或者司法鉴定机构根据《评定标准》出具的伤残程度鉴定诊断书；\\n7. 投保人、被保险人、受益人所能提供的与确认事故的性质、原因或者损失程度等有关的其他证明和资料。如果保险金申请人未能提供有关证明和资料，导致保险人无法核实事故的性质、原因或者损失程度，保险人对无法核实部分不承担给付保险金的责任。\"}\n",
        "{\"ID\": 6798, \"question\": \"哪些类型的白血病不在健康福·少儿重疾(1年期)保险产品的保障范围内？\", \"answer\": \"在“健康福·少儿重疾(1年期)”保险产品的保障范围内，以下类型的白血病不在保障范围内：\\n1. 继发性（转移性）恶性肿瘤；\\n2. 相当于Binet分期方案A期程度的慢性淋巴细胞白血病。\"}\n",
        "{\"ID\": 6799, \"question\": \"驾驶与驾驶证准驾车型不相符合的车辆是否被认为是无合法有效驾驶证驾驶？\", \"answer\": \"是的，驾驶与驾驶证准驾车型不相符合的车辆被认为是无合法有效驾驶证驾驶。\"}\n"
      ]
    },
    {
      "cell_type": "markdown",
      "metadata": {
        "id": "5fCEDCU_qrC0"
      },
      "source": [
        "<div class=\"markdown-google-sans\">\n",
        "  <h2>What is Colab?</h2>\n",
        "</div>\n",
        "\n",
        "Colab, or \"Colaboratory\", allows you to write and execute Python in your browser, with\n",
        "- Zero configuration required\n",
        "- Access to GPUs free of charge\n",
        "- Easy sharing\n",
        "\n",
        "Whether you're a **student**, a **data scientist** or an **AI researcher**, Colab can make your work easier. Watch [Introduction to Colab](https://www.youtube.com/watch?v=inN8seMm7UI) or [Colab Features You May Have Missed](https://www.youtube.com/watch?v=rNgswRZ2C1Y) to learn more, or just get started below!"
      ]
    },
    {
      "cell_type": "markdown",
      "metadata": {
        "id": "GJBs_flRovLc"
      },
      "source": [
        "<div class=\"markdown-google-sans\">\n",
        "\n",
        "## **Getting started**\n",
        "</div>\n",
        "\n",
        "The document you are reading is not a static web page, but an interactive environment called a **Colab notebook** that lets you write and execute code.\n",
        "\n",
        "For example, here is a **code cell** with a short Python script that computes a value, stores it in a variable, and prints the result:"
      ]
    },
    {
      "cell_type": "code",
      "execution_count": null,
      "metadata": {
        "id": "gJr_9dXGpJ05",
        "outputId": "beb4aaca-6eac-4b30-f2ff-ea4308968122"
      },
      "outputs": [
        {
          "data": {
            "text/plain": [
              "86400"
            ]
          },
          "execution_count": 0,
          "metadata": {},
          "output_type": "execute_result"
        }
      ],
      "source": [
        "seconds_in_a_day = 24 * 60 * 60\n",
        "seconds_in_a_day"
      ]
    },
    {
      "cell_type": "markdown",
      "metadata": {
        "id": "2fhs6GZ4qFMx"
      },
      "source": [
        "To execute the code in the above cell, select it with a click and then either press the play button to the left of the code, or use the keyboard shortcut \"Command/Ctrl+Enter\". To edit the code, just click the cell and start editing.\n",
        "\n",
        "Variables that you define in one cell can later be used in other cells:"
      ]
    },
    {
      "cell_type": "code",
      "execution_count": null,
      "metadata": {
        "id": "-gE-Ez1qtyIA",
        "outputId": "e8f0c2b1-3c1e-4476-f8c2-d8f31cdb5e75"
      },
      "outputs": [
        {
          "data": {
            "text/plain": [
              "604800"
            ]
          },
          "execution_count": 0,
          "metadata": {},
          "output_type": "execute_result"
        }
      ],
      "source": [
        "seconds_in_a_week = 7 * seconds_in_a_day\n",
        "seconds_in_a_week"
      ]
    },
    {
      "cell_type": "markdown",
      "metadata": {
        "id": "lSrWNr3MuFUS"
      },
      "source": [
        "Colab notebooks allow you to combine **executable code** and **rich text** in a single document, along with **images**, **HTML**, **LaTeX** and more. When you create your own Colab notebooks, they are stored in your Google Drive account. You can easily share your Colab notebooks with co-workers or friends, allowing them to comment on your notebooks or even edit them. To learn more, see [Overview of Colab](/notebooks/basic_features_overview.ipynb). To create a new Colab notebook you can use the File menu above, or use the following link: [create a new Colab notebook](http://colab.research.google.com#create=true).\n",
        "\n",
        "Colab notebooks are Jupyter notebooks that are hosted by Colab. To learn more about the Jupyter project, see [jupyter.org](https://www.jupyter.org)."
      ]
    },
    {
      "cell_type": "markdown",
      "metadata": {
        "id": "UdRyKR44dcNI"
      },
      "source": [
        "<div class=\"markdown-google-sans\">\n",
        "\n",
        "## Data science\n",
        "</div>\n",
        "\n",
        "With Colab you can harness the full power of popular Python libraries to analyze and visualize data. The code cell below uses **numpy** to generate some random data, and uses **matplotlib** to visualize it. To edit the code, just click the cell and start editing."
      ]
    },
    {
      "cell_type": "markdown",
      "metadata": {
        "id": "4_kCnsPUqS6o"
      },
      "source": [
        "You can import your own data into Colab notebooks from your Google Drive account, including from spreadsheets, as well as from Github and many other sources. To learn more about importing data, and how Colab can be used for data science, see the links below under [Working with Data](#working-with-data)."
      ]
    },
    {
      "cell_type": "code",
      "execution_count": null,
      "metadata": {
        "colab": {
          "height": 249
        },
        "id": "C4HZx7Gndbrh",
        "outputId": "65838ba2-0ea9-41b7-e3f9-a725be449d3b"
      },
      "outputs": [
        {
          "data": {
            "text/markdown": [
              "![Sample Visualization](data:image/png;base64,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)"
            ],
            "text/plain": [
              "<IPython.core.display.Markdown object>"
            ]
          },
          "metadata": {},
          "output_type": "display_data"
        }
      ],
      "source": [
        "import numpy as np\n",
        "import IPython.display as display\n",
        "from matplotlib import pyplot as plt\n",
        "import io\n",
        "import base64\n",
        "\n",
        "ys = 200 + np.random.randn(100)\n",
        "x = [x for x in range(len(ys))]\n",
        "\n",
        "fig = plt.figure(figsize=(4, 3), facecolor='w')\n",
        "plt.plot(x, ys, '-')\n",
        "plt.fill_between(x, ys, 195, where=(ys > 195), facecolor='g', alpha=0.6)\n",
        "plt.title(\"Sample Visualization\", fontsize=10)\n",
        "\n",
        "data = io.BytesIO()\n",
        "plt.savefig(data)\n",
        "image = F\"data:image/png;base64,{base64.b64encode(data.getvalue()).decode()}\"\n",
        "alt = \"Sample Visualization\"\n",
        "display.display(display.Markdown(F\"\"\"![{alt}]({image})\"\"\"))\n",
        "plt.close(fig)"
      ]
    },
    {
      "cell_type": "markdown",
      "metadata": {
        "id": "VYV91hbKwP2J"
      },
      "source": [
        "Colab notebooks execute code on Google's cloud servers, meaning you can leverage the power of Google hardware, including [GPUs and TPUs](#using-accelerated-hardware), regardless of the power of your machine. All you need is a browser.\n",
        "\n",
        "For example, if you find yourself waiting for **pandas** code to finish running and want to go faster, you can switch to a GPU Runtime and use libraries like [RAPIDS cuDF](https://rapids.ai/cudf-pandas) that provide zero-code-change acceleration."
      ]
    },
    {
      "cell_type": "markdown",
      "metadata": {
        "id": "vwnNlNIEwoZ8"
      },
      "source": [
        "To learn more about accelerating pandas on Colab, see the [10 minute guide](https://colab.research.google.com/github/rapidsai-community/showcase/blob/main/getting_started_tutorials/cudf_pandas_colab_demo.ipynb) or\n",
        " [US stock market data analysis demo](https://colab.research.google.com/github/rapidsai-community/showcase/blob/main/getting_started_tutorials/cudf_pandas_stocks_demo.ipynb)."
      ]
    },
    {
      "cell_type": "markdown",
      "metadata": {
        "id": "OwuxHmxllTwN"
      },
      "source": [
        "<div class=\"markdown-google-sans\">\n",
        "\n",
        "## Machine learning\n",
        "</div>\n",
        "\n",
        "With Colab you can import an image dataset, train an image classifier on it, and evaluate the model, all in just [a few lines of code](https://colab.research.google.com/github/tensorflow/docs/blob/master/site/en/tutorials/quickstart/beginner.ipynb)."
      ]
    },
    {
      "cell_type": "markdown",
      "metadata": {
        "id": "ufxBm1yRnruN"
      },
      "source": [
        "Colab is used extensively in the machine learning community with applications including:\n",
        "- Getting started with TensorFlow\n",
        "- Developing and training neural networks\n",
        "- Experimenting with TPUs\n",
        "- Disseminating AI research\n",
        "- Creating tutorials\n",
        "\n",
        "To see sample Colab notebooks that demonstrate machine learning applications, see the [machine learning examples](#machine-learning-examples) below."
      ]
    },
    {
      "cell_type": "markdown",
      "metadata": {
        "id": "-Rh3-Vt9Nev9"
      },
      "source": [
        "<div class=\"markdown-google-sans\">\n",
        "\n",
        "## More Resources\n",
        "\n",
        "### Working with Notebooks in Colab\n",
        "\n",
        "</div>\n",
        "\n",
        "- [Overview of Colab](/notebooks/basic_features_overview.ipynb)\n",
        "- [Guide to Markdown](/notebooks/markdown_guide.ipynb)\n",
        "- [Importing libraries and installing dependencies](/notebooks/snippets/importing_libraries.ipynb)\n",
        "- [Saving and loading notebooks in GitHub](https://colab.research.google.com/github/googlecolab/colabtools/blob/main/notebooks/colab-github-demo.ipynb)\n",
        "- [Interactive forms](/notebooks/forms.ipynb)\n",
        "- [Interactive widgets](/notebooks/widgets.ipynb)\n",
        "\n",
        "<div class=\"markdown-google-sans\">\n",
        "\n",
        "<a name=\"working-with-data\"></a>\n",
        "### Working with Data\n",
        "</div>\n",
        "\n",
        "- [Loading data: Drive, Sheets, and Google Cloud Storage](/notebooks/io.ipynb)\n",
        "- [Charts: visualizing data](/notebooks/charts.ipynb)\n",
        "- [Getting started with BigQuery](/notebooks/bigquery.ipynb)\n",
        "\n",
        "<div class=\"markdown-google-sans\">\n",
        "\n",
        "### Machine Learning Crash Course\n",
        "\n",
        "<div>\n",
        "\n",
        "These are a few of the notebooks from Google's online Machine Learning course. See the [full course website](https://developers.google.com/machine-learning/crash-course/) for more.\n",
        "- [Intro to Pandas DataFrame](https://colab.research.google.com/github/google/eng-edu/blob/main/ml/cc/exercises/pandas_dataframe_ultraquick_tutorial.ipynb)\n",
        "- [Intro to RAPIDS cuDF to accelerate pandas](https://nvda.ws/rapids-cudf)\n",
        "- [Linear regression with tf.keras using synthetic data](https://colab.research.google.com/github/google/eng-edu/blob/main/ml/cc/exercises/linear_regression_with_synthetic_data.ipynb)\n",
        "\n",
        "<div class=\"markdown-google-sans\">\n",
        "\n",
        "<a name=\"using-accelerated-hardware\"></a>\n",
        "### Using Accelerated Hardware\n",
        "</div>\n",
        "\n",
        "- [TensorFlow with GPUs](/notebooks/gpu.ipynb)\n",
        "- [TensorFlow with TPUs](/notebooks/tpu.ipynb)"
      ]
    },
    {
      "cell_type": "markdown",
      "metadata": {
        "id": "P-H6Lw1vyNNd"
      },
      "source": [
        "<div class=\"markdown-google-sans\">\n",
        "\n",
        "<a name=\"machine-learning-examples\"></a>\n",
        "\n",
        "### Featured examples\n",
        "\n",
        "</div>\n",
        "\n",
        "- [Retraining an Image Classifier](https://tensorflow.org/hub/tutorials/tf2_image_retraining): Build a Keras model on top of a pre-trained image classifier to distinguish flowers.\n",
        "- [Text Classification](https://tensorflow.org/hub/tutorials/tf2_text_classification): Classify IMDB movie reviews as either *positive* or *negative*.\n",
        "- [Style Transfer](https://tensorflow.org/hub/tutorials/tf2_arbitrary_image_stylization): Use deep learning to transfer style between images.\n",
        "- [Multilingual Universal Sentence Encoder Q&A](https://tensorflow.org/hub/tutorials/retrieval_with_tf_hub_universal_encoder_qa): Use a machine learning model to answer questions from the SQuAD dataset.\n",
        "- [Video Interpolation](https://tensorflow.org/hub/tutorials/tweening_conv3d): Predict what happened in a video between the first and the last frame.\n"
      ]
    }
  ],
  "metadata": {
    "colab": {
      "name": "Welcome To Colab",
      "toc_visible": true,
      "provenance": [],
      "include_colab_link": true
    },
    "kernelspec": {
      "display_name": "Python 3",
      "name": "python3"
    }
  },
  "nbformat": 4,
  "nbformat_minor": 0
}