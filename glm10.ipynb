{
  "cells": [
    {
      "cell_type": "markdown",
      "metadata": {
        "id": "view-in-github",
        "colab_type": "text"
      },
      "source": [
        "<a href=\"https://colab.research.google.com/github/tx1103mark/bigscience/blob/master/glm10.ipynb\" target=\"_parent\"><img src=\"https://colab.research.google.com/assets/colab-badge.svg\" alt=\"Open In Colab\"/></a>"
      ]
    },
    {
      "cell_type": "markdown",
      "metadata": {
        "id": "Wf5KrEb6vrkR"
      },
      "source": [
        "<div class=\"markdown-google-sans\">\n",
        "  <h1>Welcome to Colab!</h1>\n",
        "</div>\n",
        "\n",
        "<div class=\"markdown-google-sans\">\n",
        "  <h2>Explore the Gemini API</h2>\n",
        "  <p>The Gemini API gives you access to Gemini models created by Google DeepMind. Gemini models are built from the ground up to be multimodal, so you can reason seamlessly across text, images, code, and audio.\n",
        "  </p>\n",
        "  <strong>How to get started</strong>\n",
        "    <ol>\n",
        "      <li>Go to <a href=\"https://aistudio.google.com/\">Google AI Studio</a> and log in with your Google account.</li>\n",
        "      <li><a href=\"https://aistudio.google.com/app/apikey\">Create an API key</a>.</li>\n",
        "      <li>Use a quickstart for <a href=\"https://colab.research.google.com/github/google-gemini/cookbook/blob/main/quickstarts/Prompting.ipynb\">Python</a>, or call the REST API using <a href=\"https://colab.research.google.com/github/google-gemini/cookbook/blob/main/quickstarts/rest/Prompting_REST.ipynb\">curl</a>.</li>\n",
        "      </ol>\n",
        "  <strong>Explore use cases</strong>\n",
        "    <ul>\n",
        "      <li><a href=\"https://colab.research.google.com/github/google-gemini/cookbook/blob/main/examples/Market_a_Jet_Backpack.ipynb\">Create a marketing campaign</a></li>\n",
        "      <li><a href=\"https://colab.research.google.com/github/google-gemini/cookbook/blob/main/quickstarts/Audio.ipynb\">Analyze audio recordings</a></li>\n",
        "      <li><a href=\"https://colab.research.google.com/github/google-gemini/cookbook/blob/main/quickstarts/System_instructions.ipynb\">Use System instructions in chat</a></li>\n",
        "    </ul>\n",
        "  <p>To learn more, check out the <a href=\"https://github.com/google-gemini/cookbook\">Gemini cookbook</a> or visit the <a href=\"https://ai.google.dev/docs/\">Gemini API documentation</a>.\n",
        "  </p>\n",
        "</div>\n"
      ]
    },
    {
      "cell_type": "code",
      "execution_count": null,
      "metadata": {
        "id": "zwFnJsE6vjf8"
      },
      "outputs": [],
      "source": [
        "{\"ID\": 6900, \"question\": \"如果投保人或被保险人变更疾病身故保险金的受益人未通知保险人，变更是否对保险人发生效力？\", \"answer\": \"如果投保人或被保险人变更疾病身故保险金的受益人未通知保险人，变更对保险人不发生效力。\"}\n",
        "{\"ID\": 6901, \"question\": \"在健康福·重疾险中，哪些血管的狭窄不在保障范围内？\", \"answer\": \"在健康福·重疾险中，左前降支、左旋支及右冠状动脉的分支血管的狭窄不在保障范围内。\"}\n",
        "{\"ID\": 6902, \"question\": \"如果保险公司不能及时确定给付保险金的数额，保险公司会如何处理？\", \"answer\": \"如果保险公司不能及时确定给付保险金的数额，根据保险条款的规定，保险公司会在收到保险金给付申请书及有关证明和资料之日起60日内，根据已有证明和资料可以确定的数额先予支付。这意味着在最终确定给付保险金的数额后，保险公司会支付相应的差额。\"}\n",
        "{\"ID\": 6903, \"question\": \"客户在有疑问时应该如何联系新华养老保险股份有限公司？\", \"answer\": \"客户在有疑问时可以通过新华养老保险股份有限公司的服务热线（电话：4008155599）进行咨询。此外，如果需要书面联系，也可以通过公司官方渠道获取联系地址和邮箱，以书面形式提出疑问。\"}\n",
        "{\"ID\": 6904, \"question\": \"如果投保人选择银行转账方式支付保费，他们同意哪些授权？\", \"answer\": \"如果投保人选择银行转账方式支付保费，他们同意以下授权：\\n1. 授权保险公司从投保人指定的银行账户中转账支付各期保险费。\\n2. 授权保险公司使用投保人本人账户进行保费支付。\\n3. 如果因授权账户原因或其他非保险公司原因导致转账不成功，引发保险合同不生效或不能成功续保，责任由投保人全权承担。\\n4. 如果授权账户发生变更，投保人应提前通知保险公司并办理相关账号变更手续。\"}\n",
        "{\"ID\": 6905, \"question\": \"如何申请解除一生无忧养老年金保险合同？\", \"answer\": \"要申请解除一生无忧养老年金保险合同，您可以按照以下步骤操作：\\n\\n1. **填写解除合同申请书**：首先，您需要填写一份解除合同的申请书。这份申请书通常可以在保险公司官网下载，或者直接向保险公司索取。\\n\\n2. **准备所需资料**：根据保险条款要求，您需要准备以下资料：\\n   - 保险合同原件；\\n   - 您的有效身份证件。\\n\\n3. **提交申请**：将填写好的解除合同申请书和准备好的资料一并提交给保险公司。您可以选择以下几种方式提交：\\n   - 直接前往保险公司营业网点；\\n   - 通过邮寄方式将资料寄送至保险公司；\\n   - 如果保险公司提供在线服务，也可以通过官方网站或手机APP提交。\\n\\n4. **等待处理**：保险公司收到您的申请后，将在30日内处理完毕，并退还保险单的现金价值。\\n\\n请注意，犹豫期后解除合同会遭受一定损失，因此在做出决定前，请仔细考虑您的决定，并咨询保险公司的相关专业人士。\"}\n",
        "{\"ID\": 6906, \"question\": \"卓越馨选医疗险2023版要求哪些条件同时满足才认定为严重慢性肝衰竭？\", \"answer\": \"卓越馨选医疗险2023版要求以下全部条件同时满足才认定为严重慢性肝衰竭：\\n1. 持续性黄疸；\\n2. 腹水；\\n3. 肝性脑病；\\n4. 充血性脾肿大伴脾功能亢进或食管胃底静脉曲张。\\n\\n需要注意的是，因酗酒或药物滥用导致的肝衰竭不在该保险产品的保障范围内。\"}\n",
        "{\"ID\": 6907, \"question\": \"国寿好健康百万医疗险的重大疾病异地转诊交通费用是在什么条件下给付的？\", \"answer\": \"国寿好健康百万医疗险的重大疾病异地转诊交通费用在以下条件下给付：\\n\\n1. 被保险人在等待期满后。\\n2. 经本保险合同定义的医院的专科医生初次确诊罹患本保险合同中定义的重大疾病（无论一种或多种）。\\n3. 需赶赴保险人指定的异地（中国大陆地区省外或直辖市外）医院进行疾病治疗。\\n4. 对于保险期间内被保险人发生的合理且必要的公共交通及救护车费用。\\n\\n满足上述条件后，保险人将按照保险合同的约定给付保险金。需要注意的是，被保险人飞机舱位级别以经济舱（包含超级经济舱）为限，火车（含地铁、轻轨、动车、其他高速列车）以软卧或一等座为限。此外，保险期间届满时，如果被保险人仍在接受住院治疗，保险人将继续对前述费用承担保险责任至被保险人当次出院止，但最长不超过从保险期间届满日的次日起后延连续30日。\"}\n",
        "{\"ID\": 6908, \"question\": \"投保人通过什么方式可以提出解除合同？\", \"answer\": \"投保人可以通过以下方式提出解除合同：\\n1. 书面申请：投保人可以提交书面申请给保险人，表达解除合同的意愿。\\n2. 其他认可形式：除了书面申请外，如果保险人与投保人双方认可的其他形式，如电子邮件、传真等，也可以作为解除合同的申请方式。\\n3. 互联网渠道：投保人还可以通过保险人同意或认可的网站等互联网渠道提出解除合同的申请，这种方式也视为投保人的书面申请。\"}\n",
        "{\"ID\": 6909, \"question\": \"如何证明肌萎缩脊髓侧索硬化后遗症导致的生理功能损坏的严重性？\", \"answer\": \"要证明肌萎缩脊髓侧索硬化后遗症导致的生理功能损坏的严重性，需要满足以下条件：\\n\\n1. **基本日常生活活动（ADL）无法独立完成**：需要由被保险人永久性无法独立完成最少3项基本日常生活活动，如穿衣、进食、洗澡、如厕、移动等。\\n\\n2. **医疗证明**：必须由我们认可的医院专科医生进行诊断，并使用适当的神经肌肉检查，如肌电图（EMG）来证实脊髓前角细胞功能失调、可见的肌肉颤动、痉挛、过度活跃之深层肌腱反射和外部足底反射、影响皮质脊髓束、构音障碍及吞咽困难等症状。\\n\\n3. **持续性和永久性**：上述症状和活动受限必须是持续的，并且被保险人无法通过任何医疗手段恢复至能够独立完成上述基本日常生活活动的状态。\\n\\n通过提供上述证明材料，可以证明肌萎缩脊髓侧索硬化后遗症导致的生理功能损坏的严重性，从而满足保险理赔的条件。\"}\n",
        "{\"ID\": 6910, \"question\": \"恶性肿瘤——重度在A 组中的评分是多少?\", \"answer\": \"恶性肿瘤——重度在A组中的评分是30。\"}\n",
        "{\"ID\": 6911, \"question\": \"如果保险人不承担赔偿保险金的责任，他们会如何处理已交的保险费？\", \"answer\": \"如果保险人不承担赔偿保险金的责任，即被保险人在等待期内初次确诊罹患合同约定的乳腺恶性肿瘤，保险人将会无息退还投保人已交的保险费，并终止该保险合同。这意味着投保人将不会获得保险金的赔偿，但可以收回已交的保费。\"}\n",
        "{\"ID\": 6912, \"question\": \"如果保险申请人故意或因重大过失未如实告知，保险公司有哪些权利？\", \"answer\": \"如果保险申请人故意或因重大过失未如实告知，保险公司有以下权利：\\n1. 解除合同：保险公司有权解除合同，不再承担保险责任。\\n2. 不承担给付保险金责任：对于合同解除前发生的保险事故，保险公司不承担给付保险金的责任。\\n3. 不退还保险费：如果申请人故意不履行如实告知义务，保险公司不退还保险费。\\n4. 退还保险费：如果申请人因重大过失未履行如实告知义务，对保险事故的发生有严重影响，保险公司不承担给付保险金的责任，但应当退还保险费。\\n5. 不得解除合同：如果保险公司在合同订立时已经知道申请人未如实告知的情况，保险公司不得解除合同；发生保险事故的，保险公司承担给付保险金的责任。\"}\n",
        "{\"ID\": 6913, \"question\": \"保险人应该如何将核定结果通知被保险人？\", \"answer\": \"保险人应当通过以下方式将核定结果通知被保险人：\\n1. 书面通知：保险人可以通过邮寄、电子邮件或其他书面形式向被保险人发出核定结果的书面通知。\\n2. 口头通知：在紧急情况下，保险人也可以通过电话或其他口头方式及时通知被保险人。\\n3. 网络平台：如果保险合同中有约定，保险人也可以通过保险公司的官方网站、客户服务热线等网络平台通知被保险人。\\n无论采用哪种方式，保险人均应确保通知的及时性和准确性，以便被保险人能够及时了解保险金的给付情况。\"}\n",
        "{\"ID\": 6914, \"question\": \"人保·I无忧终身重疾险2.0的最大投保年龄是多少？\", \"answer\": \"人保·I无忧终身重疾险2.0的最大投保年龄是55周岁。\"}\n",
        "{\"ID\": 6915, \"question\": \"在合同有效期内，身故保险金和重度疾病保险金的合计给付次数是多少？\", \"answer\": \"在合同有效期内，身故保险金和重度疾病保险金的合计给付次数是1次。\"}\n",
        "{\"ID\": 6916, \"question\": \"保险过了等待期后，如何申请理赔款？\", \"answer\": \"保险过了等待期后，若需要申请理赔款，您应直接致电保险公司进行报案理赔。人保健康将会负责支付理赔款至被保险人的账户。如果理赔金的领取人不是被保险人本人，那么需要提供关系证明和委托转账授权书，以便理赔款能够转至对应的监护人或受益人账户。\"}\n",
        "{\"ID\": 6917, \"question\": \"如果被保险人感染艾滋病病毒或患艾滋病导致保险事故，保险公司是否承担保险责任？\", \"answer\": \"根据保险条款，如果被保险人在本合同有效期内感染艾滋病病毒或患艾滋病，且该疾病属于本条款第7.20条“重度疾病”释义中约定的第31、81项重度疾病，保险公司将承担相应的保险责任。但如果被保险人感染艾滋病病毒或患艾滋病，但该疾病不属于上述约定的重度疾病，保险公司则不承担保险责任。因此，是否承担保险责任取决于被保险人所患的艾滋病病毒或艾滋病是否属于合同约定的重度疾病。\"}\n",
        "{\"ID\": 6918, \"question\": \"人保公司是否具有获得和使用被保险人的所有血液样本的权利？\", \"answer\": \"是的，人保公司具有获得和使用被保险人的所有血液样本的权利。这是为了确保在处理因输血导致的感染艾滋病病毒或患艾滋病的相关理赔时，能够进行必要的检验和鉴定。\"}\n",
        "{\"ID\": 6919, \"question\": \"如果被保险人的治疗不是因为主险合同所列的意外伤害事故发生的，保险公司是否负责给付保险金？\", \"answer\": \"如果被保险人的治疗不是因为主险合同所列的意外伤害事故发生的，保险公司不负责给付保险金。\"}\n",
        "{\"ID\": 6920, \"question\": \"保险公司有权在什么情况下解除合同？\", \"answer\": \"保险公司有权在以下情况下解除合同：\\n1. 被保险人在投保时隐瞒了重要事实，或者告知不实，这些事实或信息影响了保险公司的承保决定。\\n2. 被保险人曾被保险公司解除合同或投保，复效时被拒保、延期或附加条件承保，且这种情况在保险条款中已有明确说明。\\n3. 被保险人有过任何形式的人身索赔，且这种情况在投保时未如实告知保险公司。\"}\n",
        "{\"ID\": 6921, \"question\": \"在法律法规或者公安机关交通管理部门规定不允许的情况下驾驶机动交通工具是否属于无有效驾驶证驾驶？\", \"answer\": \"是的，在法律法规或者公安机关交通管理部门规定不允许的情况下驾驶机动交通工具属于无有效驾驶证驾驶。\"}\n",
        "{\"ID\": 6922, \"question\": \"什么情况下中度重症肌无力不达到保险公司的重度疾病给付标准？\", \"answer\": \"中度重症肌无力不达到保险公司的重度疾病给付标准的情况包括：疾病确诊180天后，患者的自主生活能力虽然存在部分丧失，但仍然能够独立完成六项基本日常生活活动中的两项或两项以上。这六项基本日常生活活动通常指的是穿衣、进食、洗澡、如厕、行动和修饰。\"}\n",
        "{\"ID\": 6923, \"question\": \"如果被保险人未通知保险人职业或工种变更，保险合同会如何？\", \"answer\": \"如果被保险人未通知保险人职业或工种变更，且变更后的职业或工种属于保险人的拒保范围，保险合同将不会承担给付保险金的责任。同时，保险合同自被保险人职业或工种变更之日起终止，保险人将按日计算退还未满期净保险费。这意味着保险合同将不再有效，且保险人不对因被保险人未通知职业或工种变更而发生的保险事故负责。\"}\n",
        "{\"ID\": 6924, \"question\": \"无并发症的骨折是否符合健康福·重疾1号(大病版)的投保条件？\", \"answer\": \"无并发症的骨折符合健康福·重疾1号(大病版)的投保条件。\"}\n",
        "{\"ID\": 6925, \"question\": \"如果在太享E保百万医疗险合同保险期间届满后30日内未支付续保保费，等待期会怎样处理？\", \"answer\": \"如果在太享E保百万医疗险合同保险期间届满后30日内未支付续保保费，等待期将会重新计算。这意味着，如果被保险人在此期间内因意外伤害以外的原因发生的疾病，将需要满足新的等待期（即自合同生效之日起30日）才能享受保障。\"}\n",
        "{\"ID\": 6926, \"question\": \"投保人故意或因重大过失未如实告知时，保险公司可以采取哪些措施？\", \"answer\": \"投保人故意或因重大过失未如实告知时，保险公司可以采取以下措施：\\n\\n1. 解除保险合同：根据保险条款，保险公司有权根据《中华人民共和国保险法》第十六条的规定解除保险合同。\\n\\n2. 不承担赔偿责任：对于合同解除前发生的保险事故，保险公司不承担赔偿责任。\\n\\n3. 不退还保险费：如果投保人故意不履行如实告知义务，保险公司对于合同解除前发生的保险事故，不承担赔偿责任，并不退还保险费。\\n\\n4. 退还保险费：如果投保人因重大过失未履行如实告知义务，对保险事故的发生有严重影响，保险公司对合同解除前发生的保险事故，不承担赔偿责任，但退还保险费。\\n\\n需要注意的是，所有告知事项均需以提交的电子或书面告知为准，口头告知无效。\"}\n",
        "{\"ID\": 6927, \"question\": \"保险合同的养老年金、重度失能保险金和身故保险金的给付是否可以同时进行？\", \"answer\": \"保险合同的养老年金、重度失能保险金和身故保险金的给付不可以同时进行，只能根据被保险人的实际情况选择其中一种进行给付。例如，如果被保险人在开始领取养老年金或重度失能保险金前身故，则只能按照身故保险金的规定进行给付。如果被保险人在达到重度失能状态后生存，则只能按照重度失能保险金的规定进行给付。养老年金的给付则是在被保险人达到约定的年龄后开始。\"}\n",
        "{\"ID\": 6928, \"question\": \"如果因投保人故意杀害或故意伤害被保险人导致身故，合同会如何处理？\", \"answer\": \"如果因投保人故意杀害或故意伤害被保险人导致身故，根据太平早早领·年金保险条款中的责任免除条款，保险公司将不承担给付身故保险金的责任。此外，合同将终止，如果投保人已交足2年以上保险费，保险公司将向其他权利人退还保险单的现金价值。\"}\n",
        "{\"ID\": 6929, \"question\": \"如果被保险人仅投保了普通运动意外险，但在非运动期间或高风险运动期间遭受意外伤害，保险公司是否承担赔偿责任？\", \"answer\": \"如果被保险人仅投保了普通运动意外险，但在非运动期间或高风险运动期间遭受意外伤害，保险公司不承担赔偿责任。\"}\n",
        "{\"ID\": 6930, \"question\": \"健康福终身重疾险中的'严重心肌病'释义与哪一条款中的疾病释义相同？\", \"answer\": \"健康福终身重疾险中的'严重心肌病'释义与第7.20条“重度疾病”中约定的第53种重度疾病释义相同。\"}\n",
        "{\"ID\": 6931, \"question\": \"被保险人因药物过敏或未遵医嘱使用药物造成的伤害，保险公司是否赔偿？\", \"answer\": \"被保险人因药物过敏或未遵医嘱使用药物造成的伤害，保险公司不承担给付保险金责任。\"}\n",
        "{\"ID\": 6932, \"question\": \"同佑e生(臻享版)终身重疾险中心脑血管疾病名称的列出目的是什么？\", \"answer\": \"\\n同佑e生(臻享版)终身重疾险中心脑血管疾病名称的列出目的是为了明确保险合同中关于心脑血管疾病保障的具体范围，让投保人了解哪些疾病或手术属于保险责任范围，保障投保人的权益，避免因保障范围不明确而产生纠纷。同时，这也有助于投保人在购买保险时，根据自身健康状况和需求，选择合适的保险产品。\"}\n",
        "{\"ID\": 6933, \"question\": \"诊断和治疗肾上腺切除术必须在什么样的医疗机构进行？\", \"answer\": \"诊断和治疗肾上腺切除术必须在保险人指定或者认可的医疗机构进行，且这些医疗机构应由专科医生认为是医疗必需的情况下进行治疗。\"}\n",
        "{\"ID\": 6934, \"question\": \"保险公司如何处理被保险人在旅行期间因意外伤害或疾病需要运送或送返的情况？\", \"answer\": \"保险公司会委托救援机构或其授权代表进行评估和处理。具体流程如下：\\n\\n1. 被保险人在旅行期间遭受意外伤害或罹患突发性疾病，需要运送或送返时，应立即通知保险公司。\\n\\n2. 保险公司委托的救援机构或其授权代表会从医疗角度评估被保险人的状况，判断是否需要运送或送返。\\n\\n3. 如果救援机构认为被保险人有运送或送返的必要，会安排将被保险人送至当地或其就近地区符合治疗条件的医院。\\n\\n4. 如果救援机构从医疗角度认定为有送返必要的，会安排将被保险人送返至其在中国大陆境内的住所地或经常居住地。\\n\\n5. 救援机构会根据被保险人的身体状况或治疗需要，并参考医生建议，决定运送或送返的手段和目的地。\\n\\n6. 运送和送返的手段可能包括配备专业医生、护士和必要的运输工具，如空中救护机、救护车、民航班机、火车等。\\n\\n7. 运送和送返费用包括救援机构安排的运输、途中医疗护理及医疗设备和用品之费用。\\n\\n8. 保险公司核实确认费用后，直接支付给救援机构，费用总额最高以本附加保险合同约定的保险金额为限。\\n\\n9. 如果实际费用超过保险金额，超出部分由被保险人自行承担。\\n\\n10. 保险公司只负责赔偿经救援机构批准并安排的运送或送返费用，未经批准的费用不予赔偿。在紧急医疗情况下，如果被保险人由于不可抗力原因无法通知救援机构，保险公司将根据投保人所选择的保险计划，以及在相同情况下由救援机构提供或安排服务所需要的合理费用进行赔偿。\"}\n",
        "{\"ID\": 6935, \"question\": \"如果被保险人进行健康护理或以捐献身体器官为目的的医疗行为，保险公司是否承担赔偿责任？\", \"answer\": \"如果被保险人进行健康护理或以捐献身体器官为目的的医疗行为，保险公司不承担赔偿责任。\"}\n",
        "{\"ID\": 6936, \"question\": \"被保险人智力低常的理赔条件有哪些？\", \"answer\": \"被保险人智力低常的理赔条件包括以下四点：\\n1. 造成被保险人智力低常的严重头部创伤或疾病（以入院日期为准）发生在被保险人6周岁以后；\\n2. 儿科专科医师确诊被保险人由于严重头部创伤或疾病造成智力低常；\\n3. 专职合格心理检测工作者适时做的心理检测证实被保险人智力低常（轻度、中度、重度或极重度）；\\n4. 被保险人的智力低常自确认日起持续180天以上。\"}\n",
        "{\"ID\": 6937, \"question\": \"月经调理是否符合健康福·重疾1号(大病版)的投保条件？\", \"answer\": \"根据健康福·重疾1号(大病版)的保险条款，月经调理并不在可投保的就医行为列表中，因此不符合该保险产品的投保条件。\"}\n",
        "{\"ID\": 6938, \"question\": \"如果投保人未按约定交纳保险费，保险人会如何处理？\", \"answer\": \"如果投保人未按约定交纳保险费，保险人将允许投保人在保险人催告之日起三十日内（含第三十日）补交保险费。在此期间，如果被保险人发生保险事故，保险人将扣减投保人欠交的保险费后按照本合同约定赔偿保险金。如果投保人在保险人催告之日起三十日内（含第三十日）未补交保险费，本合同自上述期限届满之日的二十四时起效力中止，在此期间发生的保险事故，保险人不承担保险责任。\"}\n",
        "{\"ID\": 6939, \"question\": \"如果保险人在合同订立时已经知道投保人未如实告知的情况，保险人有什么权利？\", \"answer\": \"如果保险人在合同订立时已经知道投保人未如实告知的情况，根据保险条款的规定，保险人不得解除合同或取消该被保险人资格。在这种情况下，保险人应当承担赔偿责任，即如果发生保险事故，保险人仍需按照合同约定支付保险金。这是为了保障投保人的合法权益，防止保险人滥用解除合同的权利。\"}\n",
        "{\"ID\": 6940, \"question\": \"被保险人身故后，保险合同的效力何时终止？\", \"answer\": \"被保险人身故后，保险合同的效力即时终止。\"}\n",
        "{\"ID\": 6941, \"question\": \"消费者应该如何查询本公司的综合偿付能力充足率和风险综合评价相关信息？\", \"answer\": \"消费者可以通过以下步骤查询本公司的综合偿付能力充足率和风险综合评价相关信息：\\n1. 打开浏览器，输入公司提供的链接：http://www.picchealth.com/tabid/2331/Default.aspx。\\n2. 在网页上找到相关查询区域，通常会有“偿付能力充足率”和“风险综合评价”等标签。\\n3. 点击相应的标签，按照页面提示进行操作，如输入查询条件、选择查询时间等。\\n4. 查询结果会显示在页面上，消费者可以查看公司的综合偿付能力充足率和风险综合评价信息。\"}\n",
        "{\"ID\": 6942, \"question\": \"脊髓内肿瘤可能导致什么后果？\", \"answer\": \"脊髓内肿瘤可能导致瘫痪。具体来说，如果肿瘤造成脊髓损害，并且被保险人接受了肿瘤切除的手术治疗，手术180天后遗留下列神经系统损害，无法独立完成基本日常生活活动之一（如移动或进食），则符合保险条款中关于脊髓内肿瘤导致瘫痪的保障条件。\"}\n",
        "{\"ID\": 6943, \"question\": \"不可抗力导致的延迟通知是否影响保险人的赔偿责任？\", \"answer\": \"不可抗力导致的延迟通知不会影响保险人的赔偿责任。根据保险条款的规定，因不可抗力导致的延迟通知不属于违反通知义务的行为，保险人仍应承担相应的赔偿责任。\"}\n",
        "{\"ID\": 6944, \"question\": \"如果被保险人在投保前已患有恶性肿瘤—重度，阳光人寿保险股份有限公司会怎么做？\", \"answer\": \"如果被保险人在投保前已患有恶性肿瘤—重度，阳光人寿保险股份有限公司将解除保险合同，不承担任何保险责任，并向投保人无息退还已交纳的保险费。\"}\n",
        "{\"ID\": 6945, \"question\": \"中国大地财产保险股份有限公司提供的个人意外伤害医疗保险产品名称是什么？\", \"answer\": \"中国大地财产保险股份有限公司提供的个人意外伤害医疗保险产品名称是中国大地财产保险股份有限公司附加个人意外伤害医疗保险（2023款，互联网专属）。\"}\n",
        "{\"ID\": 6946, \"question\": \"如果投保人选择了计划二、计划五或计划八之外的保障计划，保险人承担哪些保险责任？\", \"answer\": \"如果投保人选择了计划二、计划五或计划八之外的保障计划，保险人承担的保险责任包括住院医疗保险金和特殊门诊医疗保险金两项责任。这两项责任统称为医疗保险金。\"}\n",
        "{\"ID\": 6947, \"question\": \"人保I无忧终身重疾险尊享款是否承担严重肝豆状核变性（Wilson病）的保险责任？\", \"answer\": \"是的，人保I无忧终身重疾险尊享款承担严重肝豆状核变性（Wilson病）的保险责任。只要满足条款中关于诊断和治疗的要求，保险公司将按照合同约定承担相应的保险责任。\"}\n",
        "{\"ID\": 6948, \"question\": \"中国大地财产保险股份有限公司个人公共交通工具意外伤害保险（互联网专属）的报备文件编号是什么？\", \"answer\": \"中国大地财产保险股份有限公司个人公共交通工具意外伤害保险（互联网专属）的报备文件编号是C00001032312021123167963。\"}\n",
        "{\"ID\": 6949, \"question\": \"如何确诊严重脊髓血管病后遗症？\", \"answer\": \"严重脊髓血管病后遗症的确诊需要经过以下步骤：\\n\\n1. **专科医生诊断**：首先，患者需要由具有相应资质的专科医生进行诊断。通常，这类疾病由神经科医生进行诊断。\\n\\n2. **脊髓血管阻塞或破裂出血的证据**：医生会通过医学影像学检查（如MRI、CT扫描等）来确认脊髓血管阻塞或破裂出血的情况。\\n\\n3. **脊髓功能障碍的证据**：医生会评估患者的脊髓功能障碍，这通常包括神经系统的检查和评估。\\n\\n4. **180天的时间要求**：确诊后，患者需要在经过180天的治疗和观察后，仍存在自主生活能力完全丧失，无法独立完成六项基本日常生活活动中的三项或三项以上的条件。\\n\\n5. **日常生活活动能力评估**：六项基本日常生活活动（ADL）包括穿衣、进食、洗澡、如厕、转移和行动。医生会评估患者在上述活动中的能力，以确定是否满足“无法独立完成三项或三项以上”的条件。\\n\\n只有当所有这些条件都得到满足时，患者才能被确诊为严重脊髓血管病后遗症。\"}\n",
        "{\"ID\": 6950, \"question\": \"什么是太保私家车驾乘意外险中的驾驶意外？\", \"answer\": \"太保私家车驾乘意外险中的“驾驶意外”是指被保险人在驾驶非营运性质的机动车过程中，或者在为维护车辆继续运行（包括加油、加水、故障修理、换胎等）的临时停放过程中，在机动车车厢内遭受意外伤害的情况。这里的意外伤害是指以外来的、突发的、非本意的和非疾病的客观事件为直接且单独的原因致使身体受到的伤害。\"}\n",
        "{\"ID\": 6951, \"question\": \"保险公司在最终确定给付保险金的数额后会怎么做？\", \"answer\": \"保险公司在最终确定给付保险金的数额后，将根据与受益人达成的协议，在10日内履行给付保险金义务。如果在此期间未能及时履行给付义务，除了支付保险金外，还应当赔偿受益人因此受到的直接损失。\"}\n",
        "{\"ID\": 6952, \"question\": \"众安保险如何处理客户的个人信息以防止泄露、篡改、毁损、出售或提供给未授权的第三方？\", \"answer\": \"众安保险处理客户个人信息以防止泄露、篡改、毁损、出售或提供给未授权的第三方的措施包括：\\n\\n1. **授权访问**：仅在必要情形下，众安保险可能会授权其员工、合作伙伴、法律顾问、外部审计机构等第三方接触并使用客户的个人信息，这些第三方均需遵守相关保密协议。\\n\\n2. **遵守法律法规**：所有处理客户信息的人员及公司都必须遵守国家关于个人信息保护的有关法律法规，确保个人信息得到有效保护。\\n\\n3. **保密协议**：与处理客户信息的相关人员及公司签订保密协议，确保他们不会泄露、篡改、毁损、出售或提供给任何第三方。\\n\\n4. **未经同意不使用**：除上述用途外，众安保险不会将客户的个人信息用于任何未经客户同意的用途。\\n\\n5. **限制信息泄露**：除了业务合作伙伴、法律顾问、外部审计机构或按照法律规定、监管规定或司法裁决之外，众安保险不会将所接受的任何个人信息泄露、篡改、毁损、出售或者提供给任何第三方。\\n\\n通过这些措施，众安保险致力于确保客户的个人信息得到妥善保护，防止其被滥用或泄露。\"}\n",
        "{\"ID\": 6953, \"question\": \"如果被保险人有社会基本医疗保险或公费医疗身份，但未使用这些身份就诊并结算，卓越馨选医疗险2023版的赔付比例是多少？\", \"answer\": \"如果被保险人有社会基本医疗保险或公费医疗身份，但未以这些身份就诊并结算，卓越馨选医疗险2023版的赔付比例是应赔付金额的60%。\"}\n",
        "{\"ID\": 6954, \"question\": \"如何在支付宝查看和下载增多多·养老金保险产品的电子发票？\", \"answer\": \"在支付宝查看和下载增多多·养老金保险产品的电子发票，请按照以下步骤操作：\\n\\n1. 打开支付宝APP。\\n2. 进入“我的”页面，点击“发票管家”。\\n3. 在“我的发票”页面，找到与增多多·养老金保险产品相关的电子发票。\\n4. 点击该电子发票，进入查看详情页面。\\n5. 在详情页面，点击“下载”或“打印”按钮，即可下载电子发票。\\n\\n此外，您还可以通过以下方式获取电子发票：\\n\\n1. 访问太平人寿网上营业厅：http://life.cntaiping.com/eservice。\\n2. 注册并登录网上营业厅。\\n3. 在“电子账单”-“增值税电子发票”模块查询并下载电子发票。\"}\n",
        "{\"ID\": 6955, \"question\": \"如何诊断特发性肺纤维化？\", \"answer\": \"特发性肺纤维化的诊断通常需要以下步骤：\\n1. 临床症状和体征：患者出现呼吸困难、咳嗽咳痰、消瘦、乏力等症状，以及终末期可能出现的呼吸衰竭和右心衰竭体征。\\n2. 影像学检查：进行高分辨率CT（HRCT）检查，观察肺部是否有典型的蜂窝状改变。\\n3. 病理活检：通过外科肺活检获取肺组织样本，进行病理学检查，以证实是否存在典型的普通型间质性肺炎（UIP）。\\n\\n只有在影像学和病理学检查结果均符合特发性肺纤维化的诊断标准时，才能确诊为特发性肺纤维化。\"}\n",
        "{\"ID\": 6956, \"question\": \"大病无忧重疾险覆盖哪些类型的面部整形手术？\", \"answer\": \"大病无忧重疾险覆盖以下类型的面部整形手术：\\n1. 修复意外伤害或暴力袭击造成的面部毁损，且手术是在全身麻醉下由整形外科医生实施的。\\n2. 手术目的是修复严重损害或变形的面部形态和结构。\\n3. 手术未达到重度疾病“严重面部烧伤”的给付标准。\\n4. 手术必须在意外伤害后的180天内实施。\\n5. 意外伤害必须是由外在暴力引起，造成表面可视性伤口和面部骨结构损害，或面部皮肤三度或全层意外烧伤。\\n6. 意外伤害是造成面部毁损的直接和独立原因。\\n\\n需要注意的是，因面部外伤后遗留的线条状瘢痕及色素沉着而施行的手术不在保障范围内。此外，如果烧伤达到中度疾病“中度III度烧伤”、“中度面部烧伤”给付标准，保险人不再对本疾病承担轻度疾病保险责任。\"}\n",
        "{\"ID\": 6957, \"question\": \"保险合同在何种情况下会因为其他条款所列情况而终止效力？\", \"answer\": \"保险合同会因为以下几种情况下的其他条款所列情况而终止效力：\\n1. 保险合同中约定的保险事故未发生，但被保险人或受益人故意或重大过失导致保险事故虚假报告或夸大损失，保险公司有权解除合同。\\n2. 被保险人未按照合同约定履行如实告知义务，保险公司有权解除合同。\\n3. 被保险人、受益人或保险公司违反合同约定，造成合同无效或部分无效。\\n4. 保险合同约定的保险期间届满，但合同中未约定续保条款。\\n5. 保险合同约定的其他终止合同的情形。具体条款内容请参考保险合同全文。\"}\n",
        "{\"ID\": 6958, \"question\": \"投保人是否同意保险人对特定药品清单进行变更？\", \"answer\": \"是的，投保人在投保时已经同意保险人对特定药品清单进行变更。如果药品清单发生变更，保险公司会及时以书面形式或双方认可的其他形式通知投保人或被保险人。\"}\n",
        "{\"ID\": 6959, \"question\": \"哪些疾病不属于“恶性肿瘤——轻度”且不在保障范围内？\", \"answer\": \"不属于“恶性肿瘤——轻度”且不在保障范围内的疾病包括：\\n1. ICD-O-3肿瘤形态学编码属于0（良性肿瘤）、1（动态未定性肿瘤）、2（原位癌和非侵袭性癌）范畴的疾病，如原位癌、癌前病变、非浸润性癌、非侵袭性癌、肿瘤细胞未侵犯基底层、上皮内瘤变、细胞不典型性增生等。\\n2. 交界性肿瘤、交界恶性肿瘤、肿瘤低度恶性潜能、潜在低度恶性肿瘤等。\"}\n",
        "{\"ID\": 6960, \"question\": \"头臂动脉型多发性大动脉炎旁路移植手术的释义是否与条款第7.24条中约定的第34种重度疾病释义相同？\", \"answer\": \"是的，头臂动脉型多发性大动脉炎旁路移植手术的释义与条款第7.24条中约定的第34种重度疾病释义相同。这是因为保险条款中明确指出该手术的释义与本条款第7.24条“重度疾病”中约定的第34种重度疾病释义相同。\"}\n",
        "{\"ID\": 6961, \"question\": \"保险人在多长时间内退还未满期保费？\", \"answer\": \"保险人在收到投保人提供的解除合同所需文件和资料后，应在30日内退还未满期保费。\"}\n",
        "{\"ID\": 6962, \"question\": \"解决保稳盈 | 人保福寿年年(稳健)合同争议时，适用哪国的法律？\", \"answer\": \"解决保稳盈 | 人保福寿年年(稳健)合同争议时，适用中国法律。\"}\n",
        "{\"ID\": 6963, \"question\": \"如果保险合同持有人或被保险人不通知联系方式的变更，保险公司会如何处理？\", \"answer\": \"如果保险合同持有人或被保险人不通知联系方式的变更，保险公司将按照保险合同中载明的最后联系方式发送有关通知。即使这些通知未能送达持有人或被保险人，保险公司仍视为已送达，并据此执行相关操作，如通知保险金领取、保险合同终止等。因此，为了确保自身权益不受影响，建议持有人或被保险人在联系方式变更后及时通知保险公司。\"}\n",
        "{\"ID\": 6964, \"question\": \"如果投保人故意或因重大过失未如实告知，且这些信息足以影响保险人的决策，保险人有什么权利？\", \"answer\": \"如果投保人故意或因重大过失未如实告知，且这些信息足以影响保险人的决策，保险人有权解除合同或取消该被保险人资格。具体来说，如果投保人故意不履行如实告知义务，保险人对于合同解除前或该被保险人资格被取消前发生的保险事故，不承担赔偿或者给付保险金的责任，并不退还保险费。如果投保人因重大过失未履行如实告知义务，对保险事故的发生有严重影响，保险人对于合同解除前或该被保险人资格被取消前发生的保险事故，不承担赔偿或者给付保险金的责任，但应当退还保险费。\"}\n",
        "{\"ID\": 6965, \"question\": \"如果在等待期内被保险人因意外伤害被确诊患有疾病，保险公司承担什么保险责任？\", \"answer\": \"如果在等待期内被保险人因意外伤害被确诊患有疾病，保险公司将按照保险合同约定的保险责任承担相应的保险责任，不会受到等待期的限制。\"}\n",
        "{\"ID\": 6966, \"question\": \"哪一份文件中的出生日期被用来计算健康福终身重疾险的保险年龄？\", \"answer\": \"健康福终身重疾险的保险年龄计算依据是法定身份证明文件中记载的出生日期，通常情况下，这类文件包括但不限于身份证、户口本等。具体使用哪一份文件，需要根据保险合同中的约定或保险公司的要求来确定。\"}\n",
        "{\"ID\": 6967, \"question\": \"如果被保险人在接受整容手术、其他内外科手术或其他诊疗活动中发生医疗意外和医疗损害，保险公司是否承担赔偿责任？\", \"answer\": \"如果被保险人在接受整容手术、其他内外科手术或其他诊疗活动中发生医疗意外和医疗损害，保险公司不承担赔偿责任。\"}\n",
        "{\"ID\": 6968, \"question\": \"如果被保险人在保险合同成立后的2年内自杀，保险公司是否承担给付保险金的责任？\", \"answer\": \"如果被保险人在保险合同成立后的2年内自杀，并且自杀时为无民事行为能力人，保险公司将承担给付保险金的责任。但如果被保险人自杀时具有民事行为能力，保险公司则不承担给付保险金的责任。\"}\n",
        "{\"ID\": 6969, \"question\": \"在什么条件下境内旅行意外险会给付身故保险金？\", \"answer\": \"境内旅行意外险会在以下条件下给付身故保险金：\\n1. 被保险人在保险期间内，即自获得被保资格之日起至保险期限结束期间；\\n2. 被保险人在境内旅行期间遭受意外伤害或罹患疾病；\\n3. 被保险人的身故直接且单独由上述意外伤害或疾病导致；\\n4. 被保险人的身故发生在自遭受意外伤害或罹患疾病之日起的30天内（含30天）。\"}\n",
        "{\"ID\": 6970, \"question\": \"如果被保险人在保险责任开始承担的日期起的90日后首次罹患某种疾病，保险公司将如何处理？\", \"answer\": \"如果被保险人在保险责任开始承担的日期起的90日后首次罹患某种疾病，保险公司将按照以下步骤处理：\\n\\n1. 确认疾病：保险公司将核实被保险人罹患的疾病是否符合合同约定的疾病定义。\\n\\n2. 医疗证明：保险公司要求被保险人提供由认可的医院专科医生出具的疾病确诊证明。\\n\\n3. 保险责任：如果被保险人首次罹患的疾病符合合同约定的疾病定义，保险公司将按照合同约定承担相应的保险责任。\\n\\n4. 保险金给付：在确认疾病符合合同约定并完成所有必要的手续后，保险公司将按照合同约定向被保险人或其指定的受益人支付保险金。\\n\\n需要注意的是，如果被保险人在保险责任开始承担的日期起的90日内首次罹患某种疾病，保险公司将不承担保险责任，合同可能终止。此外，如果被保险人在投保前已罹患某种疾病，无论其罹患的部位与投保后罹患的部位是否相同，均不满足初次罹患的定义，保险公司也不承担保险责任。\"}\n",
        "{\"ID\": 6971, \"question\": \"如果因除投保人对被保险人的故意杀害或故意伤害之外的其他情形导致被保险人身故，保险合同会如何处理？\", \"answer\": \"如果因除投保人对被保险人的故意杀害或故意伤害之外的其他情形导致被保险人身故，保险合同将终止。根据保险条款，在这种情况下，保险公司会向您退还保险单的现金价值。这意味着，尽管保险合同终止，但您作为投保人仍能从保险公司那里获得一定数额的退款，这通常是基于您已缴纳的保险费和保险单的现金价值计算得出的。\"}\n",
        "{\"ID\": 6972, \"question\": \"轻度脑中风后遗症的诊断需要哪些影像学检查？\", \"answer\": \"轻度脑中风后遗症的诊断需要通过头颅断层扫描（CT）、核磁共振检查（MRI）等影像学检查来证实。这些检查能够帮助医生确定脑血管的病变情况，并判断是否导致了神经系统永久性的功能障碍。\"}\n",
        "{\"ID\": 6973, \"question\": \"投保人在哪里可以登录以申请退保？\", \"answer\": \"投保人可以在支付宝平台登录以申请退保。具体操作步骤为：登录支付宝，进入“蚂蚁保”应用，点击“我的”，在“全部保单”中找到需要退保的保单，然后点击“申请退保”并提交申请。\"}\n",
        "{\"ID\": 6974, \"question\": \"什么程度的面部烧伤会被健康福·终身重疾险(黑卡专享版)认定为严重面部烧伤？\", \"answer\": \"健康福·终身重疾险(黑卡专享版)将面部烧伤程度为III度，且烧伤面积达到面部表面积的80%或80%以上的情况认定为严重面部烧伤。\"}\n",
        "{\"ID\": 6975, \"question\": \"在众安健康宝贝少儿综合保障保险中，社保外疾病住院医疗保险金的赔付是如何计算的？\", \"answer\": \"在众安健康宝贝少儿综合保障保险中，社保外疾病住院医疗保险金的赔付计算方式如下：\\n\\n1. **等待期后**：只有在等待期结束后，被保险人因疾病住院治疗，才能触发社保外疾病住院医疗保险金的赔付。\\n\\n2. **超出社保范围**：仅对超出当地社保范围内的医疗费用进行赔付。\\n\\n3. **实际发生费用**：仅对被保险人住院期间实际发生的、必需且合理的医疗费用进行赔付。\\n\\n4. **扣除免赔额**：在赔付前，需要扣除合同约定的免赔额。\\n\\n5. **给付比例**：扣除免赔额后，剩余的医疗费用按照合同约定的给付比例进行赔付。\\n\\n6. **累计给付金额**：保险人累计给付金额以合同约定的社保外疾病住院医疗保险金额为限。\\n\\n7. **合同满期后的责任**：如果累计给付金额达到合同约定的金额，保险责任终止。但如果被保险人在合同满期日时未结束本次住院治疗，保险人将继续承担因本次住院发生的、最高不超过合同满期日后30日内的符合上述规定的住院医疗费用。\\n\\n总结来说，社保外疾病住院医疗保险金的赔付计算是基于实际发生的、超出社保范围的医疗费用，扣除免赔额后，按照合同约定的比例和金额进行赔付。\"}\n",
        "{\"ID\": 6976, \"question\": \"中度脑桥中央髓鞘溶解症是什么类型的疾病？\", \"answer\": \"中度脑桥中央髓鞘溶解症是一种代谢性脱髓鞘疾病。\"}\n",
        "{\"ID\": 6977, \"question\": \"系统性硬化病（硬皮病）对肾脏的影响需要达到哪些标准才算满足诊断条件？\", \"answer\": \"系统性硬化病（硬皮病）对肾脏的影响需要达到以下标准之一才能满足诊断条件：\\n1. 已造成肾脏损害；\\n2. 出现肾功能衰竭。\"}\n",
        "{\"ID\": 6978, \"question\": \"投保人和保险公司在投保时约定的保险费交付方式会在哪里载明？\", \"answer\": \"投保人和保险公司在投保时约定的保险费交付方式会在保险单上载明。具体来说，这一信息通常会在保险单的条款部分或者特别约定部分体现，以便投保人能够清楚地了解和遵守保险费的缴纳方式。\"}\n",
        "{\"ID\": 6979, \"question\": \"同佑e生(臻享版)终身重疾险合同中规定了哪些条件用于判断'慢性肝功能衰竭'？\", \"answer\": \"同佑e生(臻享版)终身重疾险合同中规定用于判断'慢性肝功能衰竭'的条件包括以下四个：\\n1. 持续性黄疸；\\n2. 腹水；\\n3. 肝性脑病；\\n4. 充血性脾肿大伴脾功能亢进或食管胃底静脉曲张。\\n\\n同时，条款还指出因酗酒或药物滥用导致的肝功能衰竭不在保障范围内，并且本合同仅对“病毒性肝炎导致的肝硬化”和“慢性肝功能衰竭”中的一项承担保险责任，承担其中一项轻症疾病保险责任后，另一项轻症疾病的保险责任终止。\"}\n",
        "{\"ID\": 6980, \"question\": \"什么是众安无限爱·癌症特药保险中的'符合通常惯例'的费用？\", \"answer\": \"\\n众安无限爱·癌症特药保险中的“符合通常惯例”的费用，指的是保险公司在支付癌症特药相关费用时，会依据以下标准进行审核：\\n1. 接受医疗服务所在地的通行治疗规范：即当地普遍认可的治疗癌症的方法和流程。\\n2. 通行治疗方法：指在医疗实践中广泛采用的治疗癌症的方法。\\n3. 平均医疗费用价格水平：即当地同类医疗服务的平均费用。\\n\\n如果被保险人认为保险公司的审核结果不符合实际情况，可以要求由双方认同的权威医学机构或权威医学专家进行审核鉴定。这样可以确保费用的支付既合理又公正。\"}\n",
        "{\"ID\": 6981, \"question\": \"当核保通过后，支付保险费会产生什么后果？\", \"answer\": \"\\n当核保通过后，支付保险费会产生以下后果：\\n1. 保险合同成立：支付保险费后，保险合同正式生效，投保人将获得保险合同约定的保障。\\n2. 享有保险权益：支付保险费后，投保人将享有保险合同中约定的各项保险权益，如住院医疗费用报销、意外伤害赔偿等。\\n3. 保障期限：保险合同生效后，保障期限开始计算，直至保险合同到期或保险责任终止。\\n4. 保险理赔：在保险期间内，若发生保险合同约定的保险事故，投保人可按照保险条款的规定申请理赔，众安保险将根据合同约定进行赔付。\"}\n",
        "{\"ID\": 6982, \"question\": \"心肌炎并发症需要满足哪些条件才被认定？\", \"answer\": \"心肌炎并发症被认定需要满足以下条件：\\n1. 必须由保险人认可的医疗机构专科医生确诊患有手足口病。\\n2. 必须伴有心肌炎并发症。\\n3. 心肌炎并发症导致心脏扩大或心力衰竭的临床表现。\\n4. 心肌炎并发症需要有相应的实验室检查证据来支持诊断。\"}\n",
        "{\"ID\": 6983, \"question\": \"在众安重疾险合同中，是否可以指定除被保险人本人之外的其他人作为首次重大疾病保险金的受益人？\", \"answer\": \"在众安重疾险合同中，是否可以指定除被保险人本人之外的其他人作为首次重大疾病保险金的受益人，需要查看具体的保险合同条款。如果合同中有关于受益人指定的相关条款，并且该条款允许被保险人指定其他人为受益人，那么被保险人可以按照合同规定进行指定。如果合同中没有此类条款或者条款不允许，那么被保险人可能无法指定除本人之外的其他人作为受益人。建议您查阅保险合同的具体条款，或者咨询众安保险的客服人员以获取准确信息。\"}\n",
        "{\"ID\": 6984, \"question\": \"人保I无忧终身重疾险尊享款的具体保障范围是如何确定的？\", \"answer\": \"\\n人保I无忧终身重疾险尊享款的具体保障范围是通过以下方式确定的：\\n\\n- 遵循中国保险行业协会制定的《重大疾病保险的疾病定义使用规范（2020年修订版）》中的疾病定义，特别是标记“*”号的3种轻症疾病。\\n- 根据公司自身的业务需求和市场调研，增加了一些特定的疾病保障，这些疾病在保险条款中有详细的具体定义。\\n- 确保所有保障的疾病名称和具体定义都在保险条款中明确列出，以便消费者了解和选择适合自己的保险产品。\"}\n",
        "{\"ID\": 6985, \"question\": \"中度脑炎或脑膜炎后遗症的给付标准与严重脑炎后遗症或严重脑膜炎后遗症的给付标准有什么区别？\", \"answer\": \"中度脑炎或脑膜炎后遗症的给付标准与严重脑炎后遗症或严重脑膜炎后遗症的主要区别在于：\\n\\n1. 神经系统功能障碍的程度：中度脑炎或脑膜炎后遗症要求在疾病确诊180天后，仍存在自主活动能力完全丧失，经鉴定无法独立完成六项基本日常生活活动中的两项或以上；而严重脑炎后遗症或严重脑膜炎后遗症则要求在疾病确诊180天后，仍存在自主活动能力完全丧失，经鉴定无法独立完成六项基本日常生活活动中的三项或以上。\\n\\n2. 给付标准：中度脑炎或脑膜炎后遗症的给付标准低于严重脑炎后遗症或严重脑膜炎后遗症。具体给付比例和金额以保险合同为准。\\n\\n总结：中度脑炎或脑膜炎后遗症的给付标准相对较低，主要因为其神经系统功能障碍的程度较严重脑炎后遗症或严重脑膜炎后遗症轻。\"}\n",
        "{\"ID\": 6986, \"question\": \"保险费需要按时支付吗？\", \"answer\": \"是的，保险费需要按时支付。如果您不及时缴费，可能会造成合同中止，从而影响到您的保险权益。请务必按照合同约定的时间节点，足额缴纳保险费。\"}\n",
        "{\"ID\": 6987, \"question\": \"由于什么原因导致的急性坏死性胰腺炎不在'佳人无忧·女性重疾险'的保障范围内？\", \"answer\": \"导致急性坏死性胰腺炎不在“佳人无忧·女性重疾险”保障范围内的原因是，该疾病是由于酗酒或饮酒过量引起的。保险条款中明确排除了因酗酒或饮酒过量导致的急性坏死性胰腺炎的保障。\"}\n",
        "{\"ID\": 6988, \"question\": \"保险费应该何时交纳？\", \"answer\": \"保险费的具体交纳时间通常会在保险合同中明确规定。请您查阅您的保险合同或咨询保险公司客服，以获取准确的保险费交纳时间。通常情况下，保险费可能需要在合同生效日之前一次性交纳，或者按照合同约定的分期交纳方式在指定的时间内完成交纳。\"}\n",
        "{\"ID\": 6989, \"question\": \"在申请中老年人综合意外险的身故保险金时，如果被保险人被宣告死亡，需要提供哪些额外的文件？\", \"answer\": \"在申请中老年人综合意外险的身故保险金时，如果被保险人被宣告死亡，需要额外提供人民法院出具的宣告死亡证明文件。\"}\n",
        "{\"ID\": 6990, \"question\": \"如何在支付宝上报案进行理赔？\", \"answer\": \"在支付宝上报案进行理赔的具体步骤如下：\\n\\n1. 打开支付宝APP。\\n2. 在首页搜索栏中输入“泰在线保险服务小程序”进行搜索。\\n3. 在搜索结果中找到“泰在线保险服务小程序”，点击进入。\\n4. 进入小程序后，根据提示进行登录或注册，确保您已经关联了您的保险账户。\\n5. 登录后，找到理赔相关的功能模块，点击进入。\\n6. 根据提示填写报案信息，包括被保人信息、事故发生时间、事故原因等。\\n7. 上传必要的理赔申请资料，如医疗费用单据、诊断证明等。\\n8. 提交理赔申请后，系统会显示申请状态，您可以通过小程序查看理赔进度。\\n9. 理赔人员收到资料后，会对资料进行审核和调查。\\n10. 审核通过后，赔款将直接支付至被保人或受益人指定的账户。\\n\\n请确保在报案时提供准确的信息和完整的资料，以便理赔流程能够顺利进行。\"}\n",
        "{\"ID\": 6991, \"question\": \"众安病无忧防癌医疗险初次确诊罹患恶性肿瘤的严重程度是怎样的？\", \"answer\": \"众安病无忧防癌医疗险中，初次确诊罹患恶性肿瘤的严重程度是指达到恶性肿瘤一一重度的标准。这意味着被保险人初次确诊的恶性肿瘤已经达到了较为严重的程度，通常是指那些具有较高侵袭性和危害性的恶性肿瘤。\"}\n",
        "{\"ID\": 6992, \"question\": \"在儿科方面，哪些疾病或情况下的患者仍可以投保健康福·少儿重疾险？\", \"answer\": \"在儿科方面，以下疾病或情况的患者仍可以投保健康福·少儿重疾险：\\n1. 先天性多指或兔唇；\\n2. 手足口病且已痊愈；\\n3. 咽峡炎且已痊愈；\\n4. 疫苗反应且已痊愈。\"}\n",
        "{\"ID\": 6993, \"question\": \"心包膜切除术是因为什么疾病而进行的？\", \"answer\": \"心包膜切除术通常是因为心包膜疾病而进行的。心包膜是包裹心脏的一层薄膜，如果出现疾病，如心包炎（心包膜的炎症）、心包积液（心包膜内积聚液体）或其他影响心包膜的健康问题，医生可能会认为进行包膜切除术是医学上必需的。具体的疾病类型需要根据患者的具体情况来确定。\"}\n",
        "{\"ID\": 6994, \"question\": \"被保险人从事高风险运动或活动时发生的事故，保险公司是否负责赔偿？\", \"answer\": \"被保险人从事高风险运动或活动时发生的事故，保险公司不负责赔偿。\"}\n",
        "{\"ID\": 6995, \"question\": \"在保险合同生效前发生的保险事故，保险公司是否承担赔偿责任？\", \"answer\": \"在保险合同生效前发生的保险事故，保险公司不承担赔偿责任。\"}\n",
        "{\"ID\": 6996, \"question\": \"中华人民共和国政府主管部门还认可哪些其他身份证明文件？\", \"answer\": \"中华人民共和国政府主管部门认可的其他身份证明文件可能包括但不限于以下几种：\\n1. 军官证、文职证、士兵证等军人身份证明；\\n2. 外国人永久居留证；\\n3. 驾驶证；\\n4. 护照；\\n5. 居民户口簿（非身份证件）；\\n6. 出生证明；\\n7. 结婚证、离婚证等婚姻证明；\\n8. 死亡证明；\\n9. 其他由政府主管部门颁发或认可的身份证明文件。\\n\\n需要注意的是，具体认可的身份证明文件可能会随着政策的变化而有所不同，建议在办理相关手续时，以官方最新规定为准。\"}\n",
        "{\"ID\": 6997, \"question\": \"如果被保险人或其指示的第三人实施了故意、恶意、违法、犯罪或不正当行为，保险公司是否承担赔偿责任？\", \"answer\": \"如果被保险人或其指示的第三人实施了故意、恶意、违法、犯罪或不正当行为，保险公司不承担赔偿责任。\"}\n",
        "{\"ID\": 6998, \"question\": \"确诊严重运动神经元病需要哪些条件？\", \"answer\": \"确诊严重运动神经元病需要满足以下条件之一：\\n1. 严重咀嚼吞咽功能障碍；\\n2. 呼吸肌麻痹导致严重呼吸困难，且已经持续使用呼吸机7天（含）以上；\\n3. 自主生活能力完全丧失，无法独立完成六项基本日常生活活动中的三项或三项以上。同时，确诊需由相关专科医生进行。\"}\n",
        "{\"ID\": 6999, \"question\": \"中度进行性核上性麻痹在保险合同中如何界定？\", \"answer\": \"\\n在“同佑e生(臻享版)终身重疾险”的保险合同中，中度进行性核上性麻痹的界定为：该疾病需经专科医生明确诊断，且患者自主生活能力严重丧失，无法独立完成六项基本日常生活活动中的两项。但此疾病未达到合同所指的重大疾病“进行性核上性麻痹”或“瘫痪”的给付标准。\"}\n"
      ]
    },
    {
      "cell_type": "markdown",
      "metadata": {
        "id": "5fCEDCU_qrC0"
      },
      "source": [
        "<div class=\"markdown-google-sans\">\n",
        "  <h2>What is Colab?</h2>\n",
        "</div>\n",
        "\n",
        "Colab, or \"Colaboratory\", allows you to write and execute Python in your browser, with\n",
        "- Zero configuration required\n",
        "- Access to GPUs free of charge\n",
        "- Easy sharing\n",
        "\n",
        "Whether you're a **student**, a **data scientist** or an **AI researcher**, Colab can make your work easier. Watch [Introduction to Colab](https://www.youtube.com/watch?v=inN8seMm7UI) or [Colab Features You May Have Missed](https://www.youtube.com/watch?v=rNgswRZ2C1Y) to learn more, or just get started below!"
      ]
    },
    {
      "cell_type": "markdown",
      "metadata": {
        "id": "GJBs_flRovLc"
      },
      "source": [
        "<div class=\"markdown-google-sans\">\n",
        "\n",
        "## **Getting started**\n",
        "</div>\n",
        "\n",
        "The document you are reading is not a static web page, but an interactive environment called a **Colab notebook** that lets you write and execute code.\n",
        "\n",
        "For example, here is a **code cell** with a short Python script that computes a value, stores it in a variable, and prints the result:"
      ]
    },
    {
      "cell_type": "code",
      "execution_count": null,
      "metadata": {
        "id": "gJr_9dXGpJ05",
        "outputId": "beb4aaca-6eac-4b30-f2ff-ea4308968122"
      },
      "outputs": [
        {
          "data": {
            "text/plain": [
              "86400"
            ]
          },
          "execution_count": 0,
          "metadata": {},
          "output_type": "execute_result"
        }
      ],
      "source": [
        "seconds_in_a_day = 24 * 60 * 60\n",
        "seconds_in_a_day"
      ]
    },
    {
      "cell_type": "markdown",
      "metadata": {
        "id": "2fhs6GZ4qFMx"
      },
      "source": [
        "To execute the code in the above cell, select it with a click and then either press the play button to the left of the code, or use the keyboard shortcut \"Command/Ctrl+Enter\". To edit the code, just click the cell and start editing.\n",
        "\n",
        "Variables that you define in one cell can later be used in other cells:"
      ]
    },
    {
      "cell_type": "code",
      "execution_count": null,
      "metadata": {
        "id": "-gE-Ez1qtyIA",
        "outputId": "e8f0c2b1-3c1e-4476-f8c2-d8f31cdb5e75"
      },
      "outputs": [
        {
          "data": {
            "text/plain": [
              "604800"
            ]
          },
          "execution_count": 0,
          "metadata": {},
          "output_type": "execute_result"
        }
      ],
      "source": [
        "seconds_in_a_week = 7 * seconds_in_a_day\n",
        "seconds_in_a_week"
      ]
    },
    {
      "cell_type": "markdown",
      "metadata": {
        "id": "lSrWNr3MuFUS"
      },
      "source": [
        "Colab notebooks allow you to combine **executable code** and **rich text** in a single document, along with **images**, **HTML**, **LaTeX** and more. When you create your own Colab notebooks, they are stored in your Google Drive account. You can easily share your Colab notebooks with co-workers or friends, allowing them to comment on your notebooks or even edit them. To learn more, see [Overview of Colab](/notebooks/basic_features_overview.ipynb). To create a new Colab notebook you can use the File menu above, or use the following link: [create a new Colab notebook](http://colab.research.google.com#create=true).\n",
        "\n",
        "Colab notebooks are Jupyter notebooks that are hosted by Colab. To learn more about the Jupyter project, see [jupyter.org](https://www.jupyter.org)."
      ]
    },
    {
      "cell_type": "markdown",
      "metadata": {
        "id": "UdRyKR44dcNI"
      },
      "source": [
        "<div class=\"markdown-google-sans\">\n",
        "\n",
        "## Data science\n",
        "</div>\n",
        "\n",
        "With Colab you can harness the full power of popular Python libraries to analyze and visualize data. The code cell below uses **numpy** to generate some random data, and uses **matplotlib** to visualize it. To edit the code, just click the cell and start editing."
      ]
    },
    {
      "cell_type": "markdown",
      "metadata": {
        "id": "4_kCnsPUqS6o"
      },
      "source": [
        "You can import your own data into Colab notebooks from your Google Drive account, including from spreadsheets, as well as from Github and many other sources. To learn more about importing data, and how Colab can be used for data science, see the links below under [Working with Data](#working-with-data)."
      ]
    },
    {
      "cell_type": "code",
      "execution_count": null,
      "metadata": {
        "colab": {
          "height": 249
        },
        "id": "C4HZx7Gndbrh",
        "outputId": "65838ba2-0ea9-41b7-e3f9-a725be449d3b"
      },
      "outputs": [
        {
          "data": {
            "text/markdown": [
              "![Sample Visualization](data:image/png;base64,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)"
            ],
            "text/plain": [
              "<IPython.core.display.Markdown object>"
            ]
          },
          "metadata": {},
          "output_type": "display_data"
        }
      ],
      "source": [
        "import numpy as np\n",
        "import IPython.display as display\n",
        "from matplotlib import pyplot as plt\n",
        "import io\n",
        "import base64\n",
        "\n",
        "ys = 200 + np.random.randn(100)\n",
        "x = [x for x in range(len(ys))]\n",
        "\n",
        "fig = plt.figure(figsize=(4, 3), facecolor='w')\n",
        "plt.plot(x, ys, '-')\n",
        "plt.fill_between(x, ys, 195, where=(ys > 195), facecolor='g', alpha=0.6)\n",
        "plt.title(\"Sample Visualization\", fontsize=10)\n",
        "\n",
        "data = io.BytesIO()\n",
        "plt.savefig(data)\n",
        "image = F\"data:image/png;base64,{base64.b64encode(data.getvalue()).decode()}\"\n",
        "alt = \"Sample Visualization\"\n",
        "display.display(display.Markdown(F\"\"\"![{alt}]({image})\"\"\"))\n",
        "plt.close(fig)"
      ]
    },
    {
      "cell_type": "markdown",
      "metadata": {
        "id": "VYV91hbKwP2J"
      },
      "source": [
        "Colab notebooks execute code on Google's cloud servers, meaning you can leverage the power of Google hardware, including [GPUs and TPUs](#using-accelerated-hardware), regardless of the power of your machine. All you need is a browser.\n",
        "\n",
        "For example, if you find yourself waiting for **pandas** code to finish running and want to go faster, you can switch to a GPU Runtime and use libraries like [RAPIDS cuDF](https://rapids.ai/cudf-pandas) that provide zero-code-change acceleration."
      ]
    },
    {
      "cell_type": "markdown",
      "metadata": {
        "id": "vwnNlNIEwoZ8"
      },
      "source": [
        "To learn more about accelerating pandas on Colab, see the [10 minute guide](https://colab.research.google.com/github/rapidsai-community/showcase/blob/main/getting_started_tutorials/cudf_pandas_colab_demo.ipynb) or\n",
        " [US stock market data analysis demo](https://colab.research.google.com/github/rapidsai-community/showcase/blob/main/getting_started_tutorials/cudf_pandas_stocks_demo.ipynb)."
      ]
    },
    {
      "cell_type": "markdown",
      "metadata": {
        "id": "OwuxHmxllTwN"
      },
      "source": [
        "<div class=\"markdown-google-sans\">\n",
        "\n",
        "## Machine learning\n",
        "</div>\n",
        "\n",
        "With Colab you can import an image dataset, train an image classifier on it, and evaluate the model, all in just [a few lines of code](https://colab.research.google.com/github/tensorflow/docs/blob/master/site/en/tutorials/quickstart/beginner.ipynb)."
      ]
    },
    {
      "cell_type": "markdown",
      "metadata": {
        "id": "ufxBm1yRnruN"
      },
      "source": [
        "Colab is used extensively in the machine learning community with applications including:\n",
        "- Getting started with TensorFlow\n",
        "- Developing and training neural networks\n",
        "- Experimenting with TPUs\n",
        "- Disseminating AI research\n",
        "- Creating tutorials\n",
        "\n",
        "To see sample Colab notebooks that demonstrate machine learning applications, see the [machine learning examples](#machine-learning-examples) below."
      ]
    },
    {
      "cell_type": "markdown",
      "metadata": {
        "id": "-Rh3-Vt9Nev9"
      },
      "source": [
        "<div class=\"markdown-google-sans\">\n",
        "\n",
        "## More Resources\n",
        "\n",
        "### Working with Notebooks in Colab\n",
        "\n",
        "</div>\n",
        "\n",
        "- [Overview of Colab](/notebooks/basic_features_overview.ipynb)\n",
        "- [Guide to Markdown](/notebooks/markdown_guide.ipynb)\n",
        "- [Importing libraries and installing dependencies](/notebooks/snippets/importing_libraries.ipynb)\n",
        "- [Saving and loading notebooks in GitHub](https://colab.research.google.com/github/googlecolab/colabtools/blob/main/notebooks/colab-github-demo.ipynb)\n",
        "- [Interactive forms](/notebooks/forms.ipynb)\n",
        "- [Interactive widgets](/notebooks/widgets.ipynb)\n",
        "\n",
        "<div class=\"markdown-google-sans\">\n",
        "\n",
        "<a name=\"working-with-data\"></a>\n",
        "### Working with Data\n",
        "</div>\n",
        "\n",
        "- [Loading data: Drive, Sheets, and Google Cloud Storage](/notebooks/io.ipynb)\n",
        "- [Charts: visualizing data](/notebooks/charts.ipynb)\n",
        "- [Getting started with BigQuery](/notebooks/bigquery.ipynb)\n",
        "\n",
        "<div class=\"markdown-google-sans\">\n",
        "\n",
        "### Machine Learning Crash Course\n",
        "\n",
        "<div>\n",
        "\n",
        "These are a few of the notebooks from Google's online Machine Learning course. See the [full course website](https://developers.google.com/machine-learning/crash-course/) for more.\n",
        "- [Intro to Pandas DataFrame](https://colab.research.google.com/github/google/eng-edu/blob/main/ml/cc/exercises/pandas_dataframe_ultraquick_tutorial.ipynb)\n",
        "- [Intro to RAPIDS cuDF to accelerate pandas](https://nvda.ws/rapids-cudf)\n",
        "- [Linear regression with tf.keras using synthetic data](https://colab.research.google.com/github/google/eng-edu/blob/main/ml/cc/exercises/linear_regression_with_synthetic_data.ipynb)\n",
        "\n",
        "<div class=\"markdown-google-sans\">\n",
        "\n",
        "<a name=\"using-accelerated-hardware\"></a>\n",
        "### Using Accelerated Hardware\n",
        "</div>\n",
        "\n",
        "- [TensorFlow with GPUs](/notebooks/gpu.ipynb)\n",
        "- [TensorFlow with TPUs](/notebooks/tpu.ipynb)"
      ]
    },
    {
      "cell_type": "markdown",
      "metadata": {
        "id": "P-H6Lw1vyNNd"
      },
      "source": [
        "<div class=\"markdown-google-sans\">\n",
        "\n",
        "<a name=\"machine-learning-examples\"></a>\n",
        "\n",
        "### Featured examples\n",
        "\n",
        "</div>\n",
        "\n",
        "- [Retraining an Image Classifier](https://tensorflow.org/hub/tutorials/tf2_image_retraining): Build a Keras model on top of a pre-trained image classifier to distinguish flowers.\n",
        "- [Text Classification](https://tensorflow.org/hub/tutorials/tf2_text_classification): Classify IMDB movie reviews as either *positive* or *negative*.\n",
        "- [Style Transfer](https://tensorflow.org/hub/tutorials/tf2_arbitrary_image_stylization): Use deep learning to transfer style between images.\n",
        "- [Multilingual Universal Sentence Encoder Q&A](https://tensorflow.org/hub/tutorials/retrieval_with_tf_hub_universal_encoder_qa): Use a machine learning model to answer questions from the SQuAD dataset.\n",
        "- [Video Interpolation](https://tensorflow.org/hub/tutorials/tweening_conv3d): Predict what happened in a video between the first and the last frame.\n"
      ]
    }
  ],
  "metadata": {
    "colab": {
      "name": "Welcome To Colab",
      "toc_visible": true,
      "provenance": [],
      "include_colab_link": true
    },
    "kernelspec": {
      "display_name": "Python 3",
      "name": "python3"
    }
  },
  "nbformat": 4,
  "nbformat_minor": 0
}