{
  "cells": [
    {
      "cell_type": "markdown",
      "metadata": {
        "id": "view-in-github",
        "colab_type": "text"
      },
      "source": [
        "<a href=\"https://colab.research.google.com/github/tx1103mark/bigscience/blob/master/glm3.ipynb\" target=\"_parent\"><img src=\"https://colab.research.google.com/assets/colab-badge.svg\" alt=\"Open In Colab\"/></a>"
      ]
    },
    {
      "cell_type": "markdown",
      "metadata": {
        "id": "Wf5KrEb6vrkR"
      },
      "source": [
        "<div class=\"markdown-google-sans\">\n",
        "  <h1>Welcome to Colab!</h1>\n",
        "</div>\n",
        "\n",
        "<div class=\"markdown-google-sans\">\n",
        "  <h2>Explore the Gemini API</h2>\n",
        "  <p>The Gemini API gives you access to Gemini models created by Google DeepMind. Gemini models are built from the ground up to be multimodal, so you can reason seamlessly across text, images, code, and audio.\n",
        "  </p>\n",
        "  <strong>How to get started</strong>\n",
        "    <ol>\n",
        "      <li>Go to <a href=\"https://aistudio.google.com/\">Google AI Studio</a> and log in with your Google account.</li>\n",
        "      <li><a href=\"https://aistudio.google.com/app/apikey\">Create an API key</a>.</li>\n",
        "      <li>Use a quickstart for <a href=\"https://colab.research.google.com/github/google-gemini/cookbook/blob/main/quickstarts/Prompting.ipynb\">Python</a>, or call the REST API using <a href=\"https://colab.research.google.com/github/google-gemini/cookbook/blob/main/quickstarts/rest/Prompting_REST.ipynb\">curl</a>.</li>\n",
        "      </ol>\n",
        "  <strong>Explore use cases</strong>\n",
        "    <ul>\n",
        "      <li><a href=\"https://colab.research.google.com/github/google-gemini/cookbook/blob/main/examples/Market_a_Jet_Backpack.ipynb\">Create a marketing campaign</a></li>\n",
        "      <li><a href=\"https://colab.research.google.com/github/google-gemini/cookbook/blob/main/quickstarts/Audio.ipynb\">Analyze audio recordings</a></li>\n",
        "      <li><a href=\"https://colab.research.google.com/github/google-gemini/cookbook/blob/main/quickstarts/System_instructions.ipynb\">Use System instructions in chat</a></li>\n",
        "    </ul>\n",
        "  <p>To learn more, check out the <a href=\"https://github.com/google-gemini/cookbook\">Gemini cookbook</a> or visit the <a href=\"https://ai.google.dev/docs/\">Gemini API documentation</a>.\n",
        "  </p>\n",
        "</div>\n"
      ]
    },
    {
      "cell_type": "code",
      "execution_count": null,
      "metadata": {
        "id": "zwFnJsE6vjf8"
      },
      "outputs": [],
      "source": [
        "{\"ID\": 6200, \"question\": \"如果保单年度的起始月份没有对应的同一日，应该如何确定保单年度的结束日期？\", \"answer\": \"如果保单年度的起始月份没有对应的同一日，保单年度的结束日期应该以该月最后一日为对应日。例如，如果保单年度的起始日是2月15日，而2月没有15日，那么保单年度的结束日期就是2月的最后一天。这样的规定是为了确保保单年度的起始和结束日期能够准确对应，便于计算保险费用和保险金的领取时间。\"}\n",
        "{\"ID\": 6201, \"question\": \"保险公司在什么情况下会根据法律法规或监管规定共享客户的个人信息？\", \"answer\": \"\\n根据您提供的保险条款，保险公司会在以下情况下根据法律法规或监管规定共享客户的个人信息：\\n\\n1. **网络服务实名制管理要求**：为了确保服务的连续性和真实性，保险公司需要将客户的身份信息（如姓名、证件类型、证件号、手机号、地理位置）提交给政府主管部门或其指定的相关机构进行核验。\\n\\n2. **金融监管机构相关规定**：根据金融监管机构的规定，保险公司可能需要共享客户的个人信息以确保合规性。\\n\\n3. **法律法规的强制性要求**：如果法律法规有明确要求，保险公司必须按照规定共享客户的个人信息。\\n\\n4. **保险监管机构的规定**：保险行业协会或监管机构可能要求保险公司共享特定信息，以确保行业规范和监管要求得到遵守。\\n\\n这些共享行为旨在确保客户能够获得连续、真实的服务，同时遵守相关法律法规和监管要求。保险公司会确保在共享信息时遵守隐私政策和保密协议，并采取有效措施保护客户个人信息的安全。\"}\n",
        "{\"ID\": 6202, \"question\": \"如果被保险人的损失已从其他途径获得医疗费用赔偿，保险人的赔偿责任如何调整？\", \"answer\": \"如果被保险人的损失已从其他途径获得医疗费用赔偿，保险人的赔偿责任将按照以下情况调整：\\n\\n1. 若被保险人以参加社会医疗保险身份投保，且已从社会医疗保险、公费医疗、其他商业性费用补偿型医疗保险、其他政府机构或社会福利机构、其他责任方获得医疗费用补偿，保险人将按照以下公式给付保险金：意外伤害医疗保险金=（被保险人实际支出的符合本附加险合同约定的医疗费用-已获得的医疗费用补偿-免赔额）×赔付比例。\\n\\n2. 若被保险人以未参加社会医疗保险身份投保，且未从社会医疗保险、公费医疗、其他商业性费用补偿型医疗保险、其他政府机构或社会福利机构、其他责任方获得医疗费用补偿，保险人将按照以下公式给付保险金：意外伤害医疗保险金=（被保险人实际支出的符合本附加险合同约定的医疗费用-免赔额）×赔付比例。\\n\\n3. 若被保险人以参加社会医疗保险身份投保，但未以参加社会医疗保险身份就诊并结算或结算金额为0的，保险人将按照以下公式给付保险金：意外伤害医疗保险金=（被保险人实际支出的符合本附加险合同约定的医疗费用-已获得的医疗费用补偿-免赔额）×赔付比例。\\n\\n在上述情况下，保险人将在保险合同对应的保险金额限额内，仅承担被保险人除前述其他赔偿额之外剩余部分的赔偿责任。\"}\n",
        "{\"ID\": 6203, \"question\": \"疾病或外伤所致智力障碍的释义是否与健康福·少儿终身重疾险条款中第92种重度疾病的定义相同？\", \"answer\": \"是的，疾病或外伤所致智力障碍的释义与健康福·少儿终身重疾险条款中第92种重度疾病的定义相同。\"}\n",
        "{\"ID\": 6204, \"question\": \"诊断路易体痴呆需要哪些类型的医学证实？\", \"answer\": \"诊断路易体痴呆需要以下类型的医学证实：\\n1. 临床诊断：由专业医生根据患者的症状、病史和体格检查结果进行临床诊断。\\n2. 实验室检查：包括血液检查、脑脊液检查等，以排除其他可能的疾病。\\n3. 影像学检查：如脑部CT、MRI等，以观察脑部结构变化，帮助确诊。\\n4. 病理检查：通过脑组织活检，观察路易体的病理特征，这是确诊路易体痴呆的金标准。\"}\n",
        "{\"ID\": 6205, \"question\": \"太平如意·终身重疾险中提到的轻症疾病包括哪些项目？\", \"answer\": \"太平如意·终身重疾险中提到的轻症疾病包括以下项目：\\n1. 极早期恶性肿瘤或恶性病变\\n2. 轻度脑中风\\n3. 轻度心肌梗死\\n4. 单耳失聪\\n5. 皮肤癌\\n6. 轻度阿尔茨海默病\\n7. 轻度帕金森病\\n8. 轻度重症肌无力\\n9. 早期类风湿性关节炎\\n10. 早期肝硬化\\n11. 早期慢性肾衰竭\\n12. 早期系统性红斑狼疮\\n13. 早期甲状腺功能减退症\\n14. 早期糖尿病\\n15. 早期高血压\\n16. 早期高脂血症\\n17. 早期肥胖症\\n18. 早期抑郁症\\n19. 早期焦虑症\\n20. 早期强迫症\\n\\n以上是根据《重大疾病保险的疾病定义使用规范（2020 年修订版）》中列明的轻度疾病，具体条款以保险合同为准。\"}\n",
        "{\"ID\": 6206, \"question\": \"严重结核性脑膜炎会对患者的视力和面部神经有哪些影响？\", \"answer\": \"严重结核性脑膜炎会对患者的视力产生减退的影响，可能导致患者看不清物体。同时，患者可能会出现复视现象，即看一个物体时出现两个影像。此外，该疾病还可能导致面神经麻痹，表现为面部肌肉无力，可能导致面部表情不自然或一侧面部瘫痪。\"}\n",
        "{\"ID\": 6207, \"question\": \"保险人如何计算超过免赔额的目录外必需且合理的医疗费用的保险金？\", \"answer\": \"当被保险人从任何其他途径已获得的医疗费用补偿金额（不包含社会基本医疗保险、公费医疗、大病保险、医疗救助已补偿金额）超过免赔额时，保险金的计算公式如下：\\n\\n保险金 = （目录外必需且合理的医疗费用 - 社会基本医疗保险、公费医疗、大病保险、医疗救助等对于目录外必需且合理医疗费用已补偿金额 - 任何第三方（包括任何商业医疗保险）已补偿金额）× 给付比例\\n\\n这里需要注意的是，给付比例是保险合同中约定的，不同的保险产品给付比例可能不同。同时，如果被保险人以参加社会医疗保险身份投保，但未以参加社会医疗保险身份就诊并结算，则保险人将根据另行约定的给付比例计算保险金。\"}\n",
        "{\"ID\": 6208, \"question\": \"如果保险公司未作提示或者明确说明免责条款，该条款会产生什么后果？\", \"answer\": \"如果保险公司未作提示或者明确说明免责条款，该条款将不会产生效力，即保险公司不能依据该条款免除其责任。这意味着，在发生保险事故时，保险公司仍需按照合同约定承担相应的保险责任。\"}\n",
        "{\"ID\": 6209, \"question\": \"在投保中华联合住院无忧（基础版）保险产品前，投保人需要阅读哪个部分？\", \"answer\": \"在投保中华联合住院无忧（基础版）保险产品前，投保人需要阅读《中华联合财产保险股份有限公司住院看护医疗保险（互联网专属）》中的责任免除部分。\"}\n",
        "{\"ID\": 6210, \"question\": \"甲状腺癌的TNM分期采用了哪个版本的定义标准？\", \"answer\": \"甲状腺癌的TNM分期采用了AJCC癌症分期手册第八版定义标准。中国国家卫生健康委员会2018年发布的《甲状腺癌诊疗规范（2018年版）》也采用了这一定义标准。\"}\n",
        "{\"ID\": 6211, \"question\": \"在众安重疾险中，如何评估神经系统永久性功能障碍的严重程度？\", \"answer\": \"在众安重疾险中，评估神经系统永久性功能障碍的严重程度主要依据以下标准：\\n\\n1. **肌力评估**：通过专科医生确诊后180天，如果患者一肢（含）以上肢体肌力达到2级（含）以下，则被认定为严重程度较高的神经系统永久性功能障碍。\\n\\n2. **语言能力评估**：如果患者语言能力完全丧失，或存在严重咀嚼吞咽功能障碍，这也被视为严重程度较高的神经系统永久性功能障碍。\\n\\n3. **痴呆评定量表（CDR）评估**：由具有评估资格的专科医生根据临床痴呆评定量表（CDR）评估结果为3分，表明患者存在严重的认知功能障碍，这也属于严重程度较高的神经系统永久性功能障碍。\\n\\n4. **日常生活活动能力评估**：如果患者的自主生活能力完全丧失，无法独立完成六项基本日常生活活动中的三项或三项以上，这也被视为严重程度较高的神经系统永久性功能障碍。\\n\\n综上所述，众安重疾险中神经系统永久性功能障碍的严重程度评估是一个综合性的过程，需要根据患者的具体症状和医生的专业诊断来确定。\"}\n",
        "{\"ID\": 6212, \"question\": \"C型尼曼匹克病还有哪些别称？\", \"answer\": \"C型尼曼匹克病的别称有鞘磷脂胆固醇脂沉积症。\"}\n",
        "{\"ID\": 6213, \"question\": \"保险公司及其合作机构如何确保投保人信息的安全？\", \"answer\": \"保险公司及其合作机构为确保投保人信息的安全，采取了以下措施：\\n\\n1. 保密义务：保险公司及其合作机构对投保人信息负有保密义务，不得泄露、篡改、毁损、出售或提供给任何第三方。\\n\\n2. 合同约束：所有接触投保人信息的员工和合作机构均需遵守相关保密协议，确保信息不被泄露。\\n\\n3. 法律法规遵守：保险公司及其合作机构遵守国家关于个人信息保护的法律法规，确保投保人信息得到法律保护。\\n\\n4. 信息安全措施：保险公司及其合作机构采取有效措施，确保投保人信息的安全，如数据加密、访问控制等。\\n\\n5. 第三方接触限制：在必要情况下，第三方可能接触并使用投保人信息，但仅限于得到授权的太平洋产险员工、执行业务、营销活动和数据整理工作的其他公司或人员，且需遵守保密协议。\\n\\n通过以上措施，保险公司及其合作机构确保投保人信息的安全。\"}\n",
        "{\"ID\": 6214, \"question\": \"什么是全民保·稳享盈养老金保险产品中的宽限期？\", \"answer\": \"在全民保·稳享盈养老金保险产品中，宽限期是指分期支付保险费的客户，在支付首期保险费后，如果到期未支付后续保险费，保险公司给予的一个缓冲期。在这个宽限期内，即自保险费约定支付日的次日零时起60日内，如果客户未能支付保险费，保险公司仍会承担保险责任。不过，如果在宽限期内发生保险事故，保险公司给付保险金时会扣减客户欠交的保险费。如果宽限期结束后客户仍未支付保险费，则保险合同自宽限期满的次日零时起效力中止。宽限期是保险公司为了保障客户的利益而设定的，旨在给予客户一定的缓冲时间来筹集资金，避免因一时资金周转困难而使保险合同失效。\"}\n",
        "{\"ID\": 6215, \"question\": \"如果被保险人在等待期届满前身故，保险人会承担给付保险金的责任吗？\", \"answer\": \"根据【保险条款】中的规定，如果被保险人在等待期届满前身故，保险人不承担给付保险金的责任。保险公司会无息退还投保人所支付的全部保险费，同时本合同终止。因此，在这种情况下，保险公司不会给付保险金。\"}\n",
        "{\"ID\": 6216, \"question\": \"如果宽限期届满投保人仍未支付保险费，健康福·少儿重疾险合同的效力会怎样？\", \"answer\": \"如果宽限期届满投保人仍未支付保险费，健康福·少儿重疾险合同的效力将中止。自宽限期届满日的次日零时起，保险公司将不承担保险责任。在此期间发生的保险事故，保险公司不负责赔偿。不过，投保人可以在合同效力中止之日起2年内向保险公司申请恢复合同效力。如果双方在2年内未能达成协议，保险公司有权解除合同，并向投保人退还合同的现金价值。\"}\n",
        "{\"ID\": 6217, \"question\": \"在支付宝APP中，应该如何找到退保的选项？\", \"answer\": \"在支付宝APP中找到退保选项的步骤如下：\\n\\n1. 打开支付宝APP。\\n2. 点击首页的“我的”选项，进入个人中心。\\n3. 在个人中心页面，找到“全部保单”选项，点击进入。\\n4. 进入保单列表后，找到您需要退保的保单，点击进入保单详情页面。\\n5. 在保单详情页面，找到“保单服务”选项，点击进入。\\n6. 在保单服务页面，您会看到“申请退保”选项，点击即可开始退保流程。\\n\\n按照以上步骤操作，您就可以在支付宝APP中找到并完成退保申请。\"}\n",
        "{\"ID\": 6218, \"question\": \"如果被保险人因同一疾病原因同时符合轻度、中度和重度疾病保险金的给付条件，保险公司将如何承担保险责任？\", \"answer\": \"如果被保险人因同一疾病原因同时符合轻度、中度和重度疾病保险金的给付条件，保险公司将仅按照其中给付金额最高的一项来承担保险责任，不会对同一疾病原因导致的多个保险责任进行重复给付。\"}\n",
        "{\"ID\": 6219, \"question\": \"当保险合同履行中发生争议时，首先应采取什么方式尝试解决？\", \"answer\": \"当保险合同履行中发生争议时，首先应采取的方式是当事人协商解决。如果协商不成，再考虑其他争议解决途径。\"}\n",
        "{\"ID\": 6220, \"question\": \"举例说明哪些活动属于探险活动？\", \"answer\": \"以下是一些属于探险活动的例子：\\n1. 江河漂流：在湍急的河流中进行漂流，参与者需要面对水流的力量和潜在的危险。\\n2. 徒步穿越沙漠：在极端的沙漠环境中徒步，面临高温、缺水等挑战。\\n3. 人迹罕见的原始森林探险：在未知的森林环境中探险，可能遇到野生动物、地形复杂等问题。\\n4. 高山攀登：攀登高峰，如珠穆朗玛峰等，面临高海拔、恶劣天气等挑战。\\n5. 深海潜水：在深海中进行潜水活动，可能遇到水压、暗流等危险。\\n6. 极限运动：如跳伞、攀岩、滑翔伞等，这些活动具有较高的风险性。\\n\\n需要注意的是，这些活动在购买华泰境外百万全球旅行险时，可能需要额外投保探险活动保障，以确保在发生意外时能够获得相应的赔偿。\"}\n",
        "{\"ID\": 6221, \"question\": \"在什么情况下，健康福·重疾险公司会向投保人无息返还已交纳的保险费并终止合同？\", \"answer\": \"在以下情况下，健康福·重疾险公司会向投保人无息返还已交纳的保险费并终止合同：\\n1. 等待期内被保险人确诊发生本合同约定的轻度疾病、中度疾病、重度疾病；\\n2. 等待期内被保险人身故。\"}\n",
        "{\"ID\": 6222, \"question\": \"如果投保人、被保险人或受益人故意制造保险事故，保险人会采取什么措施？\", \"answer\": \"如果投保人、被保险人或受益人故意制造保险事故，保险人会采取以下措施：\\n1. 解除合同：保险人有权解除与投保人之间的保险合同。\\n2. 不承担给付保险金的责任：保险人不会对故意制造的保险事故承担给付保险金的责任。\\n3. 不退还保险费：保险人不会退还投保人已缴纳的保险费。\"}\n",
        "{\"ID\": 6223, \"question\": \"什么人可以成为中华联合住院无忧（基础版）保险合同的投保人？\", \"answer\": \"可以成为中华联合住院无忧（基础版）保险合同的投保人包括：\\n1. 年满18周岁及以上，具有完全民事行为能力的被保险人本人；\\n2. 在保险合同订立时对被保险人有保险利益的其他人，且该其他人也需满足年满18周岁及以上的条件。\"}\n",
        "{\"ID\": 6224, \"question\": \"如果被保险人因未遵医嘱而私自服用、涂用或注射药物，或因药物过敏、细菌或病毒感染（非意外导致的伤口感染）或医疗事故遭受身故或伤残，保险公司是否承担给付保险金的责任？\", \"answer\": \"保险公司不承担给付保险金的责任。\"}\n",
        "{\"ID\": 6225, \"question\": \"如果投保人、被保险人或受益人未能及时通知保险公司，保险公司会怎么做？\", \"answer\": \"如果投保人、被保险人或受益人未能及时通知保险公司，保险公司会根据以下情况处理：\\n\\n1. 如果投保人、被保险人或受益人故意或者因重大过失未及时通知，导致保险事故的性质、原因、损失程度等难以确定，保险公司对无法确定的部分不承担给付保险金的责任。\\n\\n2. 如果保险公司通过其他途径已经及时知道或者应当及时知道保险事故发生，即使投保人、被保险人或受益人未及时通知，保险公司仍需承担相应的保险责任。\\n\\n3. 如果投保人、被保险人或受益人虽未及时通知，但不影响保险公司确定保险事故的性质、原因、损失程度，保险公司仍需承担相应的保险责任。\\n\\n总之，保险公司会根据具体情况来判断是否承担保险责任，并在保险合同约定的范围内进行赔付。\"}\n",
        "{\"ID\": 6226, \"question\": \"保险公司是否承担赔偿责任，如果被保险人因酗酒、殴斗、吸毒、违规使用药品而产生费用？\", \"answer\": \"保险公司不承担赔偿责任。\"}\n",
        "{\"ID\": 6227, \"question\": \"患者是否需要接受治疗才能确诊严重原发性骨髓纤维化？\", \"answer\": \"患者不需要接受治疗才能确诊严重原发性骨髓纤维化。确诊主要依赖于医生的诊断和血液检查结果，而是否接受治疗是确诊后的后续治疗问题。\"}\n",
        "{\"ID\": 6228, \"question\": \"太享E保百万医疗险在互联网途径销售时，默认提供哪种类型的保单和发票？\", \"answer\": \"太享E保百万医疗险在互联网途径销售时，默认提供电子保单和电子发票。\"}\n",
        "{\"ID\": 6229, \"question\": \"核保通过后，投保人需要在多长时间内支付保险费？\", \"answer\": \"核保通过后，投保人通常需要在一定时间内支付保险费，这个时间通常为5个工作日。这是为了确保保险公司能够及时记录保险合同，并为投保人提供相应的保障。但具体时间可能因保险公司而异，建议投保人仔细阅读保险合同或直接咨询保险公司以获取准确信息。\"}\n",
        "{\"ID\": 6230, \"question\": \"被保险人是否已经同意了太保国民综合意外险的保障内容及保险金额？\", \"answer\": \"是，被保险人已经同意了太保国民综合意外险的保障内容及保险金额。\"}\n",
        "{\"ID\": 6231, \"question\": \"保险公司不承担给付身故保险金责任的第三种情形是什么？\", \"answer\": \"保险公司不承担给付身故保险金责任的第三种情形是被保险人自本合同成立或者合同效力恢复之日起2年内自杀，但被保险人自杀时为无民事行为能力人的除外。\"}\n",
        "{\"ID\": 6232, \"question\": \"在挂床住院期间，被保险人是否每天都接受治疗？\", \"answer\": \"在挂床住院期间，被保险人并不需要每天都接受治疗。根据保险条款，挂床住院是指被保险人在住院期间每日非二十四小时在院，且连续若干日无任何治疗，只发生护理费、诊疗费、床位费等情况。这意味着，在挂床住院期间，被保险人可能只需要接受必要的护理和诊疗服务，而不一定每天都进行治疗。\"}\n",
        "{\"ID\": 6233, \"question\": \"因酗酒或药物滥用导致的肝衰竭是否在保障范围内？\", \"answer\": \"因酗酒或药物滥用导致的肝衰竭不在众民保·百万医疗（免健告）的保障范围内。\"}\n",
        "{\"ID\": 6234, \"question\": \"脊髓小脑变性症的临床表现包括哪些症状？\", \"answer\": \"脊髓小脑变性症的临床表现主要包括以下症状：\\n1. 小脑萎缩：通过影像学检查可以证实。\\n2. 共济失调：表现为动作不协调，平衡能力下降。\\n3. 语言障碍：可能包括语言表达不清或理解困难。\\n4. 肌张力异常：肌肉紧张度不正常，可能表现为肌肉僵硬或无力。\\n\\n这些症状是诊断脊髓小脑变性症的关键依据，也是保险条款中规定的必须符合的条件之一。\"}\n",
        "{\"ID\": 6235, \"question\": \"公安机关交通管理部门依据哪个法律规定来认定酒后驾驶或醉酒驾驶？\", \"answer\": \"公安机关交通管理部门依据《道路交通安全法》的规定来认定酒后驾驶或醉酒驾驶。\"}\n",
        "{\"ID\": 6236, \"question\": \"保险公司对'肾髓质囊性病'和'严重慢性肾衰竭'两项疾病中的哪一项承担保险责任？\", \"answer\": \"保险公司对“肾髓质囊性病”和“严重慢性肾衰竭”两项疾病中的其中一项承担保险责任。\"}\n",
        "{\"ID\": 6237, \"question\": \"投保人应该何时向保险人交纳保险费？\", \"answer\": \"投保人应该在投保时按照合同约定向保险人交纳保险费。保险费未交清前，本保险合同不生效，保险人不承担赔偿责任。这意味着，一旦投保人与保险人达成投保协议，投保人应立即或按照合同规定的期限交纳保险费，以确保保险合同的有效性和保险责任的开始。\"}\n",
        "{\"ID\": 6238, \"question\": \"如果被保险人没有社保，意外医疗保险金的赔付比例是多少？\", \"answer\": \"如果被保险人没有社保，意外医疗保险金的赔付比例是60%。\"}\n",
        "{\"ID\": 6239, \"question\": \"被保险人服用、吸食或注射毒品期间发生的保险事故，保险公司是否承担责任？\", \"answer\": \"被保险人服用、吸食或注射毒品期间发生的保险事故，保险公司不承担责任。\"}\n",
        "{\"ID\": 6240, \"question\": \"如果投保人未按约定足额交付当期保险费，保险合同的有效性如何？\", \"answer\": \"如果投保人未按约定足额交付当期保险费，保险合同的有效性取决于以下情况：\\n\\n1. 在宽限期内补交：如果投保人在宽限期内补交了当期保险费，保险合同将继续有效，且被保险人在宽限期内发生的保险事故，保险人仍将按照保险合同的约定承担保险责任。\\n\\n2. 超过宽限期未补交：如果投保人未在宽限期内足额补交当期保险费，则保险合同的保险期间自上一个交费周期结束时终止。保险期间终止后（包括宽限期内），被保险人发生的任何事故，保险人不承担给付保险金的责任。\\n\\n因此，投保人未按约定足额交付当期保险费时，保险合同的有效性取决于是否在宽限期内补交了保险费。\"}\n",
        "{\"ID\": 6241, \"question\": \"哪些检查方法可以用来检测范可尼综合征中的胱氨酸结晶？\", \"answer\": \"检测范可尼综合征中的胱氨酸结晶可以通过以下几种检查方法：\\n\\n1. 尿液分析：通过尿液样本的显微镜检查，观察是否存在胱氨酸结晶。\\n2. 肾脏活检：通过获取肾脏组织样本，进行显微镜检查，观察肾小管中是否存在胱氨酸结晶。\\n3. X射线检查：如X射线片、CT扫描等，可以显示肾脏结石的存在，间接提示胱氨酸结晶的可能。\\n4. 裂隙灯检查：通过裂隙灯观察眼内是否存在胱氨酸结晶，这是一种非侵入性的检查方法。\"}\n",
        "{\"ID\": 6242, \"question\": \"人保福寿年年专属商业养老保险中的个人账户价值是如何转换为重度失能保险金的？\", \"answer\": \"在人保福寿年年专属商业养老保险中，个人账户价值转换为重度失能保险金的过程如下：\\n1. 被保险人达到重度失能状态。\\n2. 在被保险人达到重度失能状态之日零时，计算其个人账户价值。\\n3. 根据保险公司提供的重度失能保险金转换标准，将个人账户价值转换为重度失能保险金。\\n4. 按照约定的方式，将转换后的重度失能保险金给付给被保险人。\"}\n",
        "{\"ID\": 6243, \"question\": \"已经包含在旅行收费中的费用是否由保险人承担赔偿责任？\", \"answer\": \"已经包含在旅行收费中的费用通常不会被保险人承担赔偿责任。这是因为这些费用在旅行收费时已经预付，属于旅行套餐的一部分，而非保险条款约定的额外服务费用。根据保险条款的规定，保险人仅对未经允许的第三方收取的费用或条款约定以外的额外服务费用不承担赔偿责任。\"}\n",
        "{\"ID\": 6244, \"question\": \"对于被保险人投保前已有的身体损害、未告知既往症的合并症及并发症，保险公司是否承担保险责任？\", \"answer\": \"对于被保险人投保前已有的身体损害、未告知既往症的合并症及并发症，保险公司不承担保险责任。\"}\n",
        "{\"ID\": 6245, \"question\": \"石棉制品工能否投保华贵大麦青春保·定期寿险？\", \"answer\": \"石棉制品工不能投保华贵大麦青春保·定期寿险，因为该职业在保险条款中规定的不可投保职业列表中。\"}\n",
        "{\"ID\": 6246, \"question\": \"如果在长城人寿保险股份有限公司未设分公司的地区购买全民保·终身盈养老金保险产品，会影响理赔吗？\", \"answer\": \"不会影响理赔。根据保险条款，即使是在长城人寿保险股份有限公司未设分公司的地区购买全民保·终身盈养老金保险产品，也不会影响理赔。理赔服务通常可以通过其他方式如电话、网络等渠道进行，因此不会因为地区没有分支机构而受到影响。不过，后续在保险公司的柜面服务可能会受到影响，因为柜面服务需要到具体的分支机构进行。\"}\n",
        "{\"ID\": 6247, \"question\": \"客户提交解除合同申请书后，合同何时终止？\", \"answer\": \"客户提交解除合同申请书后，合同将在保险公司收到解除合同申请书之日起终止。\"}\n",
        "{\"ID\": 6248, \"question\": \"如果同一被保险人购买了多份太保航空意外险，保险公司会如何处理？\", \"answer\": \"如果同一被保险人购买了多份太保航空意外险，保险公司会按照限购份数的规定处理，即只承担一份保险的责任。也就是说，如果发生保险事故，保险公司只会按照一份保险的保额进行赔付，不会因为被保险人购买了多份而增加赔付金额。\"}\n",
        "{\"ID\": 6249, \"question\": \"在什么情况下保险公司无法在5个工作日内确定保险事故的相关信息？\", \"answer\": \"在以下情况下，保险公司无法在5个工作日内确定保险事故的相关信息：\\n1. 保险事故的性质复杂，难以迅速判断。\\n2. 保险事故的原因难以明确，需要进一步的调查。\\n3. 伤害程度难以评估，需要医疗鉴定或更多医疗资料。\\n4. 提交的证明和资料不完整，需要补充。\\n5. 保险公司需要对外部第三方进行核实，如医疗机构、警方等。\\n6. 保险事故涉及的法律问题复杂，需要法律程序介入。\"}\n",
        "{\"ID\": 6250, \"question\": \"申请人委托他人代为申请保险金时，申请人需要提供哪些文件？\", \"answer\": \"申请人委托他人代为申请保险金时，需要提供以下文件：\\n1. 申请人签字的授权委托书：证明申请人同意委托他人代为申请保险金。\\n2. 被委托人的有效身份证件：如身份证、护照等，以证明被委托人的身份。\\n3. 其他相关证明文件：根据具体情况，可能还需要提供其他证明文件，如与保险合同相关的文件、医疗诊断证明等。具体需要哪些文件，请咨询保险公司或查阅相关条款。\"}\n",
        "{\"ID\": 6251, \"question\": \"如果被保险人因吸食或注射毒品、醉酒或受管制药物影响，保险公司是否承担给付保险金的责任？\", \"answer\": \"保险公司不承担给付保险金的责任。\"}\n",
        "{\"ID\": 6252, \"question\": \"哪些情况导致的脑损害不在健康福·少儿终身重疾险的保障范围内？\", \"answer\": \"根据健康福·少儿终身重疾险的保险条款，以下情况导致的脑损害不在保障范围内：\\n1. 神经官能症。\\n2. 精神疾病。\\n3. 酒精中毒所致的脑损害。\"}\n",
        "{\"ID\": 6253, \"question\": \"保险人应该如何将核定结果通知保险金申请人？\", \"answer\": \"保险人应当通过以下方式将核定结果通知保险金申请人：\\n1. 书面通知：保险人可以通过邮寄、电子邮件或直接送达等方式，向保险金申请人发出书面通知，明确告知核定结果。\\n2. 电话通知：在紧急情况下，保险人也可以通过电话方式及时通知保险金申请人核定结果。\\n3. 网络平台通知：如果保险合同中约定了使用网络平台进行通知，保险人可以通过保险公司的官方网站、移动应用程序等网络平台向保险金申请人发送通知。\\n4. 其他约定的通知方式：如果保险合同中有其他约定的通知方式，保险人应按照约定执行。\\n\\n无论采用哪种通知方式，保险人均应确保通知内容清晰、明确，并保留通知的凭证，以备后续可能需要的查询或证明。\"}\n",
        "{\"ID\": 6254, \"question\": \"如果保险金申请人委托他人申请住院医疗费用保险金，需要提供哪些委托相关的证明文件？\", \"answer\": \"如果保险金申请人委托他人申请住院医疗费用保险金，需要提供以下委托相关的证明文件：\\n1. 授权委托书原件：明确授权受托人代表申请人申请保险金。\\n2. 委托人和受托人的身份证明：包括身份证、户口本等能证明委托人和受托人身份的文件。\\n3. 其他可能需要的证明文件：根据具体情况，可能还需要提供其他证明委托关系合法有效的文件。\"}\n",
        "{\"ID\": 6255, \"question\": \"被保险人醉酒或受毒品、管制药物影响时遭受的伤害，保险公司是否负责赔偿?\", \"answer\": \"被保险人醉酒或受毒品、管制药物影响时遭受的伤害，保险公司不负责赔偿。\"}\n",
        "{\"ID\": 6256, \"question\": \"美国纽约心脏病学会（NYHA）心功能状态II级是什么意思？\", \"answer\": \"美国纽约心脏病学会（NYHA）心功能状态II级表示心脏病病人体力活动轻度受限制，休息时无自觉症状，但在一般活动下会出现心衰症状。这意味着患者在进行日常活动时可能会感到疲劳或呼吸困难，但在休息时通常不会感到不适。\"}\n",
        "{\"ID\": 6257, \"question\": \"在'健康福·重疾险(保20|30年)'保险产品中，埃博拉病毒感染的患者在发病后需要有多长时间的进行性感染症状才能索赔？\", \"answer\": \"在'健康福·重疾险(保20|30年)'保险产品中，埃博拉病毒感染的患者在发病后需要有超过30天的进行性感染症状才能进行索赔。\"}\n",
        "{\"ID\": 6258, \"question\": \"太平洋个人意外医疗险的保险费是如何确定的？\", \"answer\": \"太平洋个人意外医疗险的保险费是根据投保人的年龄、性别、健康状况、职业风险等级等因素综合确定的。具体费用会在投保时一次性告知投保人，并要求投保人一次性支付全部保险费。\"}\n",
        "{\"ID\": 6259, \"question\": \"如果被保险人因疾病如高原反应、中暑导致身故或伤残，保险公司是否承担给付保险金责任？\", \"answer\": \"如果被保险人因疾病如高原反应、中暑导致身故或伤残，保险公司不承担给付保险金责任。\"}\n",
        "{\"ID\": 6260, \"question\": \"什么是健康福·终身重疾险(黑卡专享版)中定义的严重骨质疏松合并骨折？\", \"answer\": \"\\n在健康福·终身重疾险(黑卡专享版)中，严重骨质疏松合并骨折是指由于严重的骨质疏松，导致脊椎、桡骨、尺骨、肱骨、股骨等部位发生骨折。这种骨质疏松的诊断必须由本公司认可的医院专科医生做出，并且必须符合世界卫生组织关于骨质疏松的诊断标准。此外，保险公司只对被保险人在七十周岁之前初次确诊的严重骨质疏松合并骨折承担保险责任。这意味着，如果被保险人在七十岁之后初次确诊此病，保险公司将不承担相应的保险责任。\"}\n",
        "{\"ID\": 6261, \"question\": \"保险人在《重大疾病保险的疾病定义使用规范》之外增加了多少种重度疾病？\", \"answer\": \"保险人在《重大疾病保险的疾病定义使用规范》之外增加了八十二种重度疾病。\"}\n",
        "{\"ID\": 6262, \"question\": \"投保华泰1000万航空意外险时，保险人和投保人可以选择哪些交通工具意外伤害保险责任类型？\", \"answer\": \"投保华泰1000万航空意外险时，保险人和投保人可以选择以下交通工具意外伤害保险责任类型：\\n1. 航空意外伤害保险责任\\n2. 铁路意外伤害保险责任\\n3. 公路意外伤害保险责任\\n4. 水上意外伤害保险责任\\n\\n这些类型覆盖了常见的交通工具，投保人可以根据自己的需求选择相应的保险责任类型。\"}\n",
        "{\"ID\": 6263, \"question\": \"如果被保险人的疾病同时符合轻症疾病和重大疾病的定义，保险人会承担哪种保险金的责任？\", \"answer\": \"如果被保险人的疾病同时符合轻症疾病和重大疾病的定义，保险人仅承担给付重大疾病保险金的责任。轻症疾病保险金的责任将终止，但本合同继续有效。\"}\n",
        "{\"ID\": 6264, \"question\": \"因酗酒导致的脑桥中央髓鞘溶解症（CPM）是否在保障范围内？\", \"answer\": \"因酗酒导致的脑桥中央髓鞘溶解症（CPM）不在健康福·重疾险(保1年)的保障范围内。\"}\n",
        "{\"ID\": 6265, \"question\": \"《用户信息授权及个人信息保护政策》会有哪些后续修订？\", \"answer\": \"《用户信息授权及个人信息保护政策》的后续修订可能包括法律法规的更新、技术发展、用户需求以及行业规范等方面的调整。具体修订内容以保险公司发布的最新版本为准。\"}\n",
        "{\"ID\": 6266, \"question\": \"当受益人为无民事行为能力人或限制民事行为能力人时，申领众安健康宝贝少儿综合保障意外伤残保险金的流程有何不同？\", \"answer\": \"当受益人为无民事行为能力人或限制民事行为能力人时，申领众安健康宝贝少儿综合保障意外伤残保险金的流程如下：\\n1. 提交保险金给付申请书；\\n2. 提供保险合同原件或者其他保险凭据；\\n3. 提供被保险人的身份证明；\\n4. 提供司法部门、二级及二级以上医院、保险人认可的医疗机构或保险人认可的其他鉴定机构出具的伤残鉴定诊断书；\\n5. 提供保险金申请人所能提供的与确认保险事故的性质、原因、损失程度等有关的其他证明和资料；\\n6. 若保险金申请人委托他人申请的，还应提供授权委托书原件、委托人和受托人的身份证明等相关证明文件；\\n7. 由于受益人为无民事行为能力人或者限制民事行为能力人，需要由其监护人代为申领保险金，因此还需提供监护人的身份证明等资料。\\n\\n在上述流程中，特别需要注意的是，由于受益人无法独立进行申领，因此必须由其监护人代为办理，并确保提供完整的监护人身份证明等相关资料。\"}\n",
        "{\"ID\": 6267, \"question\": \"保险持有人支付了首期保险费后应该如何继续支付保险费？\", \"answer\": \"保险持有人在支付了首期保险费后，应按照合同约定的交费方式（趸交或分期支付）和每个保险费约定支付日，继续支付当期应支付的保险费。具体支付方式及日期应以合同中的约定为准。\"}\n",
        "{\"ID\": 6268, \"question\": \"人保养老新商养4天测试产品投资于流动性资产的最低比例是多少？\", \"answer\": \"人保养老新商养4天测试产品投资于流动性资产的比例不低于5%。\"}\n",
        "{\"ID\": 6269, \"question\": \"被保险人的哪些既往症状会导致保险人不负责给付保险金？\", \"answer\": \"\\n根据太平洋个人综合意外险的保险条款，以下被保险人的既往症状会导致保险人不负责给付保险金：\\n\\n1. 被保险人投保前已有的既往症。\\n2. 被保险人先天性关节脱位、病理性脱位、习惯性脱位、陈旧性脱位或复发性脱位。\\n3. 被保险人病理性骨折（指有病骨骼遭受轻微外力即发生的骨折）或被诊断为骨质疏松并因该病症而导致的骨折或关节脱位。\\n4. 被保险人在本附加险合同生效日之前罹患的已知或应该知道的有关疾病或症状，或已知慢性病的急性发作、复发、合并症及并发症。\\n5. 被保险人罹患特定传染病、职业病、地方病、心理疾病。\\n6. 被保险人患有遗传性疾病、先天性畸形、变形或者染色体异常（以世界卫生组织颁布的《疾病和有关健康问题的国际统计分类（ICD-10）》为准）。\\n\\n这些既往症状或疾病在保险条款中被明确列为责任免除事项，因此保险公司在这些情况下不负责给付保险金。\"}\n",
        "{\"ID\": 6270, \"question\": \"保险费的计算结果会在哪里载明？\", \"answer\": \"保险费的计算结果会在保险单中载明。保险单是保险合同的重要组成部分，其中会详细列出保险金额、保险费率、保险费总额以及支付方式等信息，投保人可以通过查阅保险单来了解自己的保险费用情况。\"}\n",
        "{\"ID\": 6271, \"question\": \"保险责任开始前，如果投保人要求解除保险合同，投保人需要支付多少退保手续费？\", \"answer\": \"如果保险责任开始前，投保人要求解除保险合同，投保人需要支付相当于保险费5%的退保手续费。\"}\n",
        "{\"ID\": 6272, \"question\": \"保险人为了核验客户的投保资格，可能会向哪些第三方主体申请核验？\", \"answer\": \"保险人为了核验客户的投保资格，可能会向以下第三方主体申请核验：\\n1. 行政机关\\n2. 司法机关\\n3. 征信机构\\n4. 医疗机构\\n5. 保险公司\\n6. 工作单位\\n7. 合作方\\n8. 关联公司及其合作方\\n9. 公安部门\\n10. 司法鉴定中心\\n11. 银保监会及其下设机构\\n12. 人社相关机构\\n\\n这些第三方主体可以帮助保险人核实客户的身份信息、财产状况、社保、健康状况等信息，以确保客户具备投保资格，并防范保险欺诈等行为。\"}\n",
        "{\"ID\": 6273, \"question\": \"如果已经发生过保险金给付，太平洋普惠百万医疗险公司是否退还未满期净保费？\", \"answer\": \"如果已经发生过保险金给付，太平洋普惠百万医疗险公司不会退还未满期净保费。\"}\n",
        "{\"ID\": 6274, \"question\": \"如果投保人故意杀害或伤害造成被保险人身故，中国人寿保险股份有限公司退还的现金价值将如何处理？\", \"answer\": \"如果投保人故意杀害或伤害造成被保险人身故，中国人寿保险股份有限公司退还的现金价值将作为被保险人的遗产处理，但法律另有规定的除外。这意味着，这笔现金价值将按照我国《继承法》的相关规定，由被保险人的法定继承人继承。\"}\n",
        "{\"ID\": 6275, \"question\": \"根据合同，最早养老年金领取起始日是被保险人多少岁的生日？\", \"answer\": \"根据合同，最早养老年金领取起始日是被保险人65周岁的生日。\"}\n",
        "{\"ID\": 6276, \"question\": \"如果投保人、被保险人或受益人在保险事故发生后提供虚假证明或夸大损失，保险人将如何处理？\", \"answer\": \"如果投保人、被保险人或受益人在保险事故发生后提供虚假证明或夸大损失，保险人将采取以下处理措施：\\n1. 保险人对虚报的部分不承担给付保险金的责任。\\n2. 投保人、被保险人或者受益人应当退回或赔偿因虚假证明或夸大损失而导致的保险人支付保险金或支出费用。\"}\n",
        "{\"ID\": 6277, \"question\": \"如果被保险人在初次投保前所患的既往症或保险单中载明的除外疾病导致支出医疗费用，保险公司是否承担保险金给付责任？\", \"answer\": \"如果被保险人在初次投保前所患的既往症或保险单中载明的除外疾病导致支出医疗费用，保险公司不承担保险金给付责任。\"}\n",
        "{\"ID\": 6278, \"question\": \"《重大疾病保险的疾病定义使用规范（2020年修订版）》中列明了多少种轻度疾病？\", \"answer\": \"《重大疾病保险的疾病定义使用规范（2020年修订版）》中列明的轻度疾病数量为37种，加上该规范中原本列明的其他轻度疾病，总数会超过37种。具体数量需要查阅该规范全文以获取准确数据。\"}\n",
        "{\"ID\": 6279, \"question\": \"健康福·重疾险是否覆盖严重脑炎后遗症？\", \"answer\": \"是的，健康福·重疾险覆盖严重脑炎后遗症。\"}\n",
        "{\"ID\": 6280, \"question\": \"法律法规授权的有关部门出具的意外伤害事故证明是什么？\", \"answer\": \"法律法规授权的有关部门出具的意外伤害事故证明是指由政府相关部门，如公安、卫生、教育等机构，根据相关法律法规，对意外伤害事故进行调查、核实后，出具的证明文件。这类证明文件通常包含事故发生的时间、地点、原因、经过、后果等信息，用于证明被保险人遭受的意外伤害事故的真实性和合法性，是保险公司审核意外伤害事故是否属于保险责任范围的重要依据。在申请意外伤害医疗保险金时，此类证明文件有助于保险公司快速、准确地处理理赔事宜。\"}\n",
        "{\"ID\": 6281, \"question\": \"保险持有人在何种情况下可以申请解除保险合同同佑e生终身重疾险？\", \"answer\": \"保险持有人可以在以下情况下申请解除同佑e生终身重疾险合同：\\n1. 被保险人身故；\\n2. 保险持有人于本合同有效期内向保险公司提出解除合同申请；\\n3. 合同中约定的其他终止情况，具体需参照合同条款中的详细说明。\"}\n",
        "{\"ID\": 6282, \"question\": \"认证完成后，第三方认证机构将哪些结果传输给安盛天平？\", \"answer\": \"认证完成后，第三方认证机构将以下结果传输给安盛天平：\\n1. 认证结果：包括但不限于缴费账户身份信息及缴费信息认证的结果。\\n2. 缴费结果：包括但不限于缴费单号、交易金额、交易时间、凭证号、凭证所属银行等信息。\"}\n",
        "{\"ID\": 6283, \"question\": \"如果被保险人自杀或故意自伤，保险公司会赔偿吗？\", \"answer\": \"\\n根据《人保寿险一般意外伤害保险（互联网专属）》的保险条款，如果被保险人自杀或故意自伤，保险公司不会承担给付保险金的责任。具体来说，条款中第（3）项明确指出，被保险人自杀（但被保险人自杀时为无民事行为能力人的除外）、故意自伤属于保险公司不承担保险责任的情形之一。\\n\\n因此，如果被保险人在保险期间内自杀或故意自伤，保险公司不会进行赔偿。\"}\n",
        "{\"ID\": 6284, \"question\": \"在犹豫期内，投保人如何解除合同？\", \"answer\": \"在犹豫期内，投保人可以通过以下方式解除合同：\\n\\n1. **书面申请**：投保人可以书面形式向保险人提出解除合同的申请。书面申请可以通过邮寄、快递或直接递交至保险公司的服务网点。\\n\\n2. **互联网渠道**：如果投保人通过保险人同意或认可的网站等互联网渠道提出解除合同的申请，也视为投保人的书面申请。\\n\\n3. **内容要求**：在申请中，投保人应明确表示解除合同的意思，并注明合同的相关信息，如合同编号、投保人姓名等。\\n\\n4. **生效时间**：自保险人收到投保人解除合同的书面申请或双方认可的其他形式起，本合同即被解除。\\n\\n5. **费用退还**：合同解除后，保险人将无息退还投保人所支付的全部保险费。\\n\\n请注意，在解除合同前发生的保险事故，保险人不承担保险责任。因此，投保人在犹豫期内应谨慎考虑是否解除合同。\"}\n",
        "{\"ID\": 6285, \"question\": \"如果被保险人在三周岁之前罹患范可尼综合征，保险公司会承担保险责任吗？\", \"answer\": \"如果被保险人在三周岁之前罹患范可尼综合征，保险公司不会承担保险责任。\"}\n",
        "{\"ID\": 6286, \"question\": \"亚急性硬化性全脑炎确诊180天后，患者可能遗留哪些障碍？\", \"answer\": \"亚急性硬化性全脑炎确诊180天后，患者可能遗留以下一种或一种以上的障碍：\\n1. 一肢（含）以上肢体肌力2级（含）以下；\\n2. 语言能力完全丧失，或严重咀嚼吞咽功能障碍；\\n3. 自主生活能力完全丧失，无法独立完成六项基本日常生活活动中的三项或三项以上。\"}\n",
        "{\"ID\": 6287, \"question\": \"如果被保险人接受美容手术、矫形手术、变性手术而进行的整形手术，保险公司为什么不承担给付保险金的责任？\", \"answer\": \"保险公司不承担给付保险金的责任是因为根据保险条款，被保险人接受美容手术、矫形手术、变性手术而进行的整形手术不在基本医疗保险的保障范围内，且这类手术的费用通常较高，不易通过常规医疗保险进行报销。因此，保险公司对此类手术不承担给付保险金的责任。\"}\n",
        "{\"ID\": 6288, \"question\": \"在追求资产增长的过程中，进取型投资组合账户是如何控制风险的？\", \"answer\": \"\\n在追求资产增长的过程中，进取型投资组合账户主要通过以下几种方式来控制风险：\\n\\n1. **资产配置**：通过合理配置权益资产和固定收益类资产的比例，平衡风险和收益。权益资产通常波动性较大，但长期增长潜力较高；固定收益类资产则相对稳定，风险较低。通过调整两者比例，可以在追求收益的同时，降低整体投资组合的波动性。\\n\\n2. **分散投资**：投资组合账户会分散投资于多个行业、地区和资产类别，以降低单一市场或行业波动对整体投资组合的影响。这种分散投资策略有助于分散风险，提高投资组合的稳健性。\\n\\n3. **风险控制措施**：投资组合账户会根据市场情况，采取相应的风险控制措施，如设置止损点、调整持仓比例等，以防止风险过度累积。\\n\\n4. **专业管理**：由专业的投资团队进行管理，他们会根据市场动态和投资策略，及时调整投资组合，以适应市场变化，降低风险。\\n\\n5. **合规监管**：作为保险产品的一部分，进取型投资组合账户受到相关法律法规的约束，确保投资行为合法合规，降低潜在的法律风险。\\n\\n通过上述措施，进取型投资组合账户在追求资产显著增长的同时，有效控制了风险。\"}\n",
        "{\"ID\": 6289, \"question\": \"投保人需要提供哪些个人信息来签订和履行意外险合同？\", \"answer\": \"投保人需要提供以下个人信息来签订和履行意外险合同：\\n1. 姓名\\n2. 出生日期\\n3. 性别\\n4. 证件类型（如身份证、护照等）\\n5. 证件号码\\n6. 证件有效期\\n7. 联系方式（电话、邮箱等）\\n8. 国籍\\n9. 所在地\\n10. 缴费账户信息\\n11. 投保录屏信息（可能用于核实投保过程的真实性）\\n\\n这些信息有助于保险公司了解投保人的基本情况，确保保险合同的合法性和有效性。\"}\n",
        "{\"ID\": 6290, \"question\": \"当有新的服务需求及业务功能变更时，本公司会如何调整接入的第三方SDK或API？\", \"answer\": \"当有新的服务需求及业务功能变更时，本公司会调整接入的第三方SDK或API，并且会及时在本政策中向用户公开说明接入第三方SDK和API的更新情况。用户可以通过查看最新的保险条款或相关政策来了解具体的调整内容。同时，如果第三方SDK或API的处理个人信息的情况发生变化，用户应以其个人信息保护政策或公示的官方说明为准。\"}\n",
        "{\"ID\": 6291, \"question\": \"人保I无忧终身重疾险尊享款是否保障中度运动神经元病？\", \"answer\": \"是的，人保I无忧终身重疾险尊享款保障中度运动神经元病。根据保险条款中列出的中症疾病列表，中度运动神经元病（编号5）是其中之一，因此该疾病在保险责任范围内。\"}\n",
        "{\"ID\": 6292, \"question\": \"投保人在选择保险金额、保险期间、交费期限和交费金额时应考虑哪些因素？\", \"answer\": \"\\n投保人在选择保险金额、保险期间、交费期限和交费金额时应考虑以下因素：\\n\\n1. 个人经济状况：包括收入、支出和储蓄能力，以确保能够承担保险费用。\\n2. 风险承受能力：根据个人对风险的承受程度，选择合适的保险金额和交费期限。\\n3. 退休规划：考虑退休后的生活费用，以及如何通过保险产品来补充养老金。\\n4. 保险产品的特性：了解保险责任、责任免除、犹豫期、合同解除等关键信息，选择适合的保险产品。\\n5. 交费期限：根据个人现金流状况，选择合适的交费期限，确保能够持续缴纳保费。\"}\n",
        "{\"ID\": 6293, \"question\": \"被保险人首次确诊恶性肿瘤——重度是在哪里确诊的？\", \"answer\": \"被保险人首次确诊恶性肿瘤——重度是在本公司认可的医院确诊的。\"}\n",
        "{\"ID\": 6294, \"question\": \"如果投保人未按约定交纳保险费，保险合同会生效吗？\", \"answer\": \"如果投保人未按约定交纳保险费，保险合同不会生效。保险人对保险合同生效前发生的保险事故不承担保险责任。\"}\n",
        "{\"ID\": 6295, \"question\": \"受益人应该如何领取全民保·灵活投养老金保险产品的保险金？\", \"answer\": \"\\n受益人领取全民保·灵活投养老金保险产品的保险金，需要按照以下步骤进行：\\n\\n1. 准备材料：受益人需要准备以下材料：\\n   - 保险合同原件；\\n   - 受益人身份证明；\\n   - 保险事故证明材料（如死亡证明、疾病诊断证明等）；\\n   - 银行账户信息（用于接收保险金）。\\n\\n2. 提交申请：受益人将准备好的材料提交给保险公司。可以通过以下方式提交：\\n   - 线上提交：登录保险公司官方网站或使用保险公司提供的手机APP，按照提示提交申请；\\n   - 线下提交：前往保险公司营业网点，将材料交给工作人员。\\n\\n3. 审核与支付：保险公司收到申请后，会对提交的材料进行审核。审核通过后，保险公司将按照合同约定支付保险金至受益人的银行账户。\\n\\n4. 领取保险金：受益人收到银行到账通知后，即可领取保险金。\\n\\n需要注意的是，具体操作流程和所需材料可能因保险公司和保险产品而有所不同，建议受益人咨询保险公司客服或查阅相关保险条款以获取详细信息。\"}\n",
        "{\"ID\": 6296, \"question\": \"保险人在什么情况下给付白血病保险金？\", \"answer\": \"保险人在以下情况下给付白血病保险金：\\n1. 被保险人遭受意外伤害，并在保险期间内因该意外伤害造成本保险合同约定的白血病首次发病；\\n2. 被保险人经过本保险合同约定的等待期后，在保险期间内首次发病，且被专科医生确诊为白血病。\"}\n",
        "{\"ID\": 6297, \"question\": \"京东安联京彩一生防癌医疗险是否覆盖被保险人住院体检产生的费用？\", \"answer\": \"根据京东安联京彩一生防癌医疗险的保险条款第9条，被保险人住院体检产生的费用是不在保险责任范围内的。因此，该保险产品不覆盖被保险人住院体检产生的费用。\"}\n",
        "{\"ID\": 6298, \"question\": \"在众安健康宝贝少儿综合保障中，洗澡是指什么？\", \"answer\": \"在众安健康宝贝少儿综合保障中，洗澡是指自己进行淋浴或盆浴的能力。这意味着保险条款中提到的洗澡能力是指儿童能够独立完成淋浴或盆浴的过程，包括但不限于调节水温、使用沐浴用品、清洗身体等。\"}\n",
        "{\"ID\": 6299, \"question\": \"被保险人在遭受意外事故后多少天内身故，保险人会给付意外身故保险金？\", \"answer\": \"被保险人在遭受意外事故后180天内身故，保险人会给付意外身故保险金。\"}\n"
      ]
    },
    {
      "cell_type": "markdown",
      "metadata": {
        "id": "5fCEDCU_qrC0"
      },
      "source": [
        "<div class=\"markdown-google-sans\">\n",
        "  <h2>What is Colab?</h2>\n",
        "</div>\n",
        "\n",
        "Colab, or \"Colaboratory\", allows you to write and execute Python in your browser, with\n",
        "- Zero configuration required\n",
        "- Access to GPUs free of charge\n",
        "- Easy sharing\n",
        "\n",
        "Whether you're a **student**, a **data scientist** or an **AI researcher**, Colab can make your work easier. Watch [Introduction to Colab](https://www.youtube.com/watch?v=inN8seMm7UI) or [Colab Features You May Have Missed](https://www.youtube.com/watch?v=rNgswRZ2C1Y) to learn more, or just get started below!"
      ]
    },
    {
      "cell_type": "markdown",
      "metadata": {
        "id": "GJBs_flRovLc"
      },
      "source": [
        "<div class=\"markdown-google-sans\">\n",
        "\n",
        "## **Getting started**\n",
        "</div>\n",
        "\n",
        "The document you are reading is not a static web page, but an interactive environment called a **Colab notebook** that lets you write and execute code.\n",
        "\n",
        "For example, here is a **code cell** with a short Python script that computes a value, stores it in a variable, and prints the result:"
      ]
    },
    {
      "cell_type": "code",
      "execution_count": null,
      "metadata": {
        "id": "gJr_9dXGpJ05",
        "outputId": "beb4aaca-6eac-4b30-f2ff-ea4308968122"
      },
      "outputs": [
        {
          "data": {
            "text/plain": [
              "86400"
            ]
          },
          "execution_count": 0,
          "metadata": {},
          "output_type": "execute_result"
        }
      ],
      "source": [
        "seconds_in_a_day = 24 * 60 * 60\n",
        "seconds_in_a_day"
      ]
    },
    {
      "cell_type": "markdown",
      "metadata": {
        "id": "2fhs6GZ4qFMx"
      },
      "source": [
        "To execute the code in the above cell, select it with a click and then either press the play button to the left of the code, or use the keyboard shortcut \"Command/Ctrl+Enter\". To edit the code, just click the cell and start editing.\n",
        "\n",
        "Variables that you define in one cell can later be used in other cells:"
      ]
    },
    {
      "cell_type": "code",
      "execution_count": null,
      "metadata": {
        "id": "-gE-Ez1qtyIA",
        "outputId": "e8f0c2b1-3c1e-4476-f8c2-d8f31cdb5e75"
      },
      "outputs": [
        {
          "data": {
            "text/plain": [
              "604800"
            ]
          },
          "execution_count": 0,
          "metadata": {},
          "output_type": "execute_result"
        }
      ],
      "source": [
        "seconds_in_a_week = 7 * seconds_in_a_day\n",
        "seconds_in_a_week"
      ]
    },
    {
      "cell_type": "markdown",
      "metadata": {
        "id": "lSrWNr3MuFUS"
      },
      "source": [
        "Colab notebooks allow you to combine **executable code** and **rich text** in a single document, along with **images**, **HTML**, **LaTeX** and more. When you create your own Colab notebooks, they are stored in your Google Drive account. You can easily share your Colab notebooks with co-workers or friends, allowing them to comment on your notebooks or even edit them. To learn more, see [Overview of Colab](/notebooks/basic_features_overview.ipynb). To create a new Colab notebook you can use the File menu above, or use the following link: [create a new Colab notebook](http://colab.research.google.com#create=true).\n",
        "\n",
        "Colab notebooks are Jupyter notebooks that are hosted by Colab. To learn more about the Jupyter project, see [jupyter.org](https://www.jupyter.org)."
      ]
    },
    {
      "cell_type": "markdown",
      "metadata": {
        "id": "UdRyKR44dcNI"
      },
      "source": [
        "<div class=\"markdown-google-sans\">\n",
        "\n",
        "## Data science\n",
        "</div>\n",
        "\n",
        "With Colab you can harness the full power of popular Python libraries to analyze and visualize data. The code cell below uses **numpy** to generate some random data, and uses **matplotlib** to visualize it. To edit the code, just click the cell and start editing."
      ]
    },
    {
      "cell_type": "markdown",
      "metadata": {
        "id": "4_kCnsPUqS6o"
      },
      "source": [
        "You can import your own data into Colab notebooks from your Google Drive account, including from spreadsheets, as well as from Github and many other sources. To learn more about importing data, and how Colab can be used for data science, see the links below under [Working with Data](#working-with-data)."
      ]
    },
    {
      "cell_type": "code",
      "execution_count": null,
      "metadata": {
        "colab": {
          "height": 249
        },
        "id": "C4HZx7Gndbrh",
        "outputId": "65838ba2-0ea9-41b7-e3f9-a725be449d3b"
      },
      "outputs": [
        {
          "data": {
            "text/markdown": [
              "![Sample Visualization](data:image/png;base64,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)"
            ],
            "text/plain": [
              "<IPython.core.display.Markdown object>"
            ]
          },
          "metadata": {},
          "output_type": "display_data"
        }
      ],
      "source": [
        "import numpy as np\n",
        "import IPython.display as display\n",
        "from matplotlib import pyplot as plt\n",
        "import io\n",
        "import base64\n",
        "\n",
        "ys = 200 + np.random.randn(100)\n",
        "x = [x for x in range(len(ys))]\n",
        "\n",
        "fig = plt.figure(figsize=(4, 3), facecolor='w')\n",
        "plt.plot(x, ys, '-')\n",
        "plt.fill_between(x, ys, 195, where=(ys > 195), facecolor='g', alpha=0.6)\n",
        "plt.title(\"Sample Visualization\", fontsize=10)\n",
        "\n",
        "data = io.BytesIO()\n",
        "plt.savefig(data)\n",
        "image = F\"data:image/png;base64,{base64.b64encode(data.getvalue()).decode()}\"\n",
        "alt = \"Sample Visualization\"\n",
        "display.display(display.Markdown(F\"\"\"![{alt}]({image})\"\"\"))\n",
        "plt.close(fig)"
      ]
    },
    {
      "cell_type": "markdown",
      "metadata": {
        "id": "VYV91hbKwP2J"
      },
      "source": [
        "Colab notebooks execute code on Google's cloud servers, meaning you can leverage the power of Google hardware, including [GPUs and TPUs](#using-accelerated-hardware), regardless of the power of your machine. All you need is a browser.\n",
        "\n",
        "For example, if you find yourself waiting for **pandas** code to finish running and want to go faster, you can switch to a GPU Runtime and use libraries like [RAPIDS cuDF](https://rapids.ai/cudf-pandas) that provide zero-code-change acceleration."
      ]
    },
    {
      "cell_type": "markdown",
      "metadata": {
        "id": "vwnNlNIEwoZ8"
      },
      "source": [
        "To learn more about accelerating pandas on Colab, see the [10 minute guide](https://colab.research.google.com/github/rapidsai-community/showcase/blob/main/getting_started_tutorials/cudf_pandas_colab_demo.ipynb) or\n",
        " [US stock market data analysis demo](https://colab.research.google.com/github/rapidsai-community/showcase/blob/main/getting_started_tutorials/cudf_pandas_stocks_demo.ipynb)."
      ]
    },
    {
      "cell_type": "markdown",
      "metadata": {
        "id": "OwuxHmxllTwN"
      },
      "source": [
        "<div class=\"markdown-google-sans\">\n",
        "\n",
        "## Machine learning\n",
        "</div>\n",
        "\n",
        "With Colab you can import an image dataset, train an image classifier on it, and evaluate the model, all in just [a few lines of code](https://colab.research.google.com/github/tensorflow/docs/blob/master/site/en/tutorials/quickstart/beginner.ipynb)."
      ]
    },
    {
      "cell_type": "markdown",
      "metadata": {
        "id": "ufxBm1yRnruN"
      },
      "source": [
        "Colab is used extensively in the machine learning community with applications including:\n",
        "- Getting started with TensorFlow\n",
        "- Developing and training neural networks\n",
        "- Experimenting with TPUs\n",
        "- Disseminating AI research\n",
        "- Creating tutorials\n",
        "\n",
        "To see sample Colab notebooks that demonstrate machine learning applications, see the [machine learning examples](#machine-learning-examples) below."
      ]
    },
    {
      "cell_type": "markdown",
      "metadata": {
        "id": "-Rh3-Vt9Nev9"
      },
      "source": [
        "<div class=\"markdown-google-sans\">\n",
        "\n",
        "## More Resources\n",
        "\n",
        "### Working with Notebooks in Colab\n",
        "\n",
        "</div>\n",
        "\n",
        "- [Overview of Colab](/notebooks/basic_features_overview.ipynb)\n",
        "- [Guide to Markdown](/notebooks/markdown_guide.ipynb)\n",
        "- [Importing libraries and installing dependencies](/notebooks/snippets/importing_libraries.ipynb)\n",
        "- [Saving and loading notebooks in GitHub](https://colab.research.google.com/github/googlecolab/colabtools/blob/main/notebooks/colab-github-demo.ipynb)\n",
        "- [Interactive forms](/notebooks/forms.ipynb)\n",
        "- [Interactive widgets](/notebooks/widgets.ipynb)\n",
        "\n",
        "<div class=\"markdown-google-sans\">\n",
        "\n",
        "<a name=\"working-with-data\"></a>\n",
        "### Working with Data\n",
        "</div>\n",
        "\n",
        "- [Loading data: Drive, Sheets, and Google Cloud Storage](/notebooks/io.ipynb)\n",
        "- [Charts: visualizing data](/notebooks/charts.ipynb)\n",
        "- [Getting started with BigQuery](/notebooks/bigquery.ipynb)\n",
        "\n",
        "<div class=\"markdown-google-sans\">\n",
        "\n",
        "### Machine Learning Crash Course\n",
        "\n",
        "<div>\n",
        "\n",
        "These are a few of the notebooks from Google's online Machine Learning course. See the [full course website](https://developers.google.com/machine-learning/crash-course/) for more.\n",
        "- [Intro to Pandas DataFrame](https://colab.research.google.com/github/google/eng-edu/blob/main/ml/cc/exercises/pandas_dataframe_ultraquick_tutorial.ipynb)\n",
        "- [Intro to RAPIDS cuDF to accelerate pandas](https://nvda.ws/rapids-cudf)\n",
        "- [Linear regression with tf.keras using synthetic data](https://colab.research.google.com/github/google/eng-edu/blob/main/ml/cc/exercises/linear_regression_with_synthetic_data.ipynb)\n",
        "\n",
        "<div class=\"markdown-google-sans\">\n",
        "\n",
        "<a name=\"using-accelerated-hardware\"></a>\n",
        "### Using Accelerated Hardware\n",
        "</div>\n",
        "\n",
        "- [TensorFlow with GPUs](/notebooks/gpu.ipynb)\n",
        "- [TensorFlow with TPUs](/notebooks/tpu.ipynb)"
      ]
    },
    {
      "cell_type": "markdown",
      "metadata": {
        "id": "P-H6Lw1vyNNd"
      },
      "source": [
        "<div class=\"markdown-google-sans\">\n",
        "\n",
        "<a name=\"machine-learning-examples\"></a>\n",
        "\n",
        "### Featured examples\n",
        "\n",
        "</div>\n",
        "\n",
        "- [Retraining an Image Classifier](https://tensorflow.org/hub/tutorials/tf2_image_retraining): Build a Keras model on top of a pre-trained image classifier to distinguish flowers.\n",
        "- [Text Classification](https://tensorflow.org/hub/tutorials/tf2_text_classification): Classify IMDB movie reviews as either *positive* or *negative*.\n",
        "- [Style Transfer](https://tensorflow.org/hub/tutorials/tf2_arbitrary_image_stylization): Use deep learning to transfer style between images.\n",
        "- [Multilingual Universal Sentence Encoder Q&A](https://tensorflow.org/hub/tutorials/retrieval_with_tf_hub_universal_encoder_qa): Use a machine learning model to answer questions from the SQuAD dataset.\n",
        "- [Video Interpolation](https://tensorflow.org/hub/tutorials/tweening_conv3d): Predict what happened in a video between the first and the last frame.\n"
      ]
    }
  ],
  "metadata": {
    "colab": {
      "name": "Welcome To Colab",
      "toc_visible": true,
      "provenance": [],
      "include_colab_link": true
    },
    "kernelspec": {
      "display_name": "Python 3",
      "name": "python3"
    }
  },
  "nbformat": 4,
  "nbformat_minor": 0
}